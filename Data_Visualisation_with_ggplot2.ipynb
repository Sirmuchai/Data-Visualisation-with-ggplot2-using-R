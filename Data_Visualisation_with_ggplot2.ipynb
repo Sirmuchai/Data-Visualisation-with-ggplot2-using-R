{
  "nbformat": 4,
  "nbformat_minor": 0,
  "metadata": {
    "colab": {
      "provenance": [],
      "authorship_tag": "ABX9TyMAsHKAhf40iVq7dnGboLZv",
      "include_colab_link": true
    },
    "kernelspec": {
      "name": "ir",
      "display_name": "R"
    },
    "language_info": {
      "name": "R"
    }
  },
  "cells": [
    {
      "cell_type": "markdown",
      "metadata": {
        "id": "view-in-github",
        "colab_type": "text"
      },
      "source": [
        "<a href=\"https://colab.research.google.com/github/Sirmuchai/Data-Visualisation-with-ggplot2-using-R/blob/main/Data_Visualisation_with_ggplot2.ipynb\" target=\"_parent\"><img src=\"https://colab.research.google.com/assets/colab-badge.svg\" alt=\"Open In Colab\"/></a>"
      ]
    },
    {
      "cell_type": "markdown",
      "source": [
        "\n",
        "# Data Visualisation with ggplot2 using R\n",
        "\n",
        "### Dataset Overview\n",
        "* This data set contains booking information for a city hotel and a resort hotel. It includes\n",
        "information such as when customers made the booking, length of stay, the number of adults,\n",
        "children, or babies, and the number of available parking spaces, among other things.\n",
        "* We have removed personally identifying information from the dataset.\n",
        "* **Dataset Download Link**: https://bit.ly/2WvQbhJ\n",
        "* NB: You need to download this file.\n",
        "\n",
        "\n",
        "## 1. Defining the Question\n",
        "\n",
        "### a) Specifying the Data Analysis Question\n",
        "Provide strategy recommendations that will lead to revenue growth.\n",
        "\n",
        "### b) Defining the Metric for Success\n",
        "The solutions to the following questions will help us answer our research question:\n",
        "\n",
        "* When is the best time of year to book a hotel room?\n",
        "* When is the optimal length of stay in order to get the best daily rate?\n",
        "* How will you know if a hotel was likely to receive a disproportionately high number of special requests?\n",
        "\n",
        "### c) Understanding the context\n",
        "The dataset provided contains information on the various chain of hotels, including when customers made, the booking, length of stay, the number of adults, children, or babies, and the number of available parking spaces, among other things.\n",
        "Using that data, we are supposed to offer a startegy for the hotel on revenue growth\n",
        "\n",
        "### d) Recording the Experimental Design\n",
        "By analysing data for the below questions, better strategy recommendations will be provided:\n",
        "\n",
        "* How many bookings were canceled?\n",
        "* What was the booking ratio between resort hotels and city hotels?\n",
        "* What was the percentage of booking for each year?\n",
        "* Which was the busiest month for hotels?\n",
        "* Most guests came from which country?\n",
        "* How long do most people stay in hotels?\n",
        "* Which was the most booked accommodation type (Single, Couple, Family)?\n",
        "\n",
        "### e) Data Relevance\n",
        "How relevant was the provided data?\n"
      ],
      "metadata": {
        "id": "GxGhj6ae5T0v"
      }
    },
    {
      "cell_type": "markdown",
      "source": [
        "### 1. Pre requisite"
      ],
      "metadata": {
        "id": "eZ2krzXh5YAU"
      }
    },
    {
      "cell_type": "code",
      "execution_count": 1,
      "metadata": {
        "colab": {
          "base_uri": "https://localhost:8080/"
        },
        "id": "2kdO6ZrW46ZH",
        "outputId": "e9fd809f-d366-43ce-d3bb-2f395ade051b"
      },
      "outputs": [
        {
          "output_type": "stream",
          "name": "stderr",
          "text": [
            "Installing package into ‘/usr/local/lib/R/site-library’\n",
            "(as ‘lib’ is unspecified)\n",
            "\n"
          ]
        }
      ],
      "source": [
        "# Let's install tidyverse packages in Rstudio\n",
        "install.packages(\"tidyverse\")"
      ]
    },
    {
      "cell_type": "code",
      "source": [
        "library(tidyverse)"
      ],
      "metadata": {
        "colab": {
          "base_uri": "https://localhost:8080/"
        },
        "id": "Ex8QqRDL5d6f",
        "outputId": "86aecd87-04e7-4359-e7e8-5f8873695e00"
      },
      "execution_count": 2,
      "outputs": [
        {
          "output_type": "stream",
          "name": "stderr",
          "text": [
            "Warning message in system(\"timedatectl\", intern = TRUE):\n",
            "“running command 'timedatectl' had status 1”\n",
            "── \u001b[1mAttaching packages\u001b[22m ─────────────────────────────────────── tidyverse 1.3.2 ──\n",
            "\u001b[32m✔\u001b[39m \u001b[34mggplot2\u001b[39m 3.4.1     \u001b[32m✔\u001b[39m \u001b[34mpurrr  \u001b[39m 1.0.1\n",
            "\u001b[32m✔\u001b[39m \u001b[34mtibble \u001b[39m 3.1.8     \u001b[32m✔\u001b[39m \u001b[34mdplyr  \u001b[39m 1.1.0\n",
            "\u001b[32m✔\u001b[39m \u001b[34mtidyr  \u001b[39m 1.3.0     \u001b[32m✔\u001b[39m \u001b[34mstringr\u001b[39m 1.4.1\n",
            "\u001b[32m✔\u001b[39m \u001b[34mreadr  \u001b[39m 2.1.4     \u001b[32m✔\u001b[39m \u001b[34mforcats\u001b[39m 1.0.0\n",
            "── \u001b[1mConflicts\u001b[22m ────────────────────────────────────────── tidyverse_conflicts() ──\n",
            "\u001b[31m✖\u001b[39m \u001b[34mdplyr\u001b[39m::\u001b[32mfilter()\u001b[39m masks \u001b[34mstats\u001b[39m::filter()\n",
            "\u001b[31m✖\u001b[39m \u001b[34mdplyr\u001b[39m::\u001b[32mlag()\u001b[39m    masks \u001b[34mstats\u001b[39m::lag()\n"
          ]
        }
      ]
    },
    {
      "cell_type": "markdown",
      "source": [
        "### 2. Reading the Data\n",
        "To work with a dataset, we need to import it and understand its structure."
      ],
      "metadata": {
        "id": "40LnTH9u5gOr"
      }
    },
    {
      "cell_type": "code",
      "source": [
        "# Load the data below\n",
        "# --- \n",
        "# Dataset url = save in google drive\n",
        "hotel_bookings = \"https://drive.google.com/uc?id=1Mv9qzz6o4umVFAhWs6AvJC1bMfJe9jN9&export=download\"\n",
        "\n",
        "# --- \n",
        "# YOUR CODE GOES BELOW\n",
        "\n",
        "hotel_booking_df <- read.csv(hotel_bookings)\n",
        "head(hotel_booking_df)"
      ],
      "metadata": {
        "colab": {
          "base_uri": "https://localhost:8080/",
          "height": 410
        },
        "id": "MjsHigBb5e70",
        "outputId": "4478f151-3a1e-4b52-db5e-343ff1aaa2c2"
      },
      "execution_count": 4,
      "outputs": [
        {
          "output_type": "display_data",
          "data": {
            "text/html": [
              "<table class=\"dataframe\">\n",
              "<caption>A data.frame: 6 × 32</caption>\n",
              "<thead>\n",
              "\t<tr><th></th><th scope=col>hotel</th><th scope=col>is_canceled</th><th scope=col>lead_time</th><th scope=col>arrival_date_year</th><th scope=col>arrival_date_month</th><th scope=col>arrival_date_week_number</th><th scope=col>arrival_date_day_of_month</th><th scope=col>stays_in_weekend_nights</th><th scope=col>stays_in_week_nights</th><th scope=col>adults</th><th scope=col>⋯</th><th scope=col>deposit_type</th><th scope=col>agent</th><th scope=col>company</th><th scope=col>days_in_waiting_list</th><th scope=col>customer_type</th><th scope=col>adr</th><th scope=col>required_car_parking_spaces</th><th scope=col>total_of_special_requests</th><th scope=col>reservation_status</th><th scope=col>reservation_status_date</th></tr>\n",
              "\t<tr><th></th><th scope=col>&lt;chr&gt;</th><th scope=col>&lt;int&gt;</th><th scope=col>&lt;int&gt;</th><th scope=col>&lt;int&gt;</th><th scope=col>&lt;chr&gt;</th><th scope=col>&lt;int&gt;</th><th scope=col>&lt;int&gt;</th><th scope=col>&lt;int&gt;</th><th scope=col>&lt;int&gt;</th><th scope=col>&lt;int&gt;</th><th scope=col>⋯</th><th scope=col>&lt;chr&gt;</th><th scope=col>&lt;chr&gt;</th><th scope=col>&lt;chr&gt;</th><th scope=col>&lt;int&gt;</th><th scope=col>&lt;chr&gt;</th><th scope=col>&lt;dbl&gt;</th><th scope=col>&lt;int&gt;</th><th scope=col>&lt;int&gt;</th><th scope=col>&lt;chr&gt;</th><th scope=col>&lt;chr&gt;</th></tr>\n",
              "</thead>\n",
              "<tbody>\n",
              "\t<tr><th scope=row>1</th><td>Resort Hotel</td><td>0</td><td>342</td><td>2015</td><td>July</td><td>27</td><td>1</td><td>0</td><td>0</td><td>2</td><td>⋯</td><td>No Deposit</td><td>NULL</td><td>NULL</td><td>0</td><td>Transient</td><td> 0</td><td>0</td><td>0</td><td>Check-Out</td><td>2015-07-01</td></tr>\n",
              "\t<tr><th scope=row>2</th><td>Resort Hotel</td><td>0</td><td>737</td><td>2015</td><td>July</td><td>27</td><td>1</td><td>0</td><td>0</td><td>2</td><td>⋯</td><td>No Deposit</td><td>NULL</td><td>NULL</td><td>0</td><td>Transient</td><td> 0</td><td>0</td><td>0</td><td>Check-Out</td><td>2015-07-01</td></tr>\n",
              "\t<tr><th scope=row>3</th><td>Resort Hotel</td><td>0</td><td>  7</td><td>2015</td><td>July</td><td>27</td><td>1</td><td>0</td><td>1</td><td>1</td><td>⋯</td><td>No Deposit</td><td>NULL</td><td>NULL</td><td>0</td><td>Transient</td><td>75</td><td>0</td><td>0</td><td>Check-Out</td><td>2015-07-02</td></tr>\n",
              "\t<tr><th scope=row>4</th><td>Resort Hotel</td><td>0</td><td> 13</td><td>2015</td><td>July</td><td>27</td><td>1</td><td>0</td><td>1</td><td>1</td><td>⋯</td><td>No Deposit</td><td>304 </td><td>NULL</td><td>0</td><td>Transient</td><td>75</td><td>0</td><td>0</td><td>Check-Out</td><td>2015-07-02</td></tr>\n",
              "\t<tr><th scope=row>5</th><td>Resort Hotel</td><td>0</td><td> 14</td><td>2015</td><td>July</td><td>27</td><td>1</td><td>0</td><td>2</td><td>2</td><td>⋯</td><td>No Deposit</td><td>240 </td><td>NULL</td><td>0</td><td>Transient</td><td>98</td><td>0</td><td>1</td><td>Check-Out</td><td>2015-07-03</td></tr>\n",
              "\t<tr><th scope=row>6</th><td>Resort Hotel</td><td>0</td><td> 14</td><td>2015</td><td>July</td><td>27</td><td>1</td><td>0</td><td>2</td><td>2</td><td>⋯</td><td>No Deposit</td><td>240 </td><td>NULL</td><td>0</td><td>Transient</td><td>98</td><td>0</td><td>1</td><td>Check-Out</td><td>2015-07-03</td></tr>\n",
              "</tbody>\n",
              "</table>\n"
            ],
            "text/markdown": "\nA data.frame: 6 × 32\n\n| <!--/--> | hotel &lt;chr&gt; | is_canceled &lt;int&gt; | lead_time &lt;int&gt; | arrival_date_year &lt;int&gt; | arrival_date_month &lt;chr&gt; | arrival_date_week_number &lt;int&gt; | arrival_date_day_of_month &lt;int&gt; | stays_in_weekend_nights &lt;int&gt; | stays_in_week_nights &lt;int&gt; | adults &lt;int&gt; | ⋯ ⋯ | deposit_type &lt;chr&gt; | agent &lt;chr&gt; | company &lt;chr&gt; | days_in_waiting_list &lt;int&gt; | customer_type &lt;chr&gt; | adr &lt;dbl&gt; | required_car_parking_spaces &lt;int&gt; | total_of_special_requests &lt;int&gt; | reservation_status &lt;chr&gt; | reservation_status_date &lt;chr&gt; |\n|---|---|---|---|---|---|---|---|---|---|---|---|---|---|---|---|---|---|---|---|---|---|\n| 1 | Resort Hotel | 0 | 342 | 2015 | July | 27 | 1 | 0 | 0 | 2 | ⋯ | No Deposit | NULL | NULL | 0 | Transient |  0 | 0 | 0 | Check-Out | 2015-07-01 |\n| 2 | Resort Hotel | 0 | 737 | 2015 | July | 27 | 1 | 0 | 0 | 2 | ⋯ | No Deposit | NULL | NULL | 0 | Transient |  0 | 0 | 0 | Check-Out | 2015-07-01 |\n| 3 | Resort Hotel | 0 |   7 | 2015 | July | 27 | 1 | 0 | 1 | 1 | ⋯ | No Deposit | NULL | NULL | 0 | Transient | 75 | 0 | 0 | Check-Out | 2015-07-02 |\n| 4 | Resort Hotel | 0 |  13 | 2015 | July | 27 | 1 | 0 | 1 | 1 | ⋯ | No Deposit | 304  | NULL | 0 | Transient | 75 | 0 | 0 | Check-Out | 2015-07-02 |\n| 5 | Resort Hotel | 0 |  14 | 2015 | July | 27 | 1 | 0 | 2 | 2 | ⋯ | No Deposit | 240  | NULL | 0 | Transient | 98 | 0 | 1 | Check-Out | 2015-07-03 |\n| 6 | Resort Hotel | 0 |  14 | 2015 | July | 27 | 1 | 0 | 2 | 2 | ⋯ | No Deposit | 240  | NULL | 0 | Transient | 98 | 0 | 1 | Check-Out | 2015-07-03 |\n\n",
            "text/latex": "A data.frame: 6 × 32\n\\begin{tabular}{r|lllllllllllllllllllll}\n  & hotel & is\\_canceled & lead\\_time & arrival\\_date\\_year & arrival\\_date\\_month & arrival\\_date\\_week\\_number & arrival\\_date\\_day\\_of\\_month & stays\\_in\\_weekend\\_nights & stays\\_in\\_week\\_nights & adults & ⋯ & deposit\\_type & agent & company & days\\_in\\_waiting\\_list & customer\\_type & adr & required\\_car\\_parking\\_spaces & total\\_of\\_special\\_requests & reservation\\_status & reservation\\_status\\_date\\\\\n  & <chr> & <int> & <int> & <int> & <chr> & <int> & <int> & <int> & <int> & <int> & ⋯ & <chr> & <chr> & <chr> & <int> & <chr> & <dbl> & <int> & <int> & <chr> & <chr>\\\\\n\\hline\n\t1 & Resort Hotel & 0 & 342 & 2015 & July & 27 & 1 & 0 & 0 & 2 & ⋯ & No Deposit & NULL & NULL & 0 & Transient &  0 & 0 & 0 & Check-Out & 2015-07-01\\\\\n\t2 & Resort Hotel & 0 & 737 & 2015 & July & 27 & 1 & 0 & 0 & 2 & ⋯ & No Deposit & NULL & NULL & 0 & Transient &  0 & 0 & 0 & Check-Out & 2015-07-01\\\\\n\t3 & Resort Hotel & 0 &   7 & 2015 & July & 27 & 1 & 0 & 1 & 1 & ⋯ & No Deposit & NULL & NULL & 0 & Transient & 75 & 0 & 0 & Check-Out & 2015-07-02\\\\\n\t4 & Resort Hotel & 0 &  13 & 2015 & July & 27 & 1 & 0 & 1 & 1 & ⋯ & No Deposit & 304  & NULL & 0 & Transient & 75 & 0 & 0 & Check-Out & 2015-07-02\\\\\n\t5 & Resort Hotel & 0 &  14 & 2015 & July & 27 & 1 & 0 & 2 & 2 & ⋯ & No Deposit & 240  & NULL & 0 & Transient & 98 & 0 & 1 & Check-Out & 2015-07-03\\\\\n\t6 & Resort Hotel & 0 &  14 & 2015 & July & 27 & 1 & 0 & 2 & 2 & ⋯ & No Deposit & 240  & NULL & 0 & Transient & 98 & 0 & 1 & Check-Out & 2015-07-03\\\\\n\\end{tabular}\n",
            "text/plain": [
              "  hotel        is_canceled lead_time arrival_date_year arrival_date_month\n",
              "1 Resort Hotel 0           342       2015              July              \n",
              "2 Resort Hotel 0           737       2015              July              \n",
              "3 Resort Hotel 0             7       2015              July              \n",
              "4 Resort Hotel 0            13       2015              July              \n",
              "5 Resort Hotel 0            14       2015              July              \n",
              "6 Resort Hotel 0            14       2015              July              \n",
              "  arrival_date_week_number arrival_date_day_of_month stays_in_weekend_nights\n",
              "1 27                       1                         0                      \n",
              "2 27                       1                         0                      \n",
              "3 27                       1                         0                      \n",
              "4 27                       1                         0                      \n",
              "5 27                       1                         0                      \n",
              "6 27                       1                         0                      \n",
              "  stays_in_week_nights adults ⋯ deposit_type agent company days_in_waiting_list\n",
              "1 0                    2      ⋯ No Deposit   NULL  NULL    0                   \n",
              "2 0                    2      ⋯ No Deposit   NULL  NULL    0                   \n",
              "3 1                    1      ⋯ No Deposit   NULL  NULL    0                   \n",
              "4 1                    1      ⋯ No Deposit   304   NULL    0                   \n",
              "5 2                    2      ⋯ No Deposit   240   NULL    0                   \n",
              "6 2                    2      ⋯ No Deposit   240   NULL    0                   \n",
              "  customer_type adr required_car_parking_spaces total_of_special_requests\n",
              "1 Transient      0  0                           0                        \n",
              "2 Transient      0  0                           0                        \n",
              "3 Transient     75  0                           0                        \n",
              "4 Transient     75  0                           0                        \n",
              "5 Transient     98  0                           1                        \n",
              "6 Transient     98  0                           1                        \n",
              "  reservation_status reservation_status_date\n",
              "1 Check-Out          2015-07-01             \n",
              "2 Check-Out          2015-07-01             \n",
              "3 Check-Out          2015-07-02             \n",
              "4 Check-Out          2015-07-02             \n",
              "5 Check-Out          2015-07-03             \n",
              "6 Check-Out          2015-07-03             "
            ]
          },
          "metadata": {}
        }
      ]
    },
    {
      "cell_type": "code",
      "source": [
        "\n",
        "# Checking the first 5 rows of data\n",
        "# ---\n",
        "# YOUR CODE GOES BELOW\n",
        "# \n",
        "head(hotel_booking_df, 5)"
      ],
      "metadata": {
        "colab": {
          "base_uri": "https://localhost:8080/",
          "height": 362
        },
        "id": "QDF2A2Ul9yGx",
        "outputId": "6afa1fe9-1e90-4c40-faeb-28e35fa56734"
      },
      "execution_count": 5,
      "outputs": [
        {
          "output_type": "display_data",
          "data": {
            "text/html": [
              "<table class=\"dataframe\">\n",
              "<caption>A data.frame: 5 × 32</caption>\n",
              "<thead>\n",
              "\t<tr><th></th><th scope=col>hotel</th><th scope=col>is_canceled</th><th scope=col>lead_time</th><th scope=col>arrival_date_year</th><th scope=col>arrival_date_month</th><th scope=col>arrival_date_week_number</th><th scope=col>arrival_date_day_of_month</th><th scope=col>stays_in_weekend_nights</th><th scope=col>stays_in_week_nights</th><th scope=col>adults</th><th scope=col>⋯</th><th scope=col>deposit_type</th><th scope=col>agent</th><th scope=col>company</th><th scope=col>days_in_waiting_list</th><th scope=col>customer_type</th><th scope=col>adr</th><th scope=col>required_car_parking_spaces</th><th scope=col>total_of_special_requests</th><th scope=col>reservation_status</th><th scope=col>reservation_status_date</th></tr>\n",
              "\t<tr><th></th><th scope=col>&lt;chr&gt;</th><th scope=col>&lt;int&gt;</th><th scope=col>&lt;int&gt;</th><th scope=col>&lt;int&gt;</th><th scope=col>&lt;chr&gt;</th><th scope=col>&lt;int&gt;</th><th scope=col>&lt;int&gt;</th><th scope=col>&lt;int&gt;</th><th scope=col>&lt;int&gt;</th><th scope=col>&lt;int&gt;</th><th scope=col>⋯</th><th scope=col>&lt;chr&gt;</th><th scope=col>&lt;chr&gt;</th><th scope=col>&lt;chr&gt;</th><th scope=col>&lt;int&gt;</th><th scope=col>&lt;chr&gt;</th><th scope=col>&lt;dbl&gt;</th><th scope=col>&lt;int&gt;</th><th scope=col>&lt;int&gt;</th><th scope=col>&lt;chr&gt;</th><th scope=col>&lt;chr&gt;</th></tr>\n",
              "</thead>\n",
              "<tbody>\n",
              "\t<tr><th scope=row>1</th><td>Resort Hotel</td><td>0</td><td>342</td><td>2015</td><td>July</td><td>27</td><td>1</td><td>0</td><td>0</td><td>2</td><td>⋯</td><td>No Deposit</td><td>NULL</td><td>NULL</td><td>0</td><td>Transient</td><td> 0</td><td>0</td><td>0</td><td>Check-Out</td><td>2015-07-01</td></tr>\n",
              "\t<tr><th scope=row>2</th><td>Resort Hotel</td><td>0</td><td>737</td><td>2015</td><td>July</td><td>27</td><td>1</td><td>0</td><td>0</td><td>2</td><td>⋯</td><td>No Deposit</td><td>NULL</td><td>NULL</td><td>0</td><td>Transient</td><td> 0</td><td>0</td><td>0</td><td>Check-Out</td><td>2015-07-01</td></tr>\n",
              "\t<tr><th scope=row>3</th><td>Resort Hotel</td><td>0</td><td>  7</td><td>2015</td><td>July</td><td>27</td><td>1</td><td>0</td><td>1</td><td>1</td><td>⋯</td><td>No Deposit</td><td>NULL</td><td>NULL</td><td>0</td><td>Transient</td><td>75</td><td>0</td><td>0</td><td>Check-Out</td><td>2015-07-02</td></tr>\n",
              "\t<tr><th scope=row>4</th><td>Resort Hotel</td><td>0</td><td> 13</td><td>2015</td><td>July</td><td>27</td><td>1</td><td>0</td><td>1</td><td>1</td><td>⋯</td><td>No Deposit</td><td>304 </td><td>NULL</td><td>0</td><td>Transient</td><td>75</td><td>0</td><td>0</td><td>Check-Out</td><td>2015-07-02</td></tr>\n",
              "\t<tr><th scope=row>5</th><td>Resort Hotel</td><td>0</td><td> 14</td><td>2015</td><td>July</td><td>27</td><td>1</td><td>0</td><td>2</td><td>2</td><td>⋯</td><td>No Deposit</td><td>240 </td><td>NULL</td><td>0</td><td>Transient</td><td>98</td><td>0</td><td>1</td><td>Check-Out</td><td>2015-07-03</td></tr>\n",
              "</tbody>\n",
              "</table>\n"
            ],
            "text/markdown": "\nA data.frame: 5 × 32\n\n| <!--/--> | hotel &lt;chr&gt; | is_canceled &lt;int&gt; | lead_time &lt;int&gt; | arrival_date_year &lt;int&gt; | arrival_date_month &lt;chr&gt; | arrival_date_week_number &lt;int&gt; | arrival_date_day_of_month &lt;int&gt; | stays_in_weekend_nights &lt;int&gt; | stays_in_week_nights &lt;int&gt; | adults &lt;int&gt; | ⋯ ⋯ | deposit_type &lt;chr&gt; | agent &lt;chr&gt; | company &lt;chr&gt; | days_in_waiting_list &lt;int&gt; | customer_type &lt;chr&gt; | adr &lt;dbl&gt; | required_car_parking_spaces &lt;int&gt; | total_of_special_requests &lt;int&gt; | reservation_status &lt;chr&gt; | reservation_status_date &lt;chr&gt; |\n|---|---|---|---|---|---|---|---|---|---|---|---|---|---|---|---|---|---|---|---|---|---|\n| 1 | Resort Hotel | 0 | 342 | 2015 | July | 27 | 1 | 0 | 0 | 2 | ⋯ | No Deposit | NULL | NULL | 0 | Transient |  0 | 0 | 0 | Check-Out | 2015-07-01 |\n| 2 | Resort Hotel | 0 | 737 | 2015 | July | 27 | 1 | 0 | 0 | 2 | ⋯ | No Deposit | NULL | NULL | 0 | Transient |  0 | 0 | 0 | Check-Out | 2015-07-01 |\n| 3 | Resort Hotel | 0 |   7 | 2015 | July | 27 | 1 | 0 | 1 | 1 | ⋯ | No Deposit | NULL | NULL | 0 | Transient | 75 | 0 | 0 | Check-Out | 2015-07-02 |\n| 4 | Resort Hotel | 0 |  13 | 2015 | July | 27 | 1 | 0 | 1 | 1 | ⋯ | No Deposit | 304  | NULL | 0 | Transient | 75 | 0 | 0 | Check-Out | 2015-07-02 |\n| 5 | Resort Hotel | 0 |  14 | 2015 | July | 27 | 1 | 0 | 2 | 2 | ⋯ | No Deposit | 240  | NULL | 0 | Transient | 98 | 0 | 1 | Check-Out | 2015-07-03 |\n\n",
            "text/latex": "A data.frame: 5 × 32\n\\begin{tabular}{r|lllllllllllllllllllll}\n  & hotel & is\\_canceled & lead\\_time & arrival\\_date\\_year & arrival\\_date\\_month & arrival\\_date\\_week\\_number & arrival\\_date\\_day\\_of\\_month & stays\\_in\\_weekend\\_nights & stays\\_in\\_week\\_nights & adults & ⋯ & deposit\\_type & agent & company & days\\_in\\_waiting\\_list & customer\\_type & adr & required\\_car\\_parking\\_spaces & total\\_of\\_special\\_requests & reservation\\_status & reservation\\_status\\_date\\\\\n  & <chr> & <int> & <int> & <int> & <chr> & <int> & <int> & <int> & <int> & <int> & ⋯ & <chr> & <chr> & <chr> & <int> & <chr> & <dbl> & <int> & <int> & <chr> & <chr>\\\\\n\\hline\n\t1 & Resort Hotel & 0 & 342 & 2015 & July & 27 & 1 & 0 & 0 & 2 & ⋯ & No Deposit & NULL & NULL & 0 & Transient &  0 & 0 & 0 & Check-Out & 2015-07-01\\\\\n\t2 & Resort Hotel & 0 & 737 & 2015 & July & 27 & 1 & 0 & 0 & 2 & ⋯ & No Deposit & NULL & NULL & 0 & Transient &  0 & 0 & 0 & Check-Out & 2015-07-01\\\\\n\t3 & Resort Hotel & 0 &   7 & 2015 & July & 27 & 1 & 0 & 1 & 1 & ⋯ & No Deposit & NULL & NULL & 0 & Transient & 75 & 0 & 0 & Check-Out & 2015-07-02\\\\\n\t4 & Resort Hotel & 0 &  13 & 2015 & July & 27 & 1 & 0 & 1 & 1 & ⋯ & No Deposit & 304  & NULL & 0 & Transient & 75 & 0 & 0 & Check-Out & 2015-07-02\\\\\n\t5 & Resort Hotel & 0 &  14 & 2015 & July & 27 & 1 & 0 & 2 & 2 & ⋯ & No Deposit & 240  & NULL & 0 & Transient & 98 & 0 & 1 & Check-Out & 2015-07-03\\\\\n\\end{tabular}\n",
            "text/plain": [
              "  hotel        is_canceled lead_time arrival_date_year arrival_date_month\n",
              "1 Resort Hotel 0           342       2015              July              \n",
              "2 Resort Hotel 0           737       2015              July              \n",
              "3 Resort Hotel 0             7       2015              July              \n",
              "4 Resort Hotel 0            13       2015              July              \n",
              "5 Resort Hotel 0            14       2015              July              \n",
              "  arrival_date_week_number arrival_date_day_of_month stays_in_weekend_nights\n",
              "1 27                       1                         0                      \n",
              "2 27                       1                         0                      \n",
              "3 27                       1                         0                      \n",
              "4 27                       1                         0                      \n",
              "5 27                       1                         0                      \n",
              "  stays_in_week_nights adults ⋯ deposit_type agent company days_in_waiting_list\n",
              "1 0                    2      ⋯ No Deposit   NULL  NULL    0                   \n",
              "2 0                    2      ⋯ No Deposit   NULL  NULL    0                   \n",
              "3 1                    1      ⋯ No Deposit   NULL  NULL    0                   \n",
              "4 1                    1      ⋯ No Deposit   304   NULL    0                   \n",
              "5 2                    2      ⋯ No Deposit   240   NULL    0                   \n",
              "  customer_type adr required_car_parking_spaces total_of_special_requests\n",
              "1 Transient      0  0                           0                        \n",
              "2 Transient      0  0                           0                        \n",
              "3 Transient     75  0                           0                        \n",
              "4 Transient     75  0                           0                        \n",
              "5 Transient     98  0                           1                        \n",
              "  reservation_status reservation_status_date\n",
              "1 Check-Out          2015-07-01             \n",
              "2 Check-Out          2015-07-01             \n",
              "3 Check-Out          2015-07-02             \n",
              "4 Check-Out          2015-07-02             \n",
              "5 Check-Out          2015-07-03             "
            ]
          },
          "metadata": {}
        }
      ]
    },
    {
      "cell_type": "code",
      "source": [
        "# Checking the last 5 rows of data\n",
        "# ---\n",
        "# YOUR CODE GOES BELOW\n",
        "# \n",
        "\n",
        "tail(hotel_booking_df, 5)"
      ],
      "metadata": {
        "colab": {
          "base_uri": "https://localhost:8080/",
          "height": 362
        },
        "id": "MAMzL1B39zke",
        "outputId": "f7640e58-310b-4859-c419-778ac3879c2c"
      },
      "execution_count": 6,
      "outputs": [
        {
          "output_type": "display_data",
          "data": {
            "text/html": [
              "<table class=\"dataframe\">\n",
              "<caption>A data.frame: 5 × 32</caption>\n",
              "<thead>\n",
              "\t<tr><th></th><th scope=col>hotel</th><th scope=col>is_canceled</th><th scope=col>lead_time</th><th scope=col>arrival_date_year</th><th scope=col>arrival_date_month</th><th scope=col>arrival_date_week_number</th><th scope=col>arrival_date_day_of_month</th><th scope=col>stays_in_weekend_nights</th><th scope=col>stays_in_week_nights</th><th scope=col>adults</th><th scope=col>⋯</th><th scope=col>deposit_type</th><th scope=col>agent</th><th scope=col>company</th><th scope=col>days_in_waiting_list</th><th scope=col>customer_type</th><th scope=col>adr</th><th scope=col>required_car_parking_spaces</th><th scope=col>total_of_special_requests</th><th scope=col>reservation_status</th><th scope=col>reservation_status_date</th></tr>\n",
              "\t<tr><th></th><th scope=col>&lt;chr&gt;</th><th scope=col>&lt;int&gt;</th><th scope=col>&lt;int&gt;</th><th scope=col>&lt;int&gt;</th><th scope=col>&lt;chr&gt;</th><th scope=col>&lt;int&gt;</th><th scope=col>&lt;int&gt;</th><th scope=col>&lt;int&gt;</th><th scope=col>&lt;int&gt;</th><th scope=col>&lt;int&gt;</th><th scope=col>⋯</th><th scope=col>&lt;chr&gt;</th><th scope=col>&lt;chr&gt;</th><th scope=col>&lt;chr&gt;</th><th scope=col>&lt;int&gt;</th><th scope=col>&lt;chr&gt;</th><th scope=col>&lt;dbl&gt;</th><th scope=col>&lt;int&gt;</th><th scope=col>&lt;int&gt;</th><th scope=col>&lt;chr&gt;</th><th scope=col>&lt;chr&gt;</th></tr>\n",
              "</thead>\n",
              "<tbody>\n",
              "\t<tr><th scope=row>119386</th><td>City Hotel</td><td>0</td><td> 23</td><td>2017</td><td>August</td><td>35</td><td>30</td><td>2</td><td>5</td><td>2</td><td>⋯</td><td>No Deposit</td><td>394</td><td>NULL</td><td>0</td><td>Transient</td><td> 96.14</td><td>0</td><td>0</td><td>Check-Out</td><td>2017-09-06</td></tr>\n",
              "\t<tr><th scope=row>119387</th><td>City Hotel</td><td>0</td><td>102</td><td>2017</td><td>August</td><td>35</td><td>31</td><td>2</td><td>5</td><td>3</td><td>⋯</td><td>No Deposit</td><td>9  </td><td>NULL</td><td>0</td><td>Transient</td><td>225.43</td><td>0</td><td>2</td><td>Check-Out</td><td>2017-09-07</td></tr>\n",
              "\t<tr><th scope=row>119388</th><td>City Hotel</td><td>0</td><td> 34</td><td>2017</td><td>August</td><td>35</td><td>31</td><td>2</td><td>5</td><td>2</td><td>⋯</td><td>No Deposit</td><td>9  </td><td>NULL</td><td>0</td><td>Transient</td><td>157.71</td><td>0</td><td>4</td><td>Check-Out</td><td>2017-09-07</td></tr>\n",
              "\t<tr><th scope=row>119389</th><td>City Hotel</td><td>0</td><td>109</td><td>2017</td><td>August</td><td>35</td><td>31</td><td>2</td><td>5</td><td>2</td><td>⋯</td><td>No Deposit</td><td>89 </td><td>NULL</td><td>0</td><td>Transient</td><td>104.40</td><td>0</td><td>0</td><td>Check-Out</td><td>2017-09-07</td></tr>\n",
              "\t<tr><th scope=row>119390</th><td>City Hotel</td><td>0</td><td>205</td><td>2017</td><td>August</td><td>35</td><td>29</td><td>2</td><td>7</td><td>2</td><td>⋯</td><td>No Deposit</td><td>9  </td><td>NULL</td><td>0</td><td>Transient</td><td>151.20</td><td>0</td><td>2</td><td>Check-Out</td><td>2017-09-07</td></tr>\n",
              "</tbody>\n",
              "</table>\n"
            ],
            "text/markdown": "\nA data.frame: 5 × 32\n\n| <!--/--> | hotel &lt;chr&gt; | is_canceled &lt;int&gt; | lead_time &lt;int&gt; | arrival_date_year &lt;int&gt; | arrival_date_month &lt;chr&gt; | arrival_date_week_number &lt;int&gt; | arrival_date_day_of_month &lt;int&gt; | stays_in_weekend_nights &lt;int&gt; | stays_in_week_nights &lt;int&gt; | adults &lt;int&gt; | ⋯ ⋯ | deposit_type &lt;chr&gt; | agent &lt;chr&gt; | company &lt;chr&gt; | days_in_waiting_list &lt;int&gt; | customer_type &lt;chr&gt; | adr &lt;dbl&gt; | required_car_parking_spaces &lt;int&gt; | total_of_special_requests &lt;int&gt; | reservation_status &lt;chr&gt; | reservation_status_date &lt;chr&gt; |\n|---|---|---|---|---|---|---|---|---|---|---|---|---|---|---|---|---|---|---|---|---|---|\n| 119386 | City Hotel | 0 |  23 | 2017 | August | 35 | 30 | 2 | 5 | 2 | ⋯ | No Deposit | 394 | NULL | 0 | Transient |  96.14 | 0 | 0 | Check-Out | 2017-09-06 |\n| 119387 | City Hotel | 0 | 102 | 2017 | August | 35 | 31 | 2 | 5 | 3 | ⋯ | No Deposit | 9   | NULL | 0 | Transient | 225.43 | 0 | 2 | Check-Out | 2017-09-07 |\n| 119388 | City Hotel | 0 |  34 | 2017 | August | 35 | 31 | 2 | 5 | 2 | ⋯ | No Deposit | 9   | NULL | 0 | Transient | 157.71 | 0 | 4 | Check-Out | 2017-09-07 |\n| 119389 | City Hotel | 0 | 109 | 2017 | August | 35 | 31 | 2 | 5 | 2 | ⋯ | No Deposit | 89  | NULL | 0 | Transient | 104.40 | 0 | 0 | Check-Out | 2017-09-07 |\n| 119390 | City Hotel | 0 | 205 | 2017 | August | 35 | 29 | 2 | 7 | 2 | ⋯ | No Deposit | 9   | NULL | 0 | Transient | 151.20 | 0 | 2 | Check-Out | 2017-09-07 |\n\n",
            "text/latex": "A data.frame: 5 × 32\n\\begin{tabular}{r|lllllllllllllllllllll}\n  & hotel & is\\_canceled & lead\\_time & arrival\\_date\\_year & arrival\\_date\\_month & arrival\\_date\\_week\\_number & arrival\\_date\\_day\\_of\\_month & stays\\_in\\_weekend\\_nights & stays\\_in\\_week\\_nights & adults & ⋯ & deposit\\_type & agent & company & days\\_in\\_waiting\\_list & customer\\_type & adr & required\\_car\\_parking\\_spaces & total\\_of\\_special\\_requests & reservation\\_status & reservation\\_status\\_date\\\\\n  & <chr> & <int> & <int> & <int> & <chr> & <int> & <int> & <int> & <int> & <int> & ⋯ & <chr> & <chr> & <chr> & <int> & <chr> & <dbl> & <int> & <int> & <chr> & <chr>\\\\\n\\hline\n\t119386 & City Hotel & 0 &  23 & 2017 & August & 35 & 30 & 2 & 5 & 2 & ⋯ & No Deposit & 394 & NULL & 0 & Transient &  96.14 & 0 & 0 & Check-Out & 2017-09-06\\\\\n\t119387 & City Hotel & 0 & 102 & 2017 & August & 35 & 31 & 2 & 5 & 3 & ⋯ & No Deposit & 9   & NULL & 0 & Transient & 225.43 & 0 & 2 & Check-Out & 2017-09-07\\\\\n\t119388 & City Hotel & 0 &  34 & 2017 & August & 35 & 31 & 2 & 5 & 2 & ⋯ & No Deposit & 9   & NULL & 0 & Transient & 157.71 & 0 & 4 & Check-Out & 2017-09-07\\\\\n\t119389 & City Hotel & 0 & 109 & 2017 & August & 35 & 31 & 2 & 5 & 2 & ⋯ & No Deposit & 89  & NULL & 0 & Transient & 104.40 & 0 & 0 & Check-Out & 2017-09-07\\\\\n\t119390 & City Hotel & 0 & 205 & 2017 & August & 35 & 29 & 2 & 7 & 2 & ⋯ & No Deposit & 9   & NULL & 0 & Transient & 151.20 & 0 & 2 & Check-Out & 2017-09-07\\\\\n\\end{tabular}\n",
            "text/plain": [
              "       hotel      is_canceled lead_time arrival_date_year arrival_date_month\n",
              "119386 City Hotel 0            23       2017              August            \n",
              "119387 City Hotel 0           102       2017              August            \n",
              "119388 City Hotel 0            34       2017              August            \n",
              "119389 City Hotel 0           109       2017              August            \n",
              "119390 City Hotel 0           205       2017              August            \n",
              "       arrival_date_week_number arrival_date_day_of_month\n",
              "119386 35                       30                       \n",
              "119387 35                       31                       \n",
              "119388 35                       31                       \n",
              "119389 35                       31                       \n",
              "119390 35                       29                       \n",
              "       stays_in_weekend_nights stays_in_week_nights adults ⋯ deposit_type agent\n",
              "119386 2                       5                    2      ⋯ No Deposit   394  \n",
              "119387 2                       5                    3      ⋯ No Deposit   9    \n",
              "119388 2                       5                    2      ⋯ No Deposit   9    \n",
              "119389 2                       5                    2      ⋯ No Deposit   89   \n",
              "119390 2                       7                    2      ⋯ No Deposit   9    \n",
              "       company days_in_waiting_list customer_type adr   \n",
              "119386 NULL    0                    Transient      96.14\n",
              "119387 NULL    0                    Transient     225.43\n",
              "119388 NULL    0                    Transient     157.71\n",
              "119389 NULL    0                    Transient     104.40\n",
              "119390 NULL    0                    Transient     151.20\n",
              "       required_car_parking_spaces total_of_special_requests reservation_status\n",
              "119386 0                           0                         Check-Out         \n",
              "119387 0                           2                         Check-Out         \n",
              "119388 0                           4                         Check-Out         \n",
              "119389 0                           0                         Check-Out         \n",
              "119390 0                           2                         Check-Out         \n",
              "       reservation_status_date\n",
              "119386 2017-09-06             \n",
              "119387 2017-09-07             \n",
              "119388 2017-09-07             \n",
              "119389 2017-09-07             \n",
              "119390 2017-09-07             "
            ]
          },
          "metadata": {}
        }
      ]
    },
    {
      "cell_type": "code",
      "source": [
        "# Sample 10 rows of data\n",
        "# ---\n",
        "# YOUR CODE GOES BELOW\n",
        "# \n",
        "\n",
        "sample(hotel_booking_df,10)"
      ],
      "metadata": {
        "colab": {
          "base_uri": "https://localhost:8080/",
          "height": 1000
        },
        "id": "MlQYiEhq94NR",
        "outputId": "da89ac2e-bf4c-4dfe-947e-18024d6e1c1f"
      },
      "execution_count": 14,
      "outputs": [
        {
          "output_type": "display_data",
          "data": {
            "text/html": [
              "<table class=\"dataframe\">\n",
              "<caption>A data.frame: 119390 × 10</caption>\n",
              "<thead>\n",
              "\t<tr><th scope=col>adr</th><th scope=col>deposit_type</th><th scope=col>arrival_date_week_number</th><th scope=col>company</th><th scope=col>required_car_parking_spaces</th><th scope=col>reserved_room_type</th><th scope=col>stays_in_weekend_nights</th><th scope=col>hotel</th><th scope=col>assigned_room_type</th><th scope=col>distribution_channel</th></tr>\n",
              "\t<tr><th scope=col>&lt;dbl&gt;</th><th scope=col>&lt;chr&gt;</th><th scope=col>&lt;int&gt;</th><th scope=col>&lt;chr&gt;</th><th scope=col>&lt;int&gt;</th><th scope=col>&lt;chr&gt;</th><th scope=col>&lt;int&gt;</th><th scope=col>&lt;chr&gt;</th><th scope=col>&lt;chr&gt;</th><th scope=col>&lt;chr&gt;</th></tr>\n",
              "</thead>\n",
              "<tbody>\n",
              "\t<tr><td>  0.00</td><td>No Deposit</td><td>27</td><td>NULL</td><td>0</td><td>C</td><td>0</td><td>Resort Hotel</td><td>C</td><td>Direct   </td></tr>\n",
              "\t<tr><td>  0.00</td><td>No Deposit</td><td>27</td><td>NULL</td><td>0</td><td>C</td><td>0</td><td>Resort Hotel</td><td>C</td><td>Direct   </td></tr>\n",
              "\t<tr><td> 75.00</td><td>No Deposit</td><td>27</td><td>NULL</td><td>0</td><td>A</td><td>0</td><td>Resort Hotel</td><td>C</td><td>Direct   </td></tr>\n",
              "\t<tr><td> 75.00</td><td>No Deposit</td><td>27</td><td>NULL</td><td>0</td><td>A</td><td>0</td><td>Resort Hotel</td><td>A</td><td>Corporate</td></tr>\n",
              "\t<tr><td> 98.00</td><td>No Deposit</td><td>27</td><td>NULL</td><td>0</td><td>A</td><td>0</td><td>Resort Hotel</td><td>A</td><td>TA/TO    </td></tr>\n",
              "\t<tr><td> 98.00</td><td>No Deposit</td><td>27</td><td>NULL</td><td>0</td><td>A</td><td>0</td><td>Resort Hotel</td><td>A</td><td>TA/TO    </td></tr>\n",
              "\t<tr><td>107.00</td><td>No Deposit</td><td>27</td><td>NULL</td><td>0</td><td>C</td><td>0</td><td>Resort Hotel</td><td>C</td><td>Direct   </td></tr>\n",
              "\t<tr><td>103.00</td><td>No Deposit</td><td>27</td><td>NULL</td><td>0</td><td>C</td><td>0</td><td>Resort Hotel</td><td>C</td><td>Direct   </td></tr>\n",
              "\t<tr><td> 82.00</td><td>No Deposit</td><td>27</td><td>NULL</td><td>0</td><td>A</td><td>0</td><td>Resort Hotel</td><td>A</td><td>TA/TO    </td></tr>\n",
              "\t<tr><td>105.50</td><td>No Deposit</td><td>27</td><td>NULL</td><td>0</td><td>D</td><td>0</td><td>Resort Hotel</td><td>D</td><td>TA/TO    </td></tr>\n",
              "\t<tr><td>123.00</td><td>No Deposit</td><td>27</td><td>NULL</td><td>0</td><td>E</td><td>0</td><td>Resort Hotel</td><td>E</td><td>TA/TO    </td></tr>\n",
              "\t<tr><td>145.00</td><td>No Deposit</td><td>27</td><td>NULL</td><td>0</td><td>D</td><td>0</td><td>Resort Hotel</td><td>D</td><td>TA/TO    </td></tr>\n",
              "\t<tr><td> 97.00</td><td>No Deposit</td><td>27</td><td>NULL</td><td>0</td><td>D</td><td>0</td><td>Resort Hotel</td><td>E</td><td>TA/TO    </td></tr>\n",
              "\t<tr><td>154.77</td><td>No Deposit</td><td>27</td><td>NULL</td><td>0</td><td>G</td><td>0</td><td>Resort Hotel</td><td>G</td><td>TA/TO    </td></tr>\n",
              "\t<tr><td> 94.71</td><td>No Deposit</td><td>27</td><td>NULL</td><td>0</td><td>E</td><td>0</td><td>Resort Hotel</td><td>E</td><td>TA/TO    </td></tr>\n",
              "\t<tr><td> 97.00</td><td>No Deposit</td><td>27</td><td>NULL</td><td>0</td><td>D</td><td>0</td><td>Resort Hotel</td><td>E</td><td>TA/TO    </td></tr>\n",
              "\t<tr><td> 97.50</td><td>No Deposit</td><td>27</td><td>NULL</td><td>0</td><td>E</td><td>0</td><td>Resort Hotel</td><td>E</td><td>TA/TO    </td></tr>\n",
              "\t<tr><td> 88.20</td><td>No Deposit</td><td>27</td><td>NULL</td><td>0</td><td>A</td><td>0</td><td>Resort Hotel</td><td>E</td><td>TA/TO    </td></tr>\n",
              "\t<tr><td>107.42</td><td>No Deposit</td><td>27</td><td>110 </td><td>0</td><td>A</td><td>0</td><td>Resort Hotel</td><td>G</td><td>Corporate</td></tr>\n",
              "\t<tr><td>153.00</td><td>No Deposit</td><td>27</td><td>NULL</td><td>0</td><td>G</td><td>0</td><td>Resort Hotel</td><td>G</td><td>Direct   </td></tr>\n",
              "\t<tr><td> 97.29</td><td>No Deposit</td><td>27</td><td>NULL</td><td>0</td><td>F</td><td>1</td><td>Resort Hotel</td><td>F</td><td>TA/TO    </td></tr>\n",
              "\t<tr><td> 84.67</td><td>No Deposit</td><td>27</td><td>NULL</td><td>0</td><td>A</td><td>2</td><td>Resort Hotel</td><td>A</td><td>Direct   </td></tr>\n",
              "\t<tr><td> 84.67</td><td>No Deposit</td><td>27</td><td>NULL</td><td>0</td><td>A</td><td>2</td><td>Resort Hotel</td><td>A</td><td>Direct   </td></tr>\n",
              "\t<tr><td> 99.67</td><td>No Deposit</td><td>27</td><td>NULL</td><td>0</td><td>D</td><td>2</td><td>Resort Hotel</td><td>D</td><td>Direct   </td></tr>\n",
              "\t<tr><td> 94.95</td><td>No Deposit</td><td>27</td><td>NULL</td><td>0</td><td>D</td><td>2</td><td>Resort Hotel</td><td>I</td><td>TA/TO    </td></tr>\n",
              "\t<tr><td> 63.60</td><td>No Deposit</td><td>27</td><td>NULL</td><td>1</td><td>D</td><td>2</td><td>Resort Hotel</td><td>D</td><td>TA/TO    </td></tr>\n",
              "\t<tr><td> 79.50</td><td>No Deposit</td><td>27</td><td>NULL</td><td>0</td><td>D</td><td>2</td><td>Resort Hotel</td><td>D</td><td>TA/TO    </td></tr>\n",
              "\t<tr><td>107.00</td><td>No Deposit</td><td>27</td><td>NULL</td><td>0</td><td>E</td><td>2</td><td>Resort Hotel</td><td>E</td><td>TA/TO    </td></tr>\n",
              "\t<tr><td> 94.00</td><td>No Deposit</td><td>27</td><td>NULL</td><td>0</td><td>A</td><td>2</td><td>Resort Hotel</td><td>A</td><td>TA/TO    </td></tr>\n",
              "\t<tr><td> 87.30</td><td>No Deposit</td><td>27</td><td>NULL</td><td>1</td><td>D</td><td>2</td><td>Resort Hotel</td><td>D</td><td>TA/TO    </td></tr>\n",
              "\t<tr><td>⋮</td><td>⋮</td><td>⋮</td><td>⋮</td><td>⋮</td><td>⋮</td><td>⋮</td><td>⋮</td><td>⋮</td><td>⋮</td></tr>\n",
              "\t<tr><td>117.00</td><td>No Deposit</td><td>35</td><td>NULL</td><td>0</td><td>A</td><td>1</td><td>City Hotel</td><td>A</td><td>TA/TO </td></tr>\n",
              "\t<tr><td> 95.85</td><td>No Deposit</td><td>35</td><td>NULL</td><td>0</td><td>D</td><td>1</td><td>City Hotel</td><td>D</td><td>TA/TO </td></tr>\n",
              "\t<tr><td>119.17</td><td>No Deposit</td><td>35</td><td>NULL</td><td>0</td><td>A</td><td>1</td><td>City Hotel</td><td>A</td><td>TA/TO </td></tr>\n",
              "\t<tr><td> 92.17</td><td>No Deposit</td><td>35</td><td>NULL</td><td>0</td><td>D</td><td>2</td><td>City Hotel</td><td>D</td><td>TA/TO </td></tr>\n",
              "\t<tr><td> 92.17</td><td>No Deposit</td><td>35</td><td>NULL</td><td>0</td><td>D</td><td>2</td><td>City Hotel</td><td>D</td><td>TA/TO </td></tr>\n",
              "\t<tr><td>266.75</td><td>No Deposit</td><td>35</td><td>NULL</td><td>0</td><td>G</td><td>3</td><td>City Hotel</td><td>G</td><td>Direct</td></tr>\n",
              "\t<tr><td> 85.59</td><td>No Deposit</td><td>35</td><td>NULL</td><td>0</td><td>A</td><td>2</td><td>City Hotel</td><td>A</td><td>TA/TO </td></tr>\n",
              "\t<tr><td> 85.59</td><td>No Deposit</td><td>35</td><td>NULL</td><td>0</td><td>A</td><td>2</td><td>City Hotel</td><td>A</td><td>TA/TO </td></tr>\n",
              "\t<tr><td> 99.00</td><td>No Deposit</td><td>35</td><td>NULL</td><td>0</td><td>A</td><td>1</td><td>City Hotel</td><td>A</td><td>Direct</td></tr>\n",
              "\t<tr><td> 96.25</td><td>No Deposit</td><td>34</td><td>NULL</td><td>0</td><td>A</td><td>3</td><td>City Hotel</td><td>A</td><td>Direct</td></tr>\n",
              "\t<tr><td>108.00</td><td>No Deposit</td><td>35</td><td>NULL</td><td>0</td><td>A</td><td>1</td><td>City Hotel</td><td>A</td><td>TA/TO </td></tr>\n",
              "\t<tr><td> 86.85</td><td>No Deposit</td><td>35</td><td>NULL</td><td>0</td><td>A</td><td>1</td><td>City Hotel</td><td>A</td><td>TA/TO </td></tr>\n",
              "\t<tr><td> 82.35</td><td>No Deposit</td><td>35</td><td>NULL</td><td>0</td><td>A</td><td>1</td><td>City Hotel</td><td>A</td><td>TA/TO </td></tr>\n",
              "\t<tr><td> 82.35</td><td>No Deposit</td><td>35</td><td>NULL</td><td>0</td><td>A</td><td>1</td><td>City Hotel</td><td>A</td><td>TA/TO </td></tr>\n",
              "\t<tr><td>117.00</td><td>No Deposit</td><td>35</td><td>NULL</td><td>0</td><td>A</td><td>1</td><td>City Hotel</td><td>A</td><td>TA/TO </td></tr>\n",
              "\t<tr><td> 85.50</td><td>No Deposit</td><td>35</td><td>NULL</td><td>0</td><td>A</td><td>1</td><td>City Hotel</td><td>A</td><td>TA/TO </td></tr>\n",
              "\t<tr><td>209.25</td><td>No Deposit</td><td>35</td><td>NULL</td><td>0</td><td>E</td><td>1</td><td>City Hotel</td><td>E</td><td>TA/TO </td></tr>\n",
              "\t<tr><td> 99.00</td><td>No Deposit</td><td>35</td><td>NULL</td><td>0</td><td>A</td><td>1</td><td>City Hotel</td><td>A</td><td>TA/TO </td></tr>\n",
              "\t<tr><td> 86.85</td><td>No Deposit</td><td>35</td><td>NULL</td><td>0</td><td>A</td><td>1</td><td>City Hotel</td><td>A</td><td>TA/TO </td></tr>\n",
              "\t<tr><td>155.00</td><td>No Deposit</td><td>35</td><td>NULL</td><td>0</td><td>D</td><td>1</td><td>City Hotel</td><td>D</td><td>TA/TO </td></tr>\n",
              "\t<tr><td>140.75</td><td>No Deposit</td><td>35</td><td>NULL</td><td>0</td><td>A</td><td>1</td><td>City Hotel</td><td>A</td><td>TA/TO </td></tr>\n",
              "\t<tr><td> 99.00</td><td>No Deposit</td><td>35</td><td>NULL</td><td>0</td><td>A</td><td>2</td><td>City Hotel</td><td>A</td><td>Direct</td></tr>\n",
              "\t<tr><td>209.00</td><td>No Deposit</td><td>35</td><td>NULL</td><td>0</td><td>G</td><td>2</td><td>City Hotel</td><td>G</td><td>TA/TO </td></tr>\n",
              "\t<tr><td> 87.60</td><td>No Deposit</td><td>35</td><td>NULL</td><td>0</td><td>A</td><td>2</td><td>City Hotel</td><td>A</td><td>TA/TO </td></tr>\n",
              "\t<tr><td> 96.14</td><td>No Deposit</td><td>35</td><td>NULL</td><td>0</td><td>A</td><td>2</td><td>City Hotel</td><td>A</td><td>TA/TO </td></tr>\n",
              "\t<tr><td> 96.14</td><td>No Deposit</td><td>35</td><td>NULL</td><td>0</td><td>A</td><td>2</td><td>City Hotel</td><td>A</td><td>TA/TO </td></tr>\n",
              "\t<tr><td>225.43</td><td>No Deposit</td><td>35</td><td>NULL</td><td>0</td><td>E</td><td>2</td><td>City Hotel</td><td>E</td><td>TA/TO </td></tr>\n",
              "\t<tr><td>157.71</td><td>No Deposit</td><td>35</td><td>NULL</td><td>0</td><td>D</td><td>2</td><td>City Hotel</td><td>D</td><td>TA/TO </td></tr>\n",
              "\t<tr><td>104.40</td><td>No Deposit</td><td>35</td><td>NULL</td><td>0</td><td>A</td><td>2</td><td>City Hotel</td><td>A</td><td>TA/TO </td></tr>\n",
              "\t<tr><td>151.20</td><td>No Deposit</td><td>35</td><td>NULL</td><td>0</td><td>A</td><td>2</td><td>City Hotel</td><td>A</td><td>TA/TO </td></tr>\n",
              "</tbody>\n",
              "</table>\n"
            ],
            "text/markdown": "\nA data.frame: 119390 × 10\n\n| adr &lt;dbl&gt; | deposit_type &lt;chr&gt; | arrival_date_week_number &lt;int&gt; | company &lt;chr&gt; | required_car_parking_spaces &lt;int&gt; | reserved_room_type &lt;chr&gt; | stays_in_weekend_nights &lt;int&gt; | hotel &lt;chr&gt; | assigned_room_type &lt;chr&gt; | distribution_channel &lt;chr&gt; |\n|---|---|---|---|---|---|---|---|---|---|\n|   0.00 | No Deposit | 27 | NULL | 0 | C | 0 | Resort Hotel | C | Direct    |\n|   0.00 | No Deposit | 27 | NULL | 0 | C | 0 | Resort Hotel | C | Direct    |\n|  75.00 | No Deposit | 27 | NULL | 0 | A | 0 | Resort Hotel | C | Direct    |\n|  75.00 | No Deposit | 27 | NULL | 0 | A | 0 | Resort Hotel | A | Corporate |\n|  98.00 | No Deposit | 27 | NULL | 0 | A | 0 | Resort Hotel | A | TA/TO     |\n|  98.00 | No Deposit | 27 | NULL | 0 | A | 0 | Resort Hotel | A | TA/TO     |\n| 107.00 | No Deposit | 27 | NULL | 0 | C | 0 | Resort Hotel | C | Direct    |\n| 103.00 | No Deposit | 27 | NULL | 0 | C | 0 | Resort Hotel | C | Direct    |\n|  82.00 | No Deposit | 27 | NULL | 0 | A | 0 | Resort Hotel | A | TA/TO     |\n| 105.50 | No Deposit | 27 | NULL | 0 | D | 0 | Resort Hotel | D | TA/TO     |\n| 123.00 | No Deposit | 27 | NULL | 0 | E | 0 | Resort Hotel | E | TA/TO     |\n| 145.00 | No Deposit | 27 | NULL | 0 | D | 0 | Resort Hotel | D | TA/TO     |\n|  97.00 | No Deposit | 27 | NULL | 0 | D | 0 | Resort Hotel | E | TA/TO     |\n| 154.77 | No Deposit | 27 | NULL | 0 | G | 0 | Resort Hotel | G | TA/TO     |\n|  94.71 | No Deposit | 27 | NULL | 0 | E | 0 | Resort Hotel | E | TA/TO     |\n|  97.00 | No Deposit | 27 | NULL | 0 | D | 0 | Resort Hotel | E | TA/TO     |\n|  97.50 | No Deposit | 27 | NULL | 0 | E | 0 | Resort Hotel | E | TA/TO     |\n|  88.20 | No Deposit | 27 | NULL | 0 | A | 0 | Resort Hotel | E | TA/TO     |\n| 107.42 | No Deposit | 27 | 110  | 0 | A | 0 | Resort Hotel | G | Corporate |\n| 153.00 | No Deposit | 27 | NULL | 0 | G | 0 | Resort Hotel | G | Direct    |\n|  97.29 | No Deposit | 27 | NULL | 0 | F | 1 | Resort Hotel | F | TA/TO     |\n|  84.67 | No Deposit | 27 | NULL | 0 | A | 2 | Resort Hotel | A | Direct    |\n|  84.67 | No Deposit | 27 | NULL | 0 | A | 2 | Resort Hotel | A | Direct    |\n|  99.67 | No Deposit | 27 | NULL | 0 | D | 2 | Resort Hotel | D | Direct    |\n|  94.95 | No Deposit | 27 | NULL | 0 | D | 2 | Resort Hotel | I | TA/TO     |\n|  63.60 | No Deposit | 27 | NULL | 1 | D | 2 | Resort Hotel | D | TA/TO     |\n|  79.50 | No Deposit | 27 | NULL | 0 | D | 2 | Resort Hotel | D | TA/TO     |\n| 107.00 | No Deposit | 27 | NULL | 0 | E | 2 | Resort Hotel | E | TA/TO     |\n|  94.00 | No Deposit | 27 | NULL | 0 | A | 2 | Resort Hotel | A | TA/TO     |\n|  87.30 | No Deposit | 27 | NULL | 1 | D | 2 | Resort Hotel | D | TA/TO     |\n| ⋮ | ⋮ | ⋮ | ⋮ | ⋮ | ⋮ | ⋮ | ⋮ | ⋮ | ⋮ |\n| 117.00 | No Deposit | 35 | NULL | 0 | A | 1 | City Hotel | A | TA/TO  |\n|  95.85 | No Deposit | 35 | NULL | 0 | D | 1 | City Hotel | D | TA/TO  |\n| 119.17 | No Deposit | 35 | NULL | 0 | A | 1 | City Hotel | A | TA/TO  |\n|  92.17 | No Deposit | 35 | NULL | 0 | D | 2 | City Hotel | D | TA/TO  |\n|  92.17 | No Deposit | 35 | NULL | 0 | D | 2 | City Hotel | D | TA/TO  |\n| 266.75 | No Deposit | 35 | NULL | 0 | G | 3 | City Hotel | G | Direct |\n|  85.59 | No Deposit | 35 | NULL | 0 | A | 2 | City Hotel | A | TA/TO  |\n|  85.59 | No Deposit | 35 | NULL | 0 | A | 2 | City Hotel | A | TA/TO  |\n|  99.00 | No Deposit | 35 | NULL | 0 | A | 1 | City Hotel | A | Direct |\n|  96.25 | No Deposit | 34 | NULL | 0 | A | 3 | City Hotel | A | Direct |\n| 108.00 | No Deposit | 35 | NULL | 0 | A | 1 | City Hotel | A | TA/TO  |\n|  86.85 | No Deposit | 35 | NULL | 0 | A | 1 | City Hotel | A | TA/TO  |\n|  82.35 | No Deposit | 35 | NULL | 0 | A | 1 | City Hotel | A | TA/TO  |\n|  82.35 | No Deposit | 35 | NULL | 0 | A | 1 | City Hotel | A | TA/TO  |\n| 117.00 | No Deposit | 35 | NULL | 0 | A | 1 | City Hotel | A | TA/TO  |\n|  85.50 | No Deposit | 35 | NULL | 0 | A | 1 | City Hotel | A | TA/TO  |\n| 209.25 | No Deposit | 35 | NULL | 0 | E | 1 | City Hotel | E | TA/TO  |\n|  99.00 | No Deposit | 35 | NULL | 0 | A | 1 | City Hotel | A | TA/TO  |\n|  86.85 | No Deposit | 35 | NULL | 0 | A | 1 | City Hotel | A | TA/TO  |\n| 155.00 | No Deposit | 35 | NULL | 0 | D | 1 | City Hotel | D | TA/TO  |\n| 140.75 | No Deposit | 35 | NULL | 0 | A | 1 | City Hotel | A | TA/TO  |\n|  99.00 | No Deposit | 35 | NULL | 0 | A | 2 | City Hotel | A | Direct |\n| 209.00 | No Deposit | 35 | NULL | 0 | G | 2 | City Hotel | G | TA/TO  |\n|  87.60 | No Deposit | 35 | NULL | 0 | A | 2 | City Hotel | A | TA/TO  |\n|  96.14 | No Deposit | 35 | NULL | 0 | A | 2 | City Hotel | A | TA/TO  |\n|  96.14 | No Deposit | 35 | NULL | 0 | A | 2 | City Hotel | A | TA/TO  |\n| 225.43 | No Deposit | 35 | NULL | 0 | E | 2 | City Hotel | E | TA/TO  |\n| 157.71 | No Deposit | 35 | NULL | 0 | D | 2 | City Hotel | D | TA/TO  |\n| 104.40 | No Deposit | 35 | NULL | 0 | A | 2 | City Hotel | A | TA/TO  |\n| 151.20 | No Deposit | 35 | NULL | 0 | A | 2 | City Hotel | A | TA/TO  |\n\n",
            "text/latex": "A data.frame: 119390 × 10\n\\begin{tabular}{llllllllll}\n adr & deposit\\_type & arrival\\_date\\_week\\_number & company & required\\_car\\_parking\\_spaces & reserved\\_room\\_type & stays\\_in\\_weekend\\_nights & hotel & assigned\\_room\\_type & distribution\\_channel\\\\\n <dbl> & <chr> & <int> & <chr> & <int> & <chr> & <int> & <chr> & <chr> & <chr>\\\\\n\\hline\n\t   0.00 & No Deposit & 27 & NULL & 0 & C & 0 & Resort Hotel & C & Direct   \\\\\n\t   0.00 & No Deposit & 27 & NULL & 0 & C & 0 & Resort Hotel & C & Direct   \\\\\n\t  75.00 & No Deposit & 27 & NULL & 0 & A & 0 & Resort Hotel & C & Direct   \\\\\n\t  75.00 & No Deposit & 27 & NULL & 0 & A & 0 & Resort Hotel & A & Corporate\\\\\n\t  98.00 & No Deposit & 27 & NULL & 0 & A & 0 & Resort Hotel & A & TA/TO    \\\\\n\t  98.00 & No Deposit & 27 & NULL & 0 & A & 0 & Resort Hotel & A & TA/TO    \\\\\n\t 107.00 & No Deposit & 27 & NULL & 0 & C & 0 & Resort Hotel & C & Direct   \\\\\n\t 103.00 & No Deposit & 27 & NULL & 0 & C & 0 & Resort Hotel & C & Direct   \\\\\n\t  82.00 & No Deposit & 27 & NULL & 0 & A & 0 & Resort Hotel & A & TA/TO    \\\\\n\t 105.50 & No Deposit & 27 & NULL & 0 & D & 0 & Resort Hotel & D & TA/TO    \\\\\n\t 123.00 & No Deposit & 27 & NULL & 0 & E & 0 & Resort Hotel & E & TA/TO    \\\\\n\t 145.00 & No Deposit & 27 & NULL & 0 & D & 0 & Resort Hotel & D & TA/TO    \\\\\n\t  97.00 & No Deposit & 27 & NULL & 0 & D & 0 & Resort Hotel & E & TA/TO    \\\\\n\t 154.77 & No Deposit & 27 & NULL & 0 & G & 0 & Resort Hotel & G & TA/TO    \\\\\n\t  94.71 & No Deposit & 27 & NULL & 0 & E & 0 & Resort Hotel & E & TA/TO    \\\\\n\t  97.00 & No Deposit & 27 & NULL & 0 & D & 0 & Resort Hotel & E & TA/TO    \\\\\n\t  97.50 & No Deposit & 27 & NULL & 0 & E & 0 & Resort Hotel & E & TA/TO    \\\\\n\t  88.20 & No Deposit & 27 & NULL & 0 & A & 0 & Resort Hotel & E & TA/TO    \\\\\n\t 107.42 & No Deposit & 27 & 110  & 0 & A & 0 & Resort Hotel & G & Corporate\\\\\n\t 153.00 & No Deposit & 27 & NULL & 0 & G & 0 & Resort Hotel & G & Direct   \\\\\n\t  97.29 & No Deposit & 27 & NULL & 0 & F & 1 & Resort Hotel & F & TA/TO    \\\\\n\t  84.67 & No Deposit & 27 & NULL & 0 & A & 2 & Resort Hotel & A & Direct   \\\\\n\t  84.67 & No Deposit & 27 & NULL & 0 & A & 2 & Resort Hotel & A & Direct   \\\\\n\t  99.67 & No Deposit & 27 & NULL & 0 & D & 2 & Resort Hotel & D & Direct   \\\\\n\t  94.95 & No Deposit & 27 & NULL & 0 & D & 2 & Resort Hotel & I & TA/TO    \\\\\n\t  63.60 & No Deposit & 27 & NULL & 1 & D & 2 & Resort Hotel & D & TA/TO    \\\\\n\t  79.50 & No Deposit & 27 & NULL & 0 & D & 2 & Resort Hotel & D & TA/TO    \\\\\n\t 107.00 & No Deposit & 27 & NULL & 0 & E & 2 & Resort Hotel & E & TA/TO    \\\\\n\t  94.00 & No Deposit & 27 & NULL & 0 & A & 2 & Resort Hotel & A & TA/TO    \\\\\n\t  87.30 & No Deposit & 27 & NULL & 1 & D & 2 & Resort Hotel & D & TA/TO    \\\\\n\t ⋮ & ⋮ & ⋮ & ⋮ & ⋮ & ⋮ & ⋮ & ⋮ & ⋮ & ⋮\\\\\n\t 117.00 & No Deposit & 35 & NULL & 0 & A & 1 & City Hotel & A & TA/TO \\\\\n\t  95.85 & No Deposit & 35 & NULL & 0 & D & 1 & City Hotel & D & TA/TO \\\\\n\t 119.17 & No Deposit & 35 & NULL & 0 & A & 1 & City Hotel & A & TA/TO \\\\\n\t  92.17 & No Deposit & 35 & NULL & 0 & D & 2 & City Hotel & D & TA/TO \\\\\n\t  92.17 & No Deposit & 35 & NULL & 0 & D & 2 & City Hotel & D & TA/TO \\\\\n\t 266.75 & No Deposit & 35 & NULL & 0 & G & 3 & City Hotel & G & Direct\\\\\n\t  85.59 & No Deposit & 35 & NULL & 0 & A & 2 & City Hotel & A & TA/TO \\\\\n\t  85.59 & No Deposit & 35 & NULL & 0 & A & 2 & City Hotel & A & TA/TO \\\\\n\t  99.00 & No Deposit & 35 & NULL & 0 & A & 1 & City Hotel & A & Direct\\\\\n\t  96.25 & No Deposit & 34 & NULL & 0 & A & 3 & City Hotel & A & Direct\\\\\n\t 108.00 & No Deposit & 35 & NULL & 0 & A & 1 & City Hotel & A & TA/TO \\\\\n\t  86.85 & No Deposit & 35 & NULL & 0 & A & 1 & City Hotel & A & TA/TO \\\\\n\t  82.35 & No Deposit & 35 & NULL & 0 & A & 1 & City Hotel & A & TA/TO \\\\\n\t  82.35 & No Deposit & 35 & NULL & 0 & A & 1 & City Hotel & A & TA/TO \\\\\n\t 117.00 & No Deposit & 35 & NULL & 0 & A & 1 & City Hotel & A & TA/TO \\\\\n\t  85.50 & No Deposit & 35 & NULL & 0 & A & 1 & City Hotel & A & TA/TO \\\\\n\t 209.25 & No Deposit & 35 & NULL & 0 & E & 1 & City Hotel & E & TA/TO \\\\\n\t  99.00 & No Deposit & 35 & NULL & 0 & A & 1 & City Hotel & A & TA/TO \\\\\n\t  86.85 & No Deposit & 35 & NULL & 0 & A & 1 & City Hotel & A & TA/TO \\\\\n\t 155.00 & No Deposit & 35 & NULL & 0 & D & 1 & City Hotel & D & TA/TO \\\\\n\t 140.75 & No Deposit & 35 & NULL & 0 & A & 1 & City Hotel & A & TA/TO \\\\\n\t  99.00 & No Deposit & 35 & NULL & 0 & A & 2 & City Hotel & A & Direct\\\\\n\t 209.00 & No Deposit & 35 & NULL & 0 & G & 2 & City Hotel & G & TA/TO \\\\\n\t  87.60 & No Deposit & 35 & NULL & 0 & A & 2 & City Hotel & A & TA/TO \\\\\n\t  96.14 & No Deposit & 35 & NULL & 0 & A & 2 & City Hotel & A & TA/TO \\\\\n\t  96.14 & No Deposit & 35 & NULL & 0 & A & 2 & City Hotel & A & TA/TO \\\\\n\t 225.43 & No Deposit & 35 & NULL & 0 & E & 2 & City Hotel & E & TA/TO \\\\\n\t 157.71 & No Deposit & 35 & NULL & 0 & D & 2 & City Hotel & D & TA/TO \\\\\n\t 104.40 & No Deposit & 35 & NULL & 0 & A & 2 & City Hotel & A & TA/TO \\\\\n\t 151.20 & No Deposit & 35 & NULL & 0 & A & 2 & City Hotel & A & TA/TO \\\\\n\\end{tabular}\n",
            "text/plain": [
              "       adr    deposit_type arrival_date_week_number company\n",
              "1        0.00 No Deposit   27                       NULL   \n",
              "2        0.00 No Deposit   27                       NULL   \n",
              "3       75.00 No Deposit   27                       NULL   \n",
              "4       75.00 No Deposit   27                       NULL   \n",
              "5       98.00 No Deposit   27                       NULL   \n",
              "6       98.00 No Deposit   27                       NULL   \n",
              "7      107.00 No Deposit   27                       NULL   \n",
              "8      103.00 No Deposit   27                       NULL   \n",
              "9       82.00 No Deposit   27                       NULL   \n",
              "10     105.50 No Deposit   27                       NULL   \n",
              "11     123.00 No Deposit   27                       NULL   \n",
              "12     145.00 No Deposit   27                       NULL   \n",
              "13      97.00 No Deposit   27                       NULL   \n",
              "14     154.77 No Deposit   27                       NULL   \n",
              "15      94.71 No Deposit   27                       NULL   \n",
              "16      97.00 No Deposit   27                       NULL   \n",
              "17      97.50 No Deposit   27                       NULL   \n",
              "18      88.20 No Deposit   27                       NULL   \n",
              "19     107.42 No Deposit   27                       110    \n",
              "20     153.00 No Deposit   27                       NULL   \n",
              "21      97.29 No Deposit   27                       NULL   \n",
              "22      84.67 No Deposit   27                       NULL   \n",
              "23      84.67 No Deposit   27                       NULL   \n",
              "24      99.67 No Deposit   27                       NULL   \n",
              "25      94.95 No Deposit   27                       NULL   \n",
              "26      63.60 No Deposit   27                       NULL   \n",
              "27      79.50 No Deposit   27                       NULL   \n",
              "28     107.00 No Deposit   27                       NULL   \n",
              "29      94.00 No Deposit   27                       NULL   \n",
              "30      87.30 No Deposit   27                       NULL   \n",
              "⋮      ⋮      ⋮            ⋮                        ⋮      \n",
              "119361 117.00 No Deposit   35                       NULL   \n",
              "119362  95.85 No Deposit   35                       NULL   \n",
              "119363 119.17 No Deposit   35                       NULL   \n",
              "119364  92.17 No Deposit   35                       NULL   \n",
              "119365  92.17 No Deposit   35                       NULL   \n",
              "119366 266.75 No Deposit   35                       NULL   \n",
              "119367  85.59 No Deposit   35                       NULL   \n",
              "119368  85.59 No Deposit   35                       NULL   \n",
              "119369  99.00 No Deposit   35                       NULL   \n",
              "119370  96.25 No Deposit   34                       NULL   \n",
              "119371 108.00 No Deposit   35                       NULL   \n",
              "119372  86.85 No Deposit   35                       NULL   \n",
              "119373  82.35 No Deposit   35                       NULL   \n",
              "119374  82.35 No Deposit   35                       NULL   \n",
              "119375 117.00 No Deposit   35                       NULL   \n",
              "119376  85.50 No Deposit   35                       NULL   \n",
              "119377 209.25 No Deposit   35                       NULL   \n",
              "119378  99.00 No Deposit   35                       NULL   \n",
              "119379  86.85 No Deposit   35                       NULL   \n",
              "119380 155.00 No Deposit   35                       NULL   \n",
              "119381 140.75 No Deposit   35                       NULL   \n",
              "119382  99.00 No Deposit   35                       NULL   \n",
              "119383 209.00 No Deposit   35                       NULL   \n",
              "119384  87.60 No Deposit   35                       NULL   \n",
              "119385  96.14 No Deposit   35                       NULL   \n",
              "119386  96.14 No Deposit   35                       NULL   \n",
              "119387 225.43 No Deposit   35                       NULL   \n",
              "119388 157.71 No Deposit   35                       NULL   \n",
              "119389 104.40 No Deposit   35                       NULL   \n",
              "119390 151.20 No Deposit   35                       NULL   \n",
              "       required_car_parking_spaces reserved_room_type stays_in_weekend_nights\n",
              "1      0                           C                  0                      \n",
              "2      0                           C                  0                      \n",
              "3      0                           A                  0                      \n",
              "4      0                           A                  0                      \n",
              "5      0                           A                  0                      \n",
              "6      0                           A                  0                      \n",
              "7      0                           C                  0                      \n",
              "8      0                           C                  0                      \n",
              "9      0                           A                  0                      \n",
              "10     0                           D                  0                      \n",
              "11     0                           E                  0                      \n",
              "12     0                           D                  0                      \n",
              "13     0                           D                  0                      \n",
              "14     0                           G                  0                      \n",
              "15     0                           E                  0                      \n",
              "16     0                           D                  0                      \n",
              "17     0                           E                  0                      \n",
              "18     0                           A                  0                      \n",
              "19     0                           A                  0                      \n",
              "20     0                           G                  0                      \n",
              "21     0                           F                  1                      \n",
              "22     0                           A                  2                      \n",
              "23     0                           A                  2                      \n",
              "24     0                           D                  2                      \n",
              "25     0                           D                  2                      \n",
              "26     1                           D                  2                      \n",
              "27     0                           D                  2                      \n",
              "28     0                           E                  2                      \n",
              "29     0                           A                  2                      \n",
              "30     1                           D                  2                      \n",
              "⋮      ⋮                           ⋮                  ⋮                      \n",
              "119361 0                           A                  1                      \n",
              "119362 0                           D                  1                      \n",
              "119363 0                           A                  1                      \n",
              "119364 0                           D                  2                      \n",
              "119365 0                           D                  2                      \n",
              "119366 0                           G                  3                      \n",
              "119367 0                           A                  2                      \n",
              "119368 0                           A                  2                      \n",
              "119369 0                           A                  1                      \n",
              "119370 0                           A                  3                      \n",
              "119371 0                           A                  1                      \n",
              "119372 0                           A                  1                      \n",
              "119373 0                           A                  1                      \n",
              "119374 0                           A                  1                      \n",
              "119375 0                           A                  1                      \n",
              "119376 0                           A                  1                      \n",
              "119377 0                           E                  1                      \n",
              "119378 0                           A                  1                      \n",
              "119379 0                           A                  1                      \n",
              "119380 0                           D                  1                      \n",
              "119381 0                           A                  1                      \n",
              "119382 0                           A                  2                      \n",
              "119383 0                           G                  2                      \n",
              "119384 0                           A                  2                      \n",
              "119385 0                           A                  2                      \n",
              "119386 0                           A                  2                      \n",
              "119387 0                           E                  2                      \n",
              "119388 0                           D                  2                      \n",
              "119389 0                           A                  2                      \n",
              "119390 0                           A                  2                      \n",
              "       hotel        assigned_room_type distribution_channel\n",
              "1      Resort Hotel C                  Direct              \n",
              "2      Resort Hotel C                  Direct              \n",
              "3      Resort Hotel C                  Direct              \n",
              "4      Resort Hotel A                  Corporate           \n",
              "5      Resort Hotel A                  TA/TO               \n",
              "6      Resort Hotel A                  TA/TO               \n",
              "7      Resort Hotel C                  Direct              \n",
              "8      Resort Hotel C                  Direct              \n",
              "9      Resort Hotel A                  TA/TO               \n",
              "10     Resort Hotel D                  TA/TO               \n",
              "11     Resort Hotel E                  TA/TO               \n",
              "12     Resort Hotel D                  TA/TO               \n",
              "13     Resort Hotel E                  TA/TO               \n",
              "14     Resort Hotel G                  TA/TO               \n",
              "15     Resort Hotel E                  TA/TO               \n",
              "16     Resort Hotel E                  TA/TO               \n",
              "17     Resort Hotel E                  TA/TO               \n",
              "18     Resort Hotel E                  TA/TO               \n",
              "19     Resort Hotel G                  Corporate           \n",
              "20     Resort Hotel G                  Direct              \n",
              "21     Resort Hotel F                  TA/TO               \n",
              "22     Resort Hotel A                  Direct              \n",
              "23     Resort Hotel A                  Direct              \n",
              "24     Resort Hotel D                  Direct              \n",
              "25     Resort Hotel I                  TA/TO               \n",
              "26     Resort Hotel D                  TA/TO               \n",
              "27     Resort Hotel D                  TA/TO               \n",
              "28     Resort Hotel E                  TA/TO               \n",
              "29     Resort Hotel A                  TA/TO               \n",
              "30     Resort Hotel D                  TA/TO               \n",
              "⋮      ⋮            ⋮                  ⋮                   \n",
              "119361 City Hotel   A                  TA/TO               \n",
              "119362 City Hotel   D                  TA/TO               \n",
              "119363 City Hotel   A                  TA/TO               \n",
              "119364 City Hotel   D                  TA/TO               \n",
              "119365 City Hotel   D                  TA/TO               \n",
              "119366 City Hotel   G                  Direct              \n",
              "119367 City Hotel   A                  TA/TO               \n",
              "119368 City Hotel   A                  TA/TO               \n",
              "119369 City Hotel   A                  Direct              \n",
              "119370 City Hotel   A                  Direct              \n",
              "119371 City Hotel   A                  TA/TO               \n",
              "119372 City Hotel   A                  TA/TO               \n",
              "119373 City Hotel   A                  TA/TO               \n",
              "119374 City Hotel   A                  TA/TO               \n",
              "119375 City Hotel   A                  TA/TO               \n",
              "119376 City Hotel   A                  TA/TO               \n",
              "119377 City Hotel   E                  TA/TO               \n",
              "119378 City Hotel   A                  TA/TO               \n",
              "119379 City Hotel   A                  TA/TO               \n",
              "119380 City Hotel   D                  TA/TO               \n",
              "119381 City Hotel   A                  TA/TO               \n",
              "119382 City Hotel   A                  Direct              \n",
              "119383 City Hotel   G                  TA/TO               \n",
              "119384 City Hotel   A                  TA/TO               \n",
              "119385 City Hotel   A                  TA/TO               \n",
              "119386 City Hotel   A                  TA/TO               \n",
              "119387 City Hotel   E                  TA/TO               \n",
              "119388 City Hotel   D                  TA/TO               \n",
              "119389 City Hotel   A                  TA/TO               \n",
              "119390 City Hotel   A                  TA/TO               "
            ]
          },
          "metadata": {}
        }
      ]
    },
    {
      "cell_type": "code",
      "source": [
        "# Checking number of rows and columns\n",
        "# ---\n",
        "# YOUR CODE GOES BELOW\n",
        "#  \n",
        "dim(hotel_booking_df)"
      ],
      "metadata": {
        "colab": {
          "base_uri": "https://localhost:8080/",
          "height": 34
        },
        "id": "V9qIA3vn-b52",
        "outputId": "128995a5-05b1-4e8e-e712-8b367b44f152"
      },
      "execution_count": 15,
      "outputs": [
        {
          "output_type": "display_data",
          "data": {
            "text/html": [
              "<style>\n",
              ".list-inline {list-style: none; margin:0; padding: 0}\n",
              ".list-inline>li {display: inline-block}\n",
              ".list-inline>li:not(:last-child)::after {content: \"\\00b7\"; padding: 0 .5ex}\n",
              "</style>\n",
              "<ol class=list-inline><li>119390</li><li>32</li></ol>\n"
            ],
            "text/markdown": "1. 119390\n2. 32\n\n\n",
            "text/latex": "\\begin{enumerate*}\n\\item 119390\n\\item 32\n\\end{enumerate*}\n",
            "text/plain": [
              "[1] 119390     32"
            ]
          },
          "metadata": {}
        }
      ]
    },
    {
      "cell_type": "code",
      "source": [
        "# Checking datatypes\n",
        "# ---\n",
        "# YOUR CODE GOES BELOW\n",
        "# \n",
        "glimpse(hotel_booking_df)"
      ],
      "metadata": {
        "colab": {
          "base_uri": "https://localhost:8080/"
        },
        "id": "acxZTHT0-fUY",
        "outputId": "3eaf1b59-32dd-4a6f-eb2d-cdc50d0a6503"
      },
      "execution_count": 16,
      "outputs": [
        {
          "output_type": "stream",
          "name": "stdout",
          "text": [
            "Rows: 119,390\n",
            "Columns: 32\n",
            "$ hotel                          \u001b[3m\u001b[90m<chr>\u001b[39m\u001b[23m \"Resort Hotel\", \"Resort Hotel\", \"Resort…\n",
            "$ is_canceled                    \u001b[3m\u001b[90m<int>\u001b[39m\u001b[23m 0, 0, 0, 0, 0, 0, 0, 0, 1, 1, 1, 0, 0, …\n",
            "$ lead_time                      \u001b[3m\u001b[90m<int>\u001b[39m\u001b[23m 342, 737, 7, 13, 14, 14, 0, 9, 85, 75, …\n",
            "$ arrival_date_year              \u001b[3m\u001b[90m<int>\u001b[39m\u001b[23m 2015, 2015, 2015, 2015, 2015, 2015, 201…\n",
            "$ arrival_date_month             \u001b[3m\u001b[90m<chr>\u001b[39m\u001b[23m \"July\", \"July\", \"July\", \"July\", \"July\",…\n",
            "$ arrival_date_week_number       \u001b[3m\u001b[90m<int>\u001b[39m\u001b[23m 27, 27, 27, 27, 27, 27, 27, 27, 27, 27,…\n",
            "$ arrival_date_day_of_month      \u001b[3m\u001b[90m<int>\u001b[39m\u001b[23m 1, 1, 1, 1, 1, 1, 1, 1, 1, 1, 1, 1, 1, …\n",
            "$ stays_in_weekend_nights        \u001b[3m\u001b[90m<int>\u001b[39m\u001b[23m 0, 0, 0, 0, 0, 0, 0, 0, 0, 0, 0, 0, 0, …\n",
            "$ stays_in_week_nights           \u001b[3m\u001b[90m<int>\u001b[39m\u001b[23m 0, 0, 1, 1, 2, 2, 2, 2, 3, 3, 4, 4, 4, …\n",
            "$ adults                         \u001b[3m\u001b[90m<int>\u001b[39m\u001b[23m 2, 2, 1, 1, 2, 2, 2, 2, 2, 2, 2, 2, 2, …\n",
            "$ children                       \u001b[3m\u001b[90m<int>\u001b[39m\u001b[23m 0, 0, 0, 0, 0, 0, 0, 0, 0, 0, 0, 0, 0, …\n",
            "$ babies                         \u001b[3m\u001b[90m<int>\u001b[39m\u001b[23m 0, 0, 0, 0, 0, 0, 0, 0, 0, 0, 0, 0, 0, …\n",
            "$ meal                           \u001b[3m\u001b[90m<chr>\u001b[39m\u001b[23m \"BB\", \"BB\", \"BB\", \"BB\", \"BB\", \"BB\", \"BB…\n",
            "$ country                        \u001b[3m\u001b[90m<chr>\u001b[39m\u001b[23m \"PRT\", \"PRT\", \"GBR\", \"GBR\", \"GBR\", \"GBR…\n",
            "$ market_segment                 \u001b[3m\u001b[90m<chr>\u001b[39m\u001b[23m \"Direct\", \"Direct\", \"Direct\", \"Corporat…\n",
            "$ distribution_channel           \u001b[3m\u001b[90m<chr>\u001b[39m\u001b[23m \"Direct\", \"Direct\", \"Direct\", \"Corporat…\n",
            "$ is_repeated_guest              \u001b[3m\u001b[90m<int>\u001b[39m\u001b[23m 0, 0, 0, 0, 0, 0, 0, 0, 0, 0, 0, 0, 0, …\n",
            "$ previous_cancellations         \u001b[3m\u001b[90m<int>\u001b[39m\u001b[23m 0, 0, 0, 0, 0, 0, 0, 0, 0, 0, 0, 0, 0, …\n",
            "$ previous_bookings_not_canceled \u001b[3m\u001b[90m<int>\u001b[39m\u001b[23m 0, 0, 0, 0, 0, 0, 0, 0, 0, 0, 0, 0, 0, …\n",
            "$ reserved_room_type             \u001b[3m\u001b[90m<chr>\u001b[39m\u001b[23m \"C\", \"C\", \"A\", \"A\", \"A\", \"A\", \"C\", \"C\",…\n",
            "$ assigned_room_type             \u001b[3m\u001b[90m<chr>\u001b[39m\u001b[23m \"C\", \"C\", \"C\", \"A\", \"A\", \"A\", \"C\", \"C\",…\n",
            "$ booking_changes                \u001b[3m\u001b[90m<int>\u001b[39m\u001b[23m 3, 4, 0, 0, 0, 0, 0, 0, 0, 0, 0, 0, 0, …\n",
            "$ deposit_type                   \u001b[3m\u001b[90m<chr>\u001b[39m\u001b[23m \"No Deposit\", \"No Deposit\", \"No Deposit…\n",
            "$ agent                          \u001b[3m\u001b[90m<chr>\u001b[39m\u001b[23m \"NULL\", \"NULL\", \"NULL\", \"304\", \"240\", \"…\n",
            "$ company                        \u001b[3m\u001b[90m<chr>\u001b[39m\u001b[23m \"NULL\", \"NULL\", \"NULL\", \"NULL\", \"NULL\",…\n",
            "$ days_in_waiting_list           \u001b[3m\u001b[90m<int>\u001b[39m\u001b[23m 0, 0, 0, 0, 0, 0, 0, 0, 0, 0, 0, 0, 0, …\n",
            "$ customer_type                  \u001b[3m\u001b[90m<chr>\u001b[39m\u001b[23m \"Transient\", \"Transient\", \"Transient\", …\n",
            "$ adr                            \u001b[3m\u001b[90m<dbl>\u001b[39m\u001b[23m 0.00, 0.00, 75.00, 75.00, 98.00, 98.00,…\n",
            "$ required_car_parking_spaces    \u001b[3m\u001b[90m<int>\u001b[39m\u001b[23m 0, 0, 0, 0, 0, 0, 0, 0, 0, 0, 0, 0, 0, …\n",
            "$ total_of_special_requests      \u001b[3m\u001b[90m<int>\u001b[39m\u001b[23m 0, 0, 0, 0, 1, 1, 0, 1, 1, 0, 0, 0, 3, …\n",
            "$ reservation_status             \u001b[3m\u001b[90m<chr>\u001b[39m\u001b[23m \"Check-Out\", \"Check-Out\", \"Check-Out\", …\n",
            "$ reservation_status_date        \u001b[3m\u001b[90m<chr>\u001b[39m\u001b[23m \"2015-07-01\", \"2015-07-01\", \"2015-07-02…\n"
          ]
        }
      ]
    },
    {
      "cell_type": "markdown",
      "source": [
        "**Observations:**\n",
        "\n",
        "* There are NULL information  is agent and company\n",
        "* There were 119,390 booking"
      ],
      "metadata": {
        "id": "wJCAUbaf-o0y"
      }
    },
    {
      "cell_type": "markdown",
      "source": [
        "### 3. External Data Source Validation\n"
      ],
      "metadata": {
        "id": "d7BvnmrU-4AW"
      }
    },
    {
      "cell_type": "markdown",
      "source": [
        "## 4. Data Preparation\n",
        "### Performing Data Cleaning"
      ],
      "metadata": {
        "id": "4e8fiQO4_UAt"
      }
    },
    {
      "cell_type": "code",
      "source": [
        "# Checking datatypes and missing entries of all the variables\n",
        "# ---\n",
        "# YOUR CODE GOES BELOW\n",
        "# \n",
        "colSums(is.na(hotel_booking_df))"
      ],
      "metadata": {
        "colab": {
          "base_uri": "https://localhost:8080/",
          "height": 104
        },
        "id": "3lxfnLwD_asL",
        "outputId": "79b95f6e-10ab-40b2-b116-a0340f1bb941"
      },
      "execution_count": 17,
      "outputs": [
        {
          "output_type": "display_data",
          "data": {
            "text/html": [
              "<style>\n",
              ".dl-inline {width: auto; margin:0; padding: 0}\n",
              ".dl-inline>dt, .dl-inline>dd {float: none; width: auto; display: inline-block}\n",
              ".dl-inline>dt::after {content: \":\\0020\"; padding-right: .5ex}\n",
              ".dl-inline>dt:not(:first-of-type) {padding-left: .5ex}\n",
              "</style><dl class=dl-inline><dt>hotel</dt><dd>0</dd><dt>is_canceled</dt><dd>0</dd><dt>lead_time</dt><dd>0</dd><dt>arrival_date_year</dt><dd>0</dd><dt>arrival_date_month</dt><dd>0</dd><dt>arrival_date_week_number</dt><dd>0</dd><dt>arrival_date_day_of_month</dt><dd>0</dd><dt>stays_in_weekend_nights</dt><dd>0</dd><dt>stays_in_week_nights</dt><dd>0</dd><dt>adults</dt><dd>0</dd><dt>children</dt><dd>4</dd><dt>babies</dt><dd>0</dd><dt>meal</dt><dd>0</dd><dt>country</dt><dd>0</dd><dt>market_segment</dt><dd>0</dd><dt>distribution_channel</dt><dd>0</dd><dt>is_repeated_guest</dt><dd>0</dd><dt>previous_cancellations</dt><dd>0</dd><dt>previous_bookings_not_canceled</dt><dd>0</dd><dt>reserved_room_type</dt><dd>0</dd><dt>assigned_room_type</dt><dd>0</dd><dt>booking_changes</dt><dd>0</dd><dt>deposit_type</dt><dd>0</dd><dt>agent</dt><dd>0</dd><dt>company</dt><dd>0</dd><dt>days_in_waiting_list</dt><dd>0</dd><dt>customer_type</dt><dd>0</dd><dt>adr</dt><dd>0</dd><dt>required_car_parking_spaces</dt><dd>0</dd><dt>total_of_special_requests</dt><dd>0</dd><dt>reservation_status</dt><dd>0</dd><dt>reservation_status_date</dt><dd>0</dd></dl>\n"
            ],
            "text/markdown": "hotel\n:   0is_canceled\n:   0lead_time\n:   0arrival_date_year\n:   0arrival_date_month\n:   0arrival_date_week_number\n:   0arrival_date_day_of_month\n:   0stays_in_weekend_nights\n:   0stays_in_week_nights\n:   0adults\n:   0children\n:   4babies\n:   0meal\n:   0country\n:   0market_segment\n:   0distribution_channel\n:   0is_repeated_guest\n:   0previous_cancellations\n:   0previous_bookings_not_canceled\n:   0reserved_room_type\n:   0assigned_room_type\n:   0booking_changes\n:   0deposit_type\n:   0agent\n:   0company\n:   0days_in_waiting_list\n:   0customer_type\n:   0adr\n:   0required_car_parking_spaces\n:   0total_of_special_requests\n:   0reservation_status\n:   0reservation_status_date\n:   0\n\n",
            "text/latex": "\\begin{description*}\n\\item[hotel] 0\n\\item[is\\textbackslash{}\\_canceled] 0\n\\item[lead\\textbackslash{}\\_time] 0\n\\item[arrival\\textbackslash{}\\_date\\textbackslash{}\\_year] 0\n\\item[arrival\\textbackslash{}\\_date\\textbackslash{}\\_month] 0\n\\item[arrival\\textbackslash{}\\_date\\textbackslash{}\\_week\\textbackslash{}\\_number] 0\n\\item[arrival\\textbackslash{}\\_date\\textbackslash{}\\_day\\textbackslash{}\\_of\\textbackslash{}\\_month] 0\n\\item[stays\\textbackslash{}\\_in\\textbackslash{}\\_weekend\\textbackslash{}\\_nights] 0\n\\item[stays\\textbackslash{}\\_in\\textbackslash{}\\_week\\textbackslash{}\\_nights] 0\n\\item[adults] 0\n\\item[children] 4\n\\item[babies] 0\n\\item[meal] 0\n\\item[country] 0\n\\item[market\\textbackslash{}\\_segment] 0\n\\item[distribution\\textbackslash{}\\_channel] 0\n\\item[is\\textbackslash{}\\_repeated\\textbackslash{}\\_guest] 0\n\\item[previous\\textbackslash{}\\_cancellations] 0\n\\item[previous\\textbackslash{}\\_bookings\\textbackslash{}\\_not\\textbackslash{}\\_canceled] 0\n\\item[reserved\\textbackslash{}\\_room\\textbackslash{}\\_type] 0\n\\item[assigned\\textbackslash{}\\_room\\textbackslash{}\\_type] 0\n\\item[booking\\textbackslash{}\\_changes] 0\n\\item[deposit\\textbackslash{}\\_type] 0\n\\item[agent] 0\n\\item[company] 0\n\\item[days\\textbackslash{}\\_in\\textbackslash{}\\_waiting\\textbackslash{}\\_list] 0\n\\item[customer\\textbackslash{}\\_type] 0\n\\item[adr] 0\n\\item[required\\textbackslash{}\\_car\\textbackslash{}\\_parking\\textbackslash{}\\_spaces] 0\n\\item[total\\textbackslash{}\\_of\\textbackslash{}\\_special\\textbackslash{}\\_requests] 0\n\\item[reservation\\textbackslash{}\\_status] 0\n\\item[reservation\\textbackslash{}\\_status\\textbackslash{}\\_date] 0\n\\end{description*}\n",
            "text/plain": [
              "                         hotel                    is_canceled \n",
              "                             0                              0 \n",
              "                     lead_time              arrival_date_year \n",
              "                             0                              0 \n",
              "            arrival_date_month       arrival_date_week_number \n",
              "                             0                              0 \n",
              "     arrival_date_day_of_month        stays_in_weekend_nights \n",
              "                             0                              0 \n",
              "          stays_in_week_nights                         adults \n",
              "                             0                              0 \n",
              "                      children                         babies \n",
              "                             4                              0 \n",
              "                          meal                        country \n",
              "                             0                              0 \n",
              "                market_segment           distribution_channel \n",
              "                             0                              0 \n",
              "             is_repeated_guest         previous_cancellations \n",
              "                             0                              0 \n",
              "previous_bookings_not_canceled             reserved_room_type \n",
              "                             0                              0 \n",
              "            assigned_room_type                booking_changes \n",
              "                             0                              0 \n",
              "                  deposit_type                          agent \n",
              "                             0                              0 \n",
              "                       company           days_in_waiting_list \n",
              "                             0                              0 \n",
              "                 customer_type                            adr \n",
              "                             0                              0 \n",
              "   required_car_parking_spaces      total_of_special_requests \n",
              "                             0                              0 \n",
              "            reservation_status        reservation_status_date \n",
              "                             0                              0 "
            ]
          },
          "metadata": {}
        }
      ]
    },
    {
      "cell_type": "markdown",
      "source": [
        "**Observation**\n",
        "* There are 4 missing data whose children is missing values"
      ],
      "metadata": {
        "id": "wXVpci3k_iWR"
      }
    },
    {
      "cell_type": "code",
      "source": [
        "#Checking how many duplicate rows are there in the data\n",
        "# ---\n",
        "# YOUR CODE GOES BELOW\n",
        "# \n",
        "\n",
        "hotel_booking_df[duplicated(hotel_booking_df), ]"
      ],
      "metadata": {
        "colab": {
          "base_uri": "https://localhost:8080/",
          "height": 1000
        },
        "id": "whOF0R4E_nU1",
        "outputId": "bc21196c-0a0e-45a2-bf66-2f4cada800de"
      },
      "execution_count": 19,
      "outputs": [
        {
          "output_type": "display_data",
          "data": {
            "text/html": [
              "<table class=\"dataframe\">\n",
              "<caption>A data.frame: 31994 × 32</caption>\n",
              "<thead>\n",
              "\t<tr><th></th><th scope=col>hotel</th><th scope=col>is_canceled</th><th scope=col>lead_time</th><th scope=col>arrival_date_year</th><th scope=col>arrival_date_month</th><th scope=col>arrival_date_week_number</th><th scope=col>arrival_date_day_of_month</th><th scope=col>stays_in_weekend_nights</th><th scope=col>stays_in_week_nights</th><th scope=col>adults</th><th scope=col>⋯</th><th scope=col>deposit_type</th><th scope=col>agent</th><th scope=col>company</th><th scope=col>days_in_waiting_list</th><th scope=col>customer_type</th><th scope=col>adr</th><th scope=col>required_car_parking_spaces</th><th scope=col>total_of_special_requests</th><th scope=col>reservation_status</th><th scope=col>reservation_status_date</th></tr>\n",
              "\t<tr><th></th><th scope=col>&lt;chr&gt;</th><th scope=col>&lt;int&gt;</th><th scope=col>&lt;int&gt;</th><th scope=col>&lt;int&gt;</th><th scope=col>&lt;chr&gt;</th><th scope=col>&lt;int&gt;</th><th scope=col>&lt;int&gt;</th><th scope=col>&lt;int&gt;</th><th scope=col>&lt;int&gt;</th><th scope=col>&lt;int&gt;</th><th scope=col>⋯</th><th scope=col>&lt;chr&gt;</th><th scope=col>&lt;chr&gt;</th><th scope=col>&lt;chr&gt;</th><th scope=col>&lt;int&gt;</th><th scope=col>&lt;chr&gt;</th><th scope=col>&lt;dbl&gt;</th><th scope=col>&lt;int&gt;</th><th scope=col>&lt;int&gt;</th><th scope=col>&lt;chr&gt;</th><th scope=col>&lt;chr&gt;</th></tr>\n",
              "</thead>\n",
              "<tbody>\n",
              "\t<tr><th scope=row>6</th><td>Resort Hotel</td><td>0</td><td> 14</td><td>2015</td><td>July</td><td>27</td><td> 1</td><td>0</td><td>2</td><td>2</td><td>⋯</td><td>No Deposit</td><td>240 </td><td>NULL</td><td>0</td><td>Transient      </td><td> 98.00</td><td>0</td><td>1</td><td>Check-Out</td><td>2015-07-03</td></tr>\n",
              "\t<tr><th scope=row>23</th><td>Resort Hotel</td><td>0</td><td> 72</td><td>2015</td><td>July</td><td>27</td><td> 1</td><td>2</td><td>4</td><td>2</td><td>⋯</td><td>No Deposit</td><td>250 </td><td>NULL</td><td>0</td><td>Transient      </td><td> 84.67</td><td>0</td><td>1</td><td>Check-Out</td><td>2015-07-07</td></tr>\n",
              "\t<tr><th scope=row>44</th><td>Resort Hotel</td><td>0</td><td> 70</td><td>2015</td><td>July</td><td>27</td><td> 2</td><td>2</td><td>3</td><td>2</td><td>⋯</td><td>No Deposit</td><td>250 </td><td>NULL</td><td>0</td><td>Transient      </td><td>137.00</td><td>0</td><td>1</td><td>Check-Out</td><td>2015-07-07</td></tr>\n",
              "\t<tr><th scope=row>139</th><td>Resort Hotel</td><td>1</td><td>  5</td><td>2015</td><td>July</td><td>28</td><td> 5</td><td>1</td><td>0</td><td>2</td><td>⋯</td><td>No Deposit</td><td>240 </td><td>NULL</td><td>0</td><td>Transient      </td><td> 97.00</td><td>0</td><td>0</td><td>Canceled </td><td>2015-07-01</td></tr>\n",
              "\t<tr><th scope=row>201</th><td>Resort Hotel</td><td>0</td><td>  0</td><td>2015</td><td>July</td><td>28</td><td> 7</td><td>0</td><td>1</td><td>1</td><td>⋯</td><td>No Deposit</td><td>240 </td><td>NULL</td><td>0</td><td>Transient      </td><td>109.80</td><td>0</td><td>3</td><td>Check-Out</td><td>2015-07-08</td></tr>\n",
              "\t<tr><th scope=row>220</th><td>Resort Hotel</td><td>1</td><td>  1</td><td>2015</td><td>July</td><td>28</td><td> 8</td><td>0</td><td>1</td><td>2</td><td>⋯</td><td>No Deposit</td><td>NULL</td><td>110 </td><td>0</td><td>Transient      </td><td>104.72</td><td>0</td><td>1</td><td>Canceled </td><td>2015-07-08</td></tr>\n",
              "\t<tr><th scope=row>257</th><td>Resort Hotel</td><td>0</td><td> 91</td><td>2015</td><td>July</td><td>28</td><td>10</td><td>0</td><td>2</td><td>2</td><td>⋯</td><td>No Deposit</td><td>240 </td><td>NULL</td><td>0</td><td>Transient      </td><td> 73.80</td><td>0</td><td>1</td><td>Check-Out</td><td>2015-07-12</td></tr>\n",
              "\t<tr><th scope=row>262</th><td>Resort Hotel</td><td>0</td><td> 30</td><td>2015</td><td>July</td><td>28</td><td>10</td><td>2</td><td>2</td><td>2</td><td>⋯</td><td>No Deposit</td><td>NULL</td><td>NULL</td><td>0</td><td>Transient-Party</td><td>197.00</td><td>0</td><td>1</td><td>Check-Out</td><td>2015-07-14</td></tr>\n",
              "\t<tr><th scope=row>354</th><td>Resort Hotel</td><td>0</td><td> 98</td><td>2015</td><td>July</td><td>29</td><td>13</td><td>1</td><td>1</td><td>2</td><td>⋯</td><td>No Deposit</td><td>240 </td><td>NULL</td><td>0</td><td>Transient-Party</td><td> 82.00</td><td>0</td><td>3</td><td>Check-Out</td><td>2015-07-15</td></tr>\n",
              "\t<tr><th scope=row>373</th><td>Resort Hotel</td><td>0</td><td> 40</td><td>2015</td><td>July</td><td>29</td><td>13</td><td>1</td><td>4</td><td>2</td><td>⋯</td><td>No Deposit</td><td>250 </td><td>NULL</td><td>0</td><td>Transient      </td><td>120.00</td><td>0</td><td>2</td><td>Check-Out</td><td>2015-07-18</td></tr>\n",
              "\t<tr><th scope=row>416</th><td>Resort Hotel</td><td>0</td><td> 57</td><td>2015</td><td>July</td><td>29</td><td>15</td><td>0</td><td>2</td><td>2</td><td>⋯</td><td>No Deposit</td><td>305 </td><td>NULL</td><td>0</td><td>Transient-Party</td><td>107.00</td><td>0</td><td>0</td><td>Check-Out</td><td>2015-07-17</td></tr>\n",
              "\t<tr><th scope=row>417</th><td>Resort Hotel</td><td>0</td><td> 57</td><td>2015</td><td>July</td><td>29</td><td>15</td><td>0</td><td>2</td><td>2</td><td>⋯</td><td>No Deposit</td><td>305 </td><td>NULL</td><td>0</td><td>Transient-Party</td><td>107.00</td><td>0</td><td>0</td><td>Check-Out</td><td>2015-07-17</td></tr>\n",
              "\t<tr><th scope=row>426</th><td>Resort Hotel</td><td>0</td><td> 57</td><td>2015</td><td>July</td><td>29</td><td>15</td><td>0</td><td>2</td><td>2</td><td>⋯</td><td>No Deposit</td><td>305 </td><td>NULL</td><td>0</td><td>Transient      </td><td>107.00</td><td>0</td><td>0</td><td>Check-Out</td><td>2015-07-17</td></tr>\n",
              "\t<tr><th scope=row>427</th><td>Resort Hotel</td><td>0</td><td> 57</td><td>2015</td><td>July</td><td>29</td><td>15</td><td>0</td><td>2</td><td>2</td><td>⋯</td><td>No Deposit</td><td>305 </td><td>NULL</td><td>0</td><td>Transient      </td><td>107.00</td><td>0</td><td>0</td><td>Check-Out</td><td>2015-07-17</td></tr>\n",
              "\t<tr><th scope=row>428</th><td>Resort Hotel</td><td>0</td><td> 57</td><td>2015</td><td>July</td><td>29</td><td>15</td><td>0</td><td>2</td><td>3</td><td>⋯</td><td>No Deposit</td><td>305 </td><td>NULL</td><td>0</td><td>Transient-Party</td><td>148.23</td><td>0</td><td>0</td><td>Check-Out</td><td>2015-07-17</td></tr>\n",
              "\t<tr><th scope=row>430</th><td>Resort Hotel</td><td>0</td><td> 57</td><td>2015</td><td>July</td><td>29</td><td>15</td><td>0</td><td>2</td><td>2</td><td>⋯</td><td>No Deposit</td><td>305 </td><td>NULL</td><td>0</td><td>Transient-Party</td><td>107.00</td><td>0</td><td>0</td><td>Check-Out</td><td>2015-07-17</td></tr>\n",
              "\t<tr><th scope=row>431</th><td>Resort Hotel</td><td>0</td><td> 57</td><td>2015</td><td>July</td><td>29</td><td>15</td><td>0</td><td>2</td><td>2</td><td>⋯</td><td>No Deposit</td><td>305 </td><td>NULL</td><td>0</td><td>Transient      </td><td>107.00</td><td>0</td><td>0</td><td>Check-Out</td><td>2015-07-17</td></tr>\n",
              "\t<tr><th scope=row>432</th><td>Resort Hotel</td><td>0</td><td> 57</td><td>2015</td><td>July</td><td>29</td><td>15</td><td>0</td><td>2</td><td>2</td><td>⋯</td><td>No Deposit</td><td>305 </td><td>NULL</td><td>0</td><td>Transient      </td><td>107.00</td><td>0</td><td>0</td><td>Check-Out</td><td>2015-07-17</td></tr>\n",
              "\t<tr><th scope=row>433</th><td>Resort Hotel</td><td>0</td><td> 57</td><td>2015</td><td>July</td><td>29</td><td>15</td><td>0</td><td>2</td><td>2</td><td>⋯</td><td>No Deposit</td><td>305 </td><td>NULL</td><td>0</td><td>Transient-Party</td><td>107.00</td><td>0</td><td>0</td><td>Check-Out</td><td>2015-07-17</td></tr>\n",
              "\t<tr><th scope=row>434</th><td>Resort Hotel</td><td>0</td><td> 57</td><td>2015</td><td>July</td><td>29</td><td>15</td><td>0</td><td>2</td><td>2</td><td>⋯</td><td>No Deposit</td><td>305 </td><td>NULL</td><td>0</td><td>Transient-Party</td><td> 98.75</td><td>0</td><td>0</td><td>Check-Out</td><td>2015-07-17</td></tr>\n",
              "\t<tr><th scope=row>479</th><td>Resort Hotel</td><td>0</td><td> 53</td><td>2015</td><td>July</td><td>29</td><td>17</td><td>2</td><td>3</td><td>2</td><td>⋯</td><td>No Deposit</td><td>152 </td><td>NULL</td><td>0</td><td>Transient-Party</td><td>107.00</td><td>0</td><td>0</td><td>Check-Out</td><td>2015-07-22</td></tr>\n",
              "\t<tr><th scope=row>481</th><td>Resort Hotel</td><td>0</td><td> 64</td><td>2015</td><td>July</td><td>29</td><td>17</td><td>2</td><td>3</td><td>1</td><td>⋯</td><td>No Deposit</td><td>175 </td><td>NULL</td><td>0</td><td>Transient-Party</td><td> 84.80</td><td>0</td><td>1</td><td>Check-Out</td><td>2015-07-22</td></tr>\n",
              "\t<tr><th scope=row>491</th><td>Resort Hotel</td><td>0</td><td> 90</td><td>2015</td><td>July</td><td>29</td><td>17</td><td>2</td><td>5</td><td>2</td><td>⋯</td><td>No Deposit</td><td>240 </td><td>NULL</td><td>0</td><td>Transient      </td><td>132.30</td><td>0</td><td>3</td><td>Check-Out</td><td>2015-07-24</td></tr>\n",
              "\t<tr><th scope=row>533</th><td>Resort Hotel</td><td>0</td><td> 64</td><td>2015</td><td>July</td><td>29</td><td>18</td><td>2</td><td>5</td><td>2</td><td>⋯</td><td>No Deposit</td><td>NULL</td><td>NULL</td><td>0</td><td>Transient      </td><td>128.25</td><td>0</td><td>1</td><td>Check-Out</td><td>2015-07-25</td></tr>\n",
              "\t<tr><th scope=row>534</th><td>Resort Hotel</td><td>0</td><td> 94</td><td>2015</td><td>July</td><td>29</td><td>18</td><td>2</td><td>5</td><td>2</td><td>⋯</td><td>No Deposit</td><td>250 </td><td>NULL</td><td>0</td><td>Transient      </td><td>115.00</td><td>0</td><td>1</td><td>Check-Out</td><td>2015-07-25</td></tr>\n",
              "\t<tr><th scope=row>537</th><td>Resort Hotel</td><td>0</td><td> 57</td><td>2015</td><td>July</td><td>29</td><td>18</td><td>2</td><td>6</td><td>2</td><td>⋯</td><td>No Deposit</td><td>196 </td><td>NULL</td><td>0</td><td>Transient      </td><td>135.00</td><td>0</td><td>1</td><td>Check-Out</td><td>2015-07-26</td></tr>\n",
              "\t<tr><th scope=row>554</th><td>Resort Hotel</td><td>1</td><td> 62</td><td>2015</td><td>July</td><td>30</td><td>19</td><td>2</td><td>5</td><td>2</td><td>⋯</td><td>No Deposit</td><td>261 </td><td>NULL</td><td>0</td><td>Transient      </td><td>158.50</td><td>0</td><td>1</td><td>Canceled </td><td>2015-06-17</td></tr>\n",
              "\t<tr><th scope=row>561</th><td>Resort Hotel</td><td>0</td><td>104</td><td>2015</td><td>July</td><td>30</td><td>19</td><td>2</td><td>5</td><td>2</td><td>⋯</td><td>No Deposit</td><td>115 </td><td>NULL</td><td>0</td><td>Contract       </td><td>123.00</td><td>0</td><td>1</td><td>Check-Out</td><td>2015-07-26</td></tr>\n",
              "\t<tr><th scope=row>577</th><td>Resort Hotel</td><td>1</td><td> 41</td><td>2015</td><td>July</td><td>30</td><td>20</td><td>1</td><td>3</td><td>2</td><td>⋯</td><td>No Deposit</td><td>240 </td><td>NULL</td><td>0</td><td>Transient      </td><td>135.00</td><td>0</td><td>1</td><td>Canceled </td><td>2015-06-15</td></tr>\n",
              "\t<tr><th scope=row>597</th><td>Resort Hotel</td><td>0</td><td> 39</td><td>2015</td><td>July</td><td>30</td><td>20</td><td>3</td><td>7</td><td>2</td><td>⋯</td><td>No Deposit</td><td>142 </td><td>NULL</td><td>0</td><td>Transient      </td><td>141.60</td><td>0</td><td>1</td><td>Check-Out</td><td>2015-07-30</td></tr>\n",
              "\t<tr><th scope=row>⋮</th><td>⋮</td><td>⋮</td><td>⋮</td><td>⋮</td><td>⋮</td><td>⋮</td><td>⋮</td><td>⋮</td><td>⋮</td><td>⋮</td><td>⋱</td><td>⋮</td><td>⋮</td><td>⋮</td><td>⋮</td><td>⋮</td><td>⋮</td><td>⋮</td><td>⋮</td><td>⋮</td><td>⋮</td></tr>\n",
              "\t<tr><th scope=row>119230</th><td>City Hotel</td><td>0</td><td>213</td><td>2017</td><td>August</td><td>35</td><td>28</td><td>1</td><td>3</td><td>1</td><td>⋯</td><td>No Deposit</td><td>19</td><td>NULL</td><td>0</td><td>Transient-Party</td><td>104.00</td><td>0</td><td>0</td><td>Check-Out</td><td>2017-09-01</td></tr>\n",
              "\t<tr><th scope=row>119231</th><td>City Hotel</td><td>0</td><td>213</td><td>2017</td><td>August</td><td>35</td><td>28</td><td>1</td><td>3</td><td>1</td><td>⋯</td><td>No Deposit</td><td>19</td><td>NULL</td><td>0</td><td>Transient-Party</td><td>104.00</td><td>0</td><td>0</td><td>Check-Out</td><td>2017-09-01</td></tr>\n",
              "\t<tr><th scope=row>119232</th><td>City Hotel</td><td>0</td><td>213</td><td>2017</td><td>August</td><td>35</td><td>28</td><td>1</td><td>3</td><td>1</td><td>⋯</td><td>No Deposit</td><td>19</td><td>NULL</td><td>0</td><td>Transient-Party</td><td>104.00</td><td>0</td><td>0</td><td>Check-Out</td><td>2017-09-01</td></tr>\n",
              "\t<tr><th scope=row>119233</th><td>City Hotel</td><td>0</td><td>213</td><td>2017</td><td>August</td><td>35</td><td>28</td><td>1</td><td>3</td><td>1</td><td>⋯</td><td>No Deposit</td><td>19</td><td>NULL</td><td>0</td><td>Transient-Party</td><td>104.00</td><td>0</td><td>0</td><td>Check-Out</td><td>2017-09-01</td></tr>\n",
              "\t<tr><th scope=row>119240</th><td>City Hotel</td><td>0</td><td>213</td><td>2017</td><td>August</td><td>35</td><td>28</td><td>1</td><td>3</td><td>1</td><td>⋯</td><td>No Deposit</td><td>19</td><td>NULL</td><td>0</td><td>Transient-Party</td><td>104.00</td><td>0</td><td>0</td><td>Check-Out</td><td>2017-09-01</td></tr>\n",
              "\t<tr><th scope=row>119245</th><td>City Hotel</td><td>0</td><td> 97</td><td>2017</td><td>August</td><td>35</td><td>28</td><td>1</td><td>3</td><td>1</td><td>⋯</td><td>No Deposit</td><td>19</td><td>NULL</td><td>0</td><td>Transient-Party</td><td>104.00</td><td>0</td><td>0</td><td>Check-Out</td><td>2017-09-01</td></tr>\n",
              "\t<tr><th scope=row>119246</th><td>City Hotel</td><td>0</td><td>213</td><td>2017</td><td>August</td><td>35</td><td>28</td><td>1</td><td>3</td><td>1</td><td>⋯</td><td>No Deposit</td><td>19</td><td>NULL</td><td>0</td><td>Transient-Party</td><td>104.00</td><td>0</td><td>0</td><td>Check-Out</td><td>2017-09-01</td></tr>\n",
              "\t<tr><th scope=row>119251</th><td>City Hotel</td><td>0</td><td>213</td><td>2017</td><td>August</td><td>35</td><td>28</td><td>1</td><td>3</td><td>1</td><td>⋯</td><td>No Deposit</td><td>19</td><td>NULL</td><td>0</td><td>Transient-Party</td><td>104.00</td><td>0</td><td>0</td><td>Check-Out</td><td>2017-09-01</td></tr>\n",
              "\t<tr><th scope=row>119252</th><td>City Hotel</td><td>0</td><td>140</td><td>2017</td><td>August</td><td>35</td><td>27</td><td>2</td><td>3</td><td>2</td><td>⋯</td><td>No Deposit</td><td>9 </td><td>NULL</td><td>0</td><td>Transient      </td><td>235.00</td><td>0</td><td>0</td><td>Check-Out</td><td>2017-09-01</td></tr>\n",
              "\t<tr><th scope=row>119254</th><td>City Hotel</td><td>0</td><td>213</td><td>2017</td><td>August</td><td>35</td><td>28</td><td>1</td><td>3</td><td>1</td><td>⋯</td><td>No Deposit</td><td>19</td><td>NULL</td><td>0</td><td>Transient-Party</td><td>104.00</td><td>0</td><td>0</td><td>Check-Out</td><td>2017-09-01</td></tr>\n",
              "\t<tr><th scope=row>119260</th><td>City Hotel</td><td>0</td><td>213</td><td>2017</td><td>August</td><td>35</td><td>28</td><td>1</td><td>3</td><td>1</td><td>⋯</td><td>No Deposit</td><td>19</td><td>NULL</td><td>0</td><td>Transient-Party</td><td>104.00</td><td>0</td><td>0</td><td>Check-Out</td><td>2017-09-01</td></tr>\n",
              "\t<tr><th scope=row>119263</th><td>City Hotel</td><td>0</td><td>213</td><td>2017</td><td>August</td><td>35</td><td>28</td><td>1</td><td>3</td><td>1</td><td>⋯</td><td>No Deposit</td><td>19</td><td>NULL</td><td>0</td><td>Transient-Party</td><td>104.00</td><td>0</td><td>0</td><td>Check-Out</td><td>2017-09-01</td></tr>\n",
              "\t<tr><th scope=row>119265</th><td>City Hotel</td><td>0</td><td>213</td><td>2017</td><td>August</td><td>35</td><td>28</td><td>1</td><td>3</td><td>1</td><td>⋯</td><td>No Deposit</td><td>19</td><td>NULL</td><td>0</td><td>Transient-Party</td><td>104.00</td><td>0</td><td>0</td><td>Check-Out</td><td>2017-09-01</td></tr>\n",
              "\t<tr><th scope=row>119266</th><td>City Hotel</td><td>0</td><td>213</td><td>2017</td><td>August</td><td>35</td><td>28</td><td>1</td><td>3</td><td>1</td><td>⋯</td><td>No Deposit</td><td>19</td><td>NULL</td><td>0</td><td>Transient-Party</td><td>104.00</td><td>0</td><td>0</td><td>Check-Out</td><td>2017-09-01</td></tr>\n",
              "\t<tr><th scope=row>119267</th><td>City Hotel</td><td>0</td><td>213</td><td>2017</td><td>August</td><td>35</td><td>28</td><td>1</td><td>3</td><td>1</td><td>⋯</td><td>No Deposit</td><td>19</td><td>NULL</td><td>0</td><td>Transient-Party</td><td>104.00</td><td>0</td><td>0</td><td>Check-Out</td><td>2017-09-01</td></tr>\n",
              "\t<tr><th scope=row>119268</th><td>City Hotel</td><td>0</td><td>213</td><td>2017</td><td>August</td><td>35</td><td>28</td><td>1</td><td>3</td><td>1</td><td>⋯</td><td>No Deposit</td><td>19</td><td>NULL</td><td>0</td><td>Transient-Party</td><td>104.00</td><td>0</td><td>0</td><td>Check-Out</td><td>2017-09-01</td></tr>\n",
              "\t<tr><th scope=row>119272</th><td>City Hotel</td><td>0</td><td>213</td><td>2017</td><td>August</td><td>35</td><td>28</td><td>1</td><td>3</td><td>1</td><td>⋯</td><td>No Deposit</td><td>19</td><td>NULL</td><td>0</td><td>Transient-Party</td><td>104.00</td><td>0</td><td>0</td><td>Check-Out</td><td>2017-09-01</td></tr>\n",
              "\t<tr><th scope=row>119276</th><td>City Hotel</td><td>0</td><td>213</td><td>2017</td><td>August</td><td>35</td><td>28</td><td>1</td><td>3</td><td>1</td><td>⋯</td><td>No Deposit</td><td>19</td><td>NULL</td><td>0</td><td>Transient-Party</td><td>104.00</td><td>0</td><td>0</td><td>Check-Out</td><td>2017-09-01</td></tr>\n",
              "\t<tr><th scope=row>119277</th><td>City Hotel</td><td>0</td><td>213</td><td>2017</td><td>August</td><td>35</td><td>28</td><td>1</td><td>3</td><td>1</td><td>⋯</td><td>No Deposit</td><td>19</td><td>NULL</td><td>0</td><td>Transient-Party</td><td>104.00</td><td>0</td><td>0</td><td>Check-Out</td><td>2017-09-01</td></tr>\n",
              "\t<tr><th scope=row>119278</th><td>City Hotel</td><td>0</td><td>213</td><td>2017</td><td>August</td><td>35</td><td>28</td><td>1</td><td>3</td><td>1</td><td>⋯</td><td>No Deposit</td><td>19</td><td>NULL</td><td>0</td><td>Transient-Party</td><td>104.00</td><td>0</td><td>0</td><td>Check-Out</td><td>2017-09-01</td></tr>\n",
              "\t<tr><th scope=row>119316</th><td>City Hotel</td><td>0</td><td>230</td><td>2017</td><td>August</td><td>35</td><td>31</td><td>0</td><td>3</td><td>2</td><td>⋯</td><td>No Deposit</td><td>28</td><td>NULL</td><td>0</td><td>Transient      </td><td>109.50</td><td>0</td><td>0</td><td>Check-Out</td><td>2017-09-03</td></tr>\n",
              "\t<tr><th scope=row>119328</th><td>City Hotel</td><td>0</td><td>186</td><td>2017</td><td>August</td><td>35</td><td>31</td><td>0</td><td>3</td><td>2</td><td>⋯</td><td>No Deposit</td><td>9 </td><td>NULL</td><td>0</td><td>Transient      </td><td>126.00</td><td>0</td><td>2</td><td>Check-Out</td><td>2017-09-03</td></tr>\n",
              "\t<tr><th scope=row>119343</th><td>City Hotel</td><td>0</td><td> 63</td><td>2017</td><td>August</td><td>35</td><td>31</td><td>0</td><td>3</td><td>3</td><td>⋯</td><td>No Deposit</td><td>9 </td><td>NULL</td><td>0</td><td>Transient-Party</td><td>195.33</td><td>0</td><td>2</td><td>Check-Out</td><td>2017-09-03</td></tr>\n",
              "\t<tr><th scope=row>119348</th><td>City Hotel</td><td>0</td><td> 63</td><td>2017</td><td>August</td><td>35</td><td>31</td><td>0</td><td>3</td><td>3</td><td>⋯</td><td>No Deposit</td><td>9 </td><td>NULL</td><td>0</td><td>Transient-Party</td><td>195.33</td><td>0</td><td>2</td><td>Check-Out</td><td>2017-09-03</td></tr>\n",
              "\t<tr><th scope=row>119349</th><td>City Hotel</td><td>0</td><td> 63</td><td>2017</td><td>August</td><td>35</td><td>31</td><td>0</td><td>3</td><td>3</td><td>⋯</td><td>No Deposit</td><td>9 </td><td>NULL</td><td>0</td><td>Transient-Party</td><td>195.33</td><td>0</td><td>2</td><td>Check-Out</td><td>2017-09-03</td></tr>\n",
              "\t<tr><th scope=row>119350</th><td>City Hotel</td><td>0</td><td>186</td><td>2017</td><td>August</td><td>35</td><td>31</td><td>0</td><td>3</td><td>2</td><td>⋯</td><td>No Deposit</td><td>9 </td><td>NULL</td><td>0</td><td>Transient      </td><td>126.00</td><td>0</td><td>2</td><td>Check-Out</td><td>2017-09-03</td></tr>\n",
              "\t<tr><th scope=row>119353</th><td>City Hotel</td><td>0</td><td> 63</td><td>2017</td><td>August</td><td>35</td><td>31</td><td>0</td><td>3</td><td>3</td><td>⋯</td><td>No Deposit</td><td>9 </td><td>NULL</td><td>0</td><td>Transient-Party</td><td>195.33</td><td>0</td><td>2</td><td>Check-Out</td><td>2017-09-03</td></tr>\n",
              "\t<tr><th scope=row>119354</th><td>City Hotel</td><td>0</td><td> 63</td><td>2017</td><td>August</td><td>35</td><td>31</td><td>0</td><td>3</td><td>3</td><td>⋯</td><td>No Deposit</td><td>9 </td><td>NULL</td><td>0</td><td>Transient-Party</td><td>195.33</td><td>0</td><td>2</td><td>Check-Out</td><td>2017-09-03</td></tr>\n",
              "\t<tr><th scope=row>119355</th><td>City Hotel</td><td>0</td><td> 63</td><td>2017</td><td>August</td><td>35</td><td>31</td><td>0</td><td>3</td><td>3</td><td>⋯</td><td>No Deposit</td><td>9 </td><td>NULL</td><td>0</td><td>Transient-Party</td><td>195.33</td><td>0</td><td>2</td><td>Check-Out</td><td>2017-09-03</td></tr>\n",
              "\t<tr><th scope=row>119374</th><td>City Hotel</td><td>0</td><td>175</td><td>2017</td><td>August</td><td>35</td><td>31</td><td>1</td><td>3</td><td>1</td><td>⋯</td><td>No Deposit</td><td>42</td><td>NULL</td><td>0</td><td>Transient      </td><td> 82.35</td><td>0</td><td>1</td><td>Check-Out</td><td>2017-09-04</td></tr>\n",
              "</tbody>\n",
              "</table>\n"
            ],
            "text/markdown": "\nA data.frame: 31994 × 32\n\n| <!--/--> | hotel &lt;chr&gt; | is_canceled &lt;int&gt; | lead_time &lt;int&gt; | arrival_date_year &lt;int&gt; | arrival_date_month &lt;chr&gt; | arrival_date_week_number &lt;int&gt; | arrival_date_day_of_month &lt;int&gt; | stays_in_weekend_nights &lt;int&gt; | stays_in_week_nights &lt;int&gt; | adults &lt;int&gt; | ⋯ ⋯ | deposit_type &lt;chr&gt; | agent &lt;chr&gt; | company &lt;chr&gt; | days_in_waiting_list &lt;int&gt; | customer_type &lt;chr&gt; | adr &lt;dbl&gt; | required_car_parking_spaces &lt;int&gt; | total_of_special_requests &lt;int&gt; | reservation_status &lt;chr&gt; | reservation_status_date &lt;chr&gt; |\n|---|---|---|---|---|---|---|---|---|---|---|---|---|---|---|---|---|---|---|---|---|---|\n| 6 | Resort Hotel | 0 |  14 | 2015 | July | 27 |  1 | 0 | 2 | 2 | ⋯ | No Deposit | 240  | NULL | 0 | Transient       |  98.00 | 0 | 1 | Check-Out | 2015-07-03 |\n| 23 | Resort Hotel | 0 |  72 | 2015 | July | 27 |  1 | 2 | 4 | 2 | ⋯ | No Deposit | 250  | NULL | 0 | Transient       |  84.67 | 0 | 1 | Check-Out | 2015-07-07 |\n| 44 | Resort Hotel | 0 |  70 | 2015 | July | 27 |  2 | 2 | 3 | 2 | ⋯ | No Deposit | 250  | NULL | 0 | Transient       | 137.00 | 0 | 1 | Check-Out | 2015-07-07 |\n| 139 | Resort Hotel | 1 |   5 | 2015 | July | 28 |  5 | 1 | 0 | 2 | ⋯ | No Deposit | 240  | NULL | 0 | Transient       |  97.00 | 0 | 0 | Canceled  | 2015-07-01 |\n| 201 | Resort Hotel | 0 |   0 | 2015 | July | 28 |  7 | 0 | 1 | 1 | ⋯ | No Deposit | 240  | NULL | 0 | Transient       | 109.80 | 0 | 3 | Check-Out | 2015-07-08 |\n| 220 | Resort Hotel | 1 |   1 | 2015 | July | 28 |  8 | 0 | 1 | 2 | ⋯ | No Deposit | NULL | 110  | 0 | Transient       | 104.72 | 0 | 1 | Canceled  | 2015-07-08 |\n| 257 | Resort Hotel | 0 |  91 | 2015 | July | 28 | 10 | 0 | 2 | 2 | ⋯ | No Deposit | 240  | NULL | 0 | Transient       |  73.80 | 0 | 1 | Check-Out | 2015-07-12 |\n| 262 | Resort Hotel | 0 |  30 | 2015 | July | 28 | 10 | 2 | 2 | 2 | ⋯ | No Deposit | NULL | NULL | 0 | Transient-Party | 197.00 | 0 | 1 | Check-Out | 2015-07-14 |\n| 354 | Resort Hotel | 0 |  98 | 2015 | July | 29 | 13 | 1 | 1 | 2 | ⋯ | No Deposit | 240  | NULL | 0 | Transient-Party |  82.00 | 0 | 3 | Check-Out | 2015-07-15 |\n| 373 | Resort Hotel | 0 |  40 | 2015 | July | 29 | 13 | 1 | 4 | 2 | ⋯ | No Deposit | 250  | NULL | 0 | Transient       | 120.00 | 0 | 2 | Check-Out | 2015-07-18 |\n| 416 | Resort Hotel | 0 |  57 | 2015 | July | 29 | 15 | 0 | 2 | 2 | ⋯ | No Deposit | 305  | NULL | 0 | Transient-Party | 107.00 | 0 | 0 | Check-Out | 2015-07-17 |\n| 417 | Resort Hotel | 0 |  57 | 2015 | July | 29 | 15 | 0 | 2 | 2 | ⋯ | No Deposit | 305  | NULL | 0 | Transient-Party | 107.00 | 0 | 0 | Check-Out | 2015-07-17 |\n| 426 | Resort Hotel | 0 |  57 | 2015 | July | 29 | 15 | 0 | 2 | 2 | ⋯ | No Deposit | 305  | NULL | 0 | Transient       | 107.00 | 0 | 0 | Check-Out | 2015-07-17 |\n| 427 | Resort Hotel | 0 |  57 | 2015 | July | 29 | 15 | 0 | 2 | 2 | ⋯ | No Deposit | 305  | NULL | 0 | Transient       | 107.00 | 0 | 0 | Check-Out | 2015-07-17 |\n| 428 | Resort Hotel | 0 |  57 | 2015 | July | 29 | 15 | 0 | 2 | 3 | ⋯ | No Deposit | 305  | NULL | 0 | Transient-Party | 148.23 | 0 | 0 | Check-Out | 2015-07-17 |\n| 430 | Resort Hotel | 0 |  57 | 2015 | July | 29 | 15 | 0 | 2 | 2 | ⋯ | No Deposit | 305  | NULL | 0 | Transient-Party | 107.00 | 0 | 0 | Check-Out | 2015-07-17 |\n| 431 | Resort Hotel | 0 |  57 | 2015 | July | 29 | 15 | 0 | 2 | 2 | ⋯ | No Deposit | 305  | NULL | 0 | Transient       | 107.00 | 0 | 0 | Check-Out | 2015-07-17 |\n| 432 | Resort Hotel | 0 |  57 | 2015 | July | 29 | 15 | 0 | 2 | 2 | ⋯ | No Deposit | 305  | NULL | 0 | Transient       | 107.00 | 0 | 0 | Check-Out | 2015-07-17 |\n| 433 | Resort Hotel | 0 |  57 | 2015 | July | 29 | 15 | 0 | 2 | 2 | ⋯ | No Deposit | 305  | NULL | 0 | Transient-Party | 107.00 | 0 | 0 | Check-Out | 2015-07-17 |\n| 434 | Resort Hotel | 0 |  57 | 2015 | July | 29 | 15 | 0 | 2 | 2 | ⋯ | No Deposit | 305  | NULL | 0 | Transient-Party |  98.75 | 0 | 0 | Check-Out | 2015-07-17 |\n| 479 | Resort Hotel | 0 |  53 | 2015 | July | 29 | 17 | 2 | 3 | 2 | ⋯ | No Deposit | 152  | NULL | 0 | Transient-Party | 107.00 | 0 | 0 | Check-Out | 2015-07-22 |\n| 481 | Resort Hotel | 0 |  64 | 2015 | July | 29 | 17 | 2 | 3 | 1 | ⋯ | No Deposit | 175  | NULL | 0 | Transient-Party |  84.80 | 0 | 1 | Check-Out | 2015-07-22 |\n| 491 | Resort Hotel | 0 |  90 | 2015 | July | 29 | 17 | 2 | 5 | 2 | ⋯ | No Deposit | 240  | NULL | 0 | Transient       | 132.30 | 0 | 3 | Check-Out | 2015-07-24 |\n| 533 | Resort Hotel | 0 |  64 | 2015 | July | 29 | 18 | 2 | 5 | 2 | ⋯ | No Deposit | NULL | NULL | 0 | Transient       | 128.25 | 0 | 1 | Check-Out | 2015-07-25 |\n| 534 | Resort Hotel | 0 |  94 | 2015 | July | 29 | 18 | 2 | 5 | 2 | ⋯ | No Deposit | 250  | NULL | 0 | Transient       | 115.00 | 0 | 1 | Check-Out | 2015-07-25 |\n| 537 | Resort Hotel | 0 |  57 | 2015 | July | 29 | 18 | 2 | 6 | 2 | ⋯ | No Deposit | 196  | NULL | 0 | Transient       | 135.00 | 0 | 1 | Check-Out | 2015-07-26 |\n| 554 | Resort Hotel | 1 |  62 | 2015 | July | 30 | 19 | 2 | 5 | 2 | ⋯ | No Deposit | 261  | NULL | 0 | Transient       | 158.50 | 0 | 1 | Canceled  | 2015-06-17 |\n| 561 | Resort Hotel | 0 | 104 | 2015 | July | 30 | 19 | 2 | 5 | 2 | ⋯ | No Deposit | 115  | NULL | 0 | Contract        | 123.00 | 0 | 1 | Check-Out | 2015-07-26 |\n| 577 | Resort Hotel | 1 |  41 | 2015 | July | 30 | 20 | 1 | 3 | 2 | ⋯ | No Deposit | 240  | NULL | 0 | Transient       | 135.00 | 0 | 1 | Canceled  | 2015-06-15 |\n| 597 | Resort Hotel | 0 |  39 | 2015 | July | 30 | 20 | 3 | 7 | 2 | ⋯ | No Deposit | 142  | NULL | 0 | Transient       | 141.60 | 0 | 1 | Check-Out | 2015-07-30 |\n| ⋮ | ⋮ | ⋮ | ⋮ | ⋮ | ⋮ | ⋮ | ⋮ | ⋮ | ⋮ | ⋮ | ⋱ | ⋮ | ⋮ | ⋮ | ⋮ | ⋮ | ⋮ | ⋮ | ⋮ | ⋮ | ⋮ |\n| 119230 | City Hotel | 0 | 213 | 2017 | August | 35 | 28 | 1 | 3 | 1 | ⋯ | No Deposit | 19 | NULL | 0 | Transient-Party | 104.00 | 0 | 0 | Check-Out | 2017-09-01 |\n| 119231 | City Hotel | 0 | 213 | 2017 | August | 35 | 28 | 1 | 3 | 1 | ⋯ | No Deposit | 19 | NULL | 0 | Transient-Party | 104.00 | 0 | 0 | Check-Out | 2017-09-01 |\n| 119232 | City Hotel | 0 | 213 | 2017 | August | 35 | 28 | 1 | 3 | 1 | ⋯ | No Deposit | 19 | NULL | 0 | Transient-Party | 104.00 | 0 | 0 | Check-Out | 2017-09-01 |\n| 119233 | City Hotel | 0 | 213 | 2017 | August | 35 | 28 | 1 | 3 | 1 | ⋯ | No Deposit | 19 | NULL | 0 | Transient-Party | 104.00 | 0 | 0 | Check-Out | 2017-09-01 |\n| 119240 | City Hotel | 0 | 213 | 2017 | August | 35 | 28 | 1 | 3 | 1 | ⋯ | No Deposit | 19 | NULL | 0 | Transient-Party | 104.00 | 0 | 0 | Check-Out | 2017-09-01 |\n| 119245 | City Hotel | 0 |  97 | 2017 | August | 35 | 28 | 1 | 3 | 1 | ⋯ | No Deposit | 19 | NULL | 0 | Transient-Party | 104.00 | 0 | 0 | Check-Out | 2017-09-01 |\n| 119246 | City Hotel | 0 | 213 | 2017 | August | 35 | 28 | 1 | 3 | 1 | ⋯ | No Deposit | 19 | NULL | 0 | Transient-Party | 104.00 | 0 | 0 | Check-Out | 2017-09-01 |\n| 119251 | City Hotel | 0 | 213 | 2017 | August | 35 | 28 | 1 | 3 | 1 | ⋯ | No Deposit | 19 | NULL | 0 | Transient-Party | 104.00 | 0 | 0 | Check-Out | 2017-09-01 |\n| 119252 | City Hotel | 0 | 140 | 2017 | August | 35 | 27 | 2 | 3 | 2 | ⋯ | No Deposit | 9  | NULL | 0 | Transient       | 235.00 | 0 | 0 | Check-Out | 2017-09-01 |\n| 119254 | City Hotel | 0 | 213 | 2017 | August | 35 | 28 | 1 | 3 | 1 | ⋯ | No Deposit | 19 | NULL | 0 | Transient-Party | 104.00 | 0 | 0 | Check-Out | 2017-09-01 |\n| 119260 | City Hotel | 0 | 213 | 2017 | August | 35 | 28 | 1 | 3 | 1 | ⋯ | No Deposit | 19 | NULL | 0 | Transient-Party | 104.00 | 0 | 0 | Check-Out | 2017-09-01 |\n| 119263 | City Hotel | 0 | 213 | 2017 | August | 35 | 28 | 1 | 3 | 1 | ⋯ | No Deposit | 19 | NULL | 0 | Transient-Party | 104.00 | 0 | 0 | Check-Out | 2017-09-01 |\n| 119265 | City Hotel | 0 | 213 | 2017 | August | 35 | 28 | 1 | 3 | 1 | ⋯ | No Deposit | 19 | NULL | 0 | Transient-Party | 104.00 | 0 | 0 | Check-Out | 2017-09-01 |\n| 119266 | City Hotel | 0 | 213 | 2017 | August | 35 | 28 | 1 | 3 | 1 | ⋯ | No Deposit | 19 | NULL | 0 | Transient-Party | 104.00 | 0 | 0 | Check-Out | 2017-09-01 |\n| 119267 | City Hotel | 0 | 213 | 2017 | August | 35 | 28 | 1 | 3 | 1 | ⋯ | No Deposit | 19 | NULL | 0 | Transient-Party | 104.00 | 0 | 0 | Check-Out | 2017-09-01 |\n| 119268 | City Hotel | 0 | 213 | 2017 | August | 35 | 28 | 1 | 3 | 1 | ⋯ | No Deposit | 19 | NULL | 0 | Transient-Party | 104.00 | 0 | 0 | Check-Out | 2017-09-01 |\n| 119272 | City Hotel | 0 | 213 | 2017 | August | 35 | 28 | 1 | 3 | 1 | ⋯ | No Deposit | 19 | NULL | 0 | Transient-Party | 104.00 | 0 | 0 | Check-Out | 2017-09-01 |\n| 119276 | City Hotel | 0 | 213 | 2017 | August | 35 | 28 | 1 | 3 | 1 | ⋯ | No Deposit | 19 | NULL | 0 | Transient-Party | 104.00 | 0 | 0 | Check-Out | 2017-09-01 |\n| 119277 | City Hotel | 0 | 213 | 2017 | August | 35 | 28 | 1 | 3 | 1 | ⋯ | No Deposit | 19 | NULL | 0 | Transient-Party | 104.00 | 0 | 0 | Check-Out | 2017-09-01 |\n| 119278 | City Hotel | 0 | 213 | 2017 | August | 35 | 28 | 1 | 3 | 1 | ⋯ | No Deposit | 19 | NULL | 0 | Transient-Party | 104.00 | 0 | 0 | Check-Out | 2017-09-01 |\n| 119316 | City Hotel | 0 | 230 | 2017 | August | 35 | 31 | 0 | 3 | 2 | ⋯ | No Deposit | 28 | NULL | 0 | Transient       | 109.50 | 0 | 0 | Check-Out | 2017-09-03 |\n| 119328 | City Hotel | 0 | 186 | 2017 | August | 35 | 31 | 0 | 3 | 2 | ⋯ | No Deposit | 9  | NULL | 0 | Transient       | 126.00 | 0 | 2 | Check-Out | 2017-09-03 |\n| 119343 | City Hotel | 0 |  63 | 2017 | August | 35 | 31 | 0 | 3 | 3 | ⋯ | No Deposit | 9  | NULL | 0 | Transient-Party | 195.33 | 0 | 2 | Check-Out | 2017-09-03 |\n| 119348 | City Hotel | 0 |  63 | 2017 | August | 35 | 31 | 0 | 3 | 3 | ⋯ | No Deposit | 9  | NULL | 0 | Transient-Party | 195.33 | 0 | 2 | Check-Out | 2017-09-03 |\n| 119349 | City Hotel | 0 |  63 | 2017 | August | 35 | 31 | 0 | 3 | 3 | ⋯ | No Deposit | 9  | NULL | 0 | Transient-Party | 195.33 | 0 | 2 | Check-Out | 2017-09-03 |\n| 119350 | City Hotel | 0 | 186 | 2017 | August | 35 | 31 | 0 | 3 | 2 | ⋯ | No Deposit | 9  | NULL | 0 | Transient       | 126.00 | 0 | 2 | Check-Out | 2017-09-03 |\n| 119353 | City Hotel | 0 |  63 | 2017 | August | 35 | 31 | 0 | 3 | 3 | ⋯ | No Deposit | 9  | NULL | 0 | Transient-Party | 195.33 | 0 | 2 | Check-Out | 2017-09-03 |\n| 119354 | City Hotel | 0 |  63 | 2017 | August | 35 | 31 | 0 | 3 | 3 | ⋯ | No Deposit | 9  | NULL | 0 | Transient-Party | 195.33 | 0 | 2 | Check-Out | 2017-09-03 |\n| 119355 | City Hotel | 0 |  63 | 2017 | August | 35 | 31 | 0 | 3 | 3 | ⋯ | No Deposit | 9  | NULL | 0 | Transient-Party | 195.33 | 0 | 2 | Check-Out | 2017-09-03 |\n| 119374 | City Hotel | 0 | 175 | 2017 | August | 35 | 31 | 1 | 3 | 1 | ⋯ | No Deposit | 42 | NULL | 0 | Transient       |  82.35 | 0 | 1 | Check-Out | 2017-09-04 |\n\n",
            "text/latex": "A data.frame: 31994 × 32\n\\begin{tabular}{r|lllllllllllllllllllll}\n  & hotel & is\\_canceled & lead\\_time & arrival\\_date\\_year & arrival\\_date\\_month & arrival\\_date\\_week\\_number & arrival\\_date\\_day\\_of\\_month & stays\\_in\\_weekend\\_nights & stays\\_in\\_week\\_nights & adults & ⋯ & deposit\\_type & agent & company & days\\_in\\_waiting\\_list & customer\\_type & adr & required\\_car\\_parking\\_spaces & total\\_of\\_special\\_requests & reservation\\_status & reservation\\_status\\_date\\\\\n  & <chr> & <int> & <int> & <int> & <chr> & <int> & <int> & <int> & <int> & <int> & ⋯ & <chr> & <chr> & <chr> & <int> & <chr> & <dbl> & <int> & <int> & <chr> & <chr>\\\\\n\\hline\n\t6 & Resort Hotel & 0 &  14 & 2015 & July & 27 &  1 & 0 & 2 & 2 & ⋯ & No Deposit & 240  & NULL & 0 & Transient       &  98.00 & 0 & 1 & Check-Out & 2015-07-03\\\\\n\t23 & Resort Hotel & 0 &  72 & 2015 & July & 27 &  1 & 2 & 4 & 2 & ⋯ & No Deposit & 250  & NULL & 0 & Transient       &  84.67 & 0 & 1 & Check-Out & 2015-07-07\\\\\n\t44 & Resort Hotel & 0 &  70 & 2015 & July & 27 &  2 & 2 & 3 & 2 & ⋯ & No Deposit & 250  & NULL & 0 & Transient       & 137.00 & 0 & 1 & Check-Out & 2015-07-07\\\\\n\t139 & Resort Hotel & 1 &   5 & 2015 & July & 28 &  5 & 1 & 0 & 2 & ⋯ & No Deposit & 240  & NULL & 0 & Transient       &  97.00 & 0 & 0 & Canceled  & 2015-07-01\\\\\n\t201 & Resort Hotel & 0 &   0 & 2015 & July & 28 &  7 & 0 & 1 & 1 & ⋯ & No Deposit & 240  & NULL & 0 & Transient       & 109.80 & 0 & 3 & Check-Out & 2015-07-08\\\\\n\t220 & Resort Hotel & 1 &   1 & 2015 & July & 28 &  8 & 0 & 1 & 2 & ⋯ & No Deposit & NULL & 110  & 0 & Transient       & 104.72 & 0 & 1 & Canceled  & 2015-07-08\\\\\n\t257 & Resort Hotel & 0 &  91 & 2015 & July & 28 & 10 & 0 & 2 & 2 & ⋯ & No Deposit & 240  & NULL & 0 & Transient       &  73.80 & 0 & 1 & Check-Out & 2015-07-12\\\\\n\t262 & Resort Hotel & 0 &  30 & 2015 & July & 28 & 10 & 2 & 2 & 2 & ⋯ & No Deposit & NULL & NULL & 0 & Transient-Party & 197.00 & 0 & 1 & Check-Out & 2015-07-14\\\\\n\t354 & Resort Hotel & 0 &  98 & 2015 & July & 29 & 13 & 1 & 1 & 2 & ⋯ & No Deposit & 240  & NULL & 0 & Transient-Party &  82.00 & 0 & 3 & Check-Out & 2015-07-15\\\\\n\t373 & Resort Hotel & 0 &  40 & 2015 & July & 29 & 13 & 1 & 4 & 2 & ⋯ & No Deposit & 250  & NULL & 0 & Transient       & 120.00 & 0 & 2 & Check-Out & 2015-07-18\\\\\n\t416 & Resort Hotel & 0 &  57 & 2015 & July & 29 & 15 & 0 & 2 & 2 & ⋯ & No Deposit & 305  & NULL & 0 & Transient-Party & 107.00 & 0 & 0 & Check-Out & 2015-07-17\\\\\n\t417 & Resort Hotel & 0 &  57 & 2015 & July & 29 & 15 & 0 & 2 & 2 & ⋯ & No Deposit & 305  & NULL & 0 & Transient-Party & 107.00 & 0 & 0 & Check-Out & 2015-07-17\\\\\n\t426 & Resort Hotel & 0 &  57 & 2015 & July & 29 & 15 & 0 & 2 & 2 & ⋯ & No Deposit & 305  & NULL & 0 & Transient       & 107.00 & 0 & 0 & Check-Out & 2015-07-17\\\\\n\t427 & Resort Hotel & 0 &  57 & 2015 & July & 29 & 15 & 0 & 2 & 2 & ⋯ & No Deposit & 305  & NULL & 0 & Transient       & 107.00 & 0 & 0 & Check-Out & 2015-07-17\\\\\n\t428 & Resort Hotel & 0 &  57 & 2015 & July & 29 & 15 & 0 & 2 & 3 & ⋯ & No Deposit & 305  & NULL & 0 & Transient-Party & 148.23 & 0 & 0 & Check-Out & 2015-07-17\\\\\n\t430 & Resort Hotel & 0 &  57 & 2015 & July & 29 & 15 & 0 & 2 & 2 & ⋯ & No Deposit & 305  & NULL & 0 & Transient-Party & 107.00 & 0 & 0 & Check-Out & 2015-07-17\\\\\n\t431 & Resort Hotel & 0 &  57 & 2015 & July & 29 & 15 & 0 & 2 & 2 & ⋯ & No Deposit & 305  & NULL & 0 & Transient       & 107.00 & 0 & 0 & Check-Out & 2015-07-17\\\\\n\t432 & Resort Hotel & 0 &  57 & 2015 & July & 29 & 15 & 0 & 2 & 2 & ⋯ & No Deposit & 305  & NULL & 0 & Transient       & 107.00 & 0 & 0 & Check-Out & 2015-07-17\\\\\n\t433 & Resort Hotel & 0 &  57 & 2015 & July & 29 & 15 & 0 & 2 & 2 & ⋯ & No Deposit & 305  & NULL & 0 & Transient-Party & 107.00 & 0 & 0 & Check-Out & 2015-07-17\\\\\n\t434 & Resort Hotel & 0 &  57 & 2015 & July & 29 & 15 & 0 & 2 & 2 & ⋯ & No Deposit & 305  & NULL & 0 & Transient-Party &  98.75 & 0 & 0 & Check-Out & 2015-07-17\\\\\n\t479 & Resort Hotel & 0 &  53 & 2015 & July & 29 & 17 & 2 & 3 & 2 & ⋯ & No Deposit & 152  & NULL & 0 & Transient-Party & 107.00 & 0 & 0 & Check-Out & 2015-07-22\\\\\n\t481 & Resort Hotel & 0 &  64 & 2015 & July & 29 & 17 & 2 & 3 & 1 & ⋯ & No Deposit & 175  & NULL & 0 & Transient-Party &  84.80 & 0 & 1 & Check-Out & 2015-07-22\\\\\n\t491 & Resort Hotel & 0 &  90 & 2015 & July & 29 & 17 & 2 & 5 & 2 & ⋯ & No Deposit & 240  & NULL & 0 & Transient       & 132.30 & 0 & 3 & Check-Out & 2015-07-24\\\\\n\t533 & Resort Hotel & 0 &  64 & 2015 & July & 29 & 18 & 2 & 5 & 2 & ⋯ & No Deposit & NULL & NULL & 0 & Transient       & 128.25 & 0 & 1 & Check-Out & 2015-07-25\\\\\n\t534 & Resort Hotel & 0 &  94 & 2015 & July & 29 & 18 & 2 & 5 & 2 & ⋯ & No Deposit & 250  & NULL & 0 & Transient       & 115.00 & 0 & 1 & Check-Out & 2015-07-25\\\\\n\t537 & Resort Hotel & 0 &  57 & 2015 & July & 29 & 18 & 2 & 6 & 2 & ⋯ & No Deposit & 196  & NULL & 0 & Transient       & 135.00 & 0 & 1 & Check-Out & 2015-07-26\\\\\n\t554 & Resort Hotel & 1 &  62 & 2015 & July & 30 & 19 & 2 & 5 & 2 & ⋯ & No Deposit & 261  & NULL & 0 & Transient       & 158.50 & 0 & 1 & Canceled  & 2015-06-17\\\\\n\t561 & Resort Hotel & 0 & 104 & 2015 & July & 30 & 19 & 2 & 5 & 2 & ⋯ & No Deposit & 115  & NULL & 0 & Contract        & 123.00 & 0 & 1 & Check-Out & 2015-07-26\\\\\n\t577 & Resort Hotel & 1 &  41 & 2015 & July & 30 & 20 & 1 & 3 & 2 & ⋯ & No Deposit & 240  & NULL & 0 & Transient       & 135.00 & 0 & 1 & Canceled  & 2015-06-15\\\\\n\t597 & Resort Hotel & 0 &  39 & 2015 & July & 30 & 20 & 3 & 7 & 2 & ⋯ & No Deposit & 142  & NULL & 0 & Transient       & 141.60 & 0 & 1 & Check-Out & 2015-07-30\\\\\n\t⋮ & ⋮ & ⋮ & ⋮ & ⋮ & ⋮ & ⋮ & ⋮ & ⋮ & ⋮ & ⋮ & ⋱ & ⋮ & ⋮ & ⋮ & ⋮ & ⋮ & ⋮ & ⋮ & ⋮ & ⋮ & ⋮\\\\\n\t119230 & City Hotel & 0 & 213 & 2017 & August & 35 & 28 & 1 & 3 & 1 & ⋯ & No Deposit & 19 & NULL & 0 & Transient-Party & 104.00 & 0 & 0 & Check-Out & 2017-09-01\\\\\n\t119231 & City Hotel & 0 & 213 & 2017 & August & 35 & 28 & 1 & 3 & 1 & ⋯ & No Deposit & 19 & NULL & 0 & Transient-Party & 104.00 & 0 & 0 & Check-Out & 2017-09-01\\\\\n\t119232 & City Hotel & 0 & 213 & 2017 & August & 35 & 28 & 1 & 3 & 1 & ⋯ & No Deposit & 19 & NULL & 0 & Transient-Party & 104.00 & 0 & 0 & Check-Out & 2017-09-01\\\\\n\t119233 & City Hotel & 0 & 213 & 2017 & August & 35 & 28 & 1 & 3 & 1 & ⋯ & No Deposit & 19 & NULL & 0 & Transient-Party & 104.00 & 0 & 0 & Check-Out & 2017-09-01\\\\\n\t119240 & City Hotel & 0 & 213 & 2017 & August & 35 & 28 & 1 & 3 & 1 & ⋯ & No Deposit & 19 & NULL & 0 & Transient-Party & 104.00 & 0 & 0 & Check-Out & 2017-09-01\\\\\n\t119245 & City Hotel & 0 &  97 & 2017 & August & 35 & 28 & 1 & 3 & 1 & ⋯ & No Deposit & 19 & NULL & 0 & Transient-Party & 104.00 & 0 & 0 & Check-Out & 2017-09-01\\\\\n\t119246 & City Hotel & 0 & 213 & 2017 & August & 35 & 28 & 1 & 3 & 1 & ⋯ & No Deposit & 19 & NULL & 0 & Transient-Party & 104.00 & 0 & 0 & Check-Out & 2017-09-01\\\\\n\t119251 & City Hotel & 0 & 213 & 2017 & August & 35 & 28 & 1 & 3 & 1 & ⋯ & No Deposit & 19 & NULL & 0 & Transient-Party & 104.00 & 0 & 0 & Check-Out & 2017-09-01\\\\\n\t119252 & City Hotel & 0 & 140 & 2017 & August & 35 & 27 & 2 & 3 & 2 & ⋯ & No Deposit & 9  & NULL & 0 & Transient       & 235.00 & 0 & 0 & Check-Out & 2017-09-01\\\\\n\t119254 & City Hotel & 0 & 213 & 2017 & August & 35 & 28 & 1 & 3 & 1 & ⋯ & No Deposit & 19 & NULL & 0 & Transient-Party & 104.00 & 0 & 0 & Check-Out & 2017-09-01\\\\\n\t119260 & City Hotel & 0 & 213 & 2017 & August & 35 & 28 & 1 & 3 & 1 & ⋯ & No Deposit & 19 & NULL & 0 & Transient-Party & 104.00 & 0 & 0 & Check-Out & 2017-09-01\\\\\n\t119263 & City Hotel & 0 & 213 & 2017 & August & 35 & 28 & 1 & 3 & 1 & ⋯ & No Deposit & 19 & NULL & 0 & Transient-Party & 104.00 & 0 & 0 & Check-Out & 2017-09-01\\\\\n\t119265 & City Hotel & 0 & 213 & 2017 & August & 35 & 28 & 1 & 3 & 1 & ⋯ & No Deposit & 19 & NULL & 0 & Transient-Party & 104.00 & 0 & 0 & Check-Out & 2017-09-01\\\\\n\t119266 & City Hotel & 0 & 213 & 2017 & August & 35 & 28 & 1 & 3 & 1 & ⋯ & No Deposit & 19 & NULL & 0 & Transient-Party & 104.00 & 0 & 0 & Check-Out & 2017-09-01\\\\\n\t119267 & City Hotel & 0 & 213 & 2017 & August & 35 & 28 & 1 & 3 & 1 & ⋯ & No Deposit & 19 & NULL & 0 & Transient-Party & 104.00 & 0 & 0 & Check-Out & 2017-09-01\\\\\n\t119268 & City Hotel & 0 & 213 & 2017 & August & 35 & 28 & 1 & 3 & 1 & ⋯ & No Deposit & 19 & NULL & 0 & Transient-Party & 104.00 & 0 & 0 & Check-Out & 2017-09-01\\\\\n\t119272 & City Hotel & 0 & 213 & 2017 & August & 35 & 28 & 1 & 3 & 1 & ⋯ & No Deposit & 19 & NULL & 0 & Transient-Party & 104.00 & 0 & 0 & Check-Out & 2017-09-01\\\\\n\t119276 & City Hotel & 0 & 213 & 2017 & August & 35 & 28 & 1 & 3 & 1 & ⋯ & No Deposit & 19 & NULL & 0 & Transient-Party & 104.00 & 0 & 0 & Check-Out & 2017-09-01\\\\\n\t119277 & City Hotel & 0 & 213 & 2017 & August & 35 & 28 & 1 & 3 & 1 & ⋯ & No Deposit & 19 & NULL & 0 & Transient-Party & 104.00 & 0 & 0 & Check-Out & 2017-09-01\\\\\n\t119278 & City Hotel & 0 & 213 & 2017 & August & 35 & 28 & 1 & 3 & 1 & ⋯ & No Deposit & 19 & NULL & 0 & Transient-Party & 104.00 & 0 & 0 & Check-Out & 2017-09-01\\\\\n\t119316 & City Hotel & 0 & 230 & 2017 & August & 35 & 31 & 0 & 3 & 2 & ⋯ & No Deposit & 28 & NULL & 0 & Transient       & 109.50 & 0 & 0 & Check-Out & 2017-09-03\\\\\n\t119328 & City Hotel & 0 & 186 & 2017 & August & 35 & 31 & 0 & 3 & 2 & ⋯ & No Deposit & 9  & NULL & 0 & Transient       & 126.00 & 0 & 2 & Check-Out & 2017-09-03\\\\\n\t119343 & City Hotel & 0 &  63 & 2017 & August & 35 & 31 & 0 & 3 & 3 & ⋯ & No Deposit & 9  & NULL & 0 & Transient-Party & 195.33 & 0 & 2 & Check-Out & 2017-09-03\\\\\n\t119348 & City Hotel & 0 &  63 & 2017 & August & 35 & 31 & 0 & 3 & 3 & ⋯ & No Deposit & 9  & NULL & 0 & Transient-Party & 195.33 & 0 & 2 & Check-Out & 2017-09-03\\\\\n\t119349 & City Hotel & 0 &  63 & 2017 & August & 35 & 31 & 0 & 3 & 3 & ⋯ & No Deposit & 9  & NULL & 0 & Transient-Party & 195.33 & 0 & 2 & Check-Out & 2017-09-03\\\\\n\t119350 & City Hotel & 0 & 186 & 2017 & August & 35 & 31 & 0 & 3 & 2 & ⋯ & No Deposit & 9  & NULL & 0 & Transient       & 126.00 & 0 & 2 & Check-Out & 2017-09-03\\\\\n\t119353 & City Hotel & 0 &  63 & 2017 & August & 35 & 31 & 0 & 3 & 3 & ⋯ & No Deposit & 9  & NULL & 0 & Transient-Party & 195.33 & 0 & 2 & Check-Out & 2017-09-03\\\\\n\t119354 & City Hotel & 0 &  63 & 2017 & August & 35 & 31 & 0 & 3 & 3 & ⋯ & No Deposit & 9  & NULL & 0 & Transient-Party & 195.33 & 0 & 2 & Check-Out & 2017-09-03\\\\\n\t119355 & City Hotel & 0 &  63 & 2017 & August & 35 & 31 & 0 & 3 & 3 & ⋯ & No Deposit & 9  & NULL & 0 & Transient-Party & 195.33 & 0 & 2 & Check-Out & 2017-09-03\\\\\n\t119374 & City Hotel & 0 & 175 & 2017 & August & 35 & 31 & 1 & 3 & 1 & ⋯ & No Deposit & 42 & NULL & 0 & Transient       &  82.35 & 0 & 1 & Check-Out & 2017-09-04\\\\\n\\end{tabular}\n",
            "text/plain": [
              "       hotel        is_canceled lead_time arrival_date_year arrival_date_month\n",
              "6      Resort Hotel 0            14       2015              July              \n",
              "23     Resort Hotel 0            72       2015              July              \n",
              "44     Resort Hotel 0            70       2015              July              \n",
              "139    Resort Hotel 1             5       2015              July              \n",
              "201    Resort Hotel 0             0       2015              July              \n",
              "220    Resort Hotel 1             1       2015              July              \n",
              "257    Resort Hotel 0            91       2015              July              \n",
              "262    Resort Hotel 0            30       2015              July              \n",
              "354    Resort Hotel 0            98       2015              July              \n",
              "373    Resort Hotel 0            40       2015              July              \n",
              "416    Resort Hotel 0            57       2015              July              \n",
              "417    Resort Hotel 0            57       2015              July              \n",
              "426    Resort Hotel 0            57       2015              July              \n",
              "427    Resort Hotel 0            57       2015              July              \n",
              "428    Resort Hotel 0            57       2015              July              \n",
              "430    Resort Hotel 0            57       2015              July              \n",
              "431    Resort Hotel 0            57       2015              July              \n",
              "432    Resort Hotel 0            57       2015              July              \n",
              "433    Resort Hotel 0            57       2015              July              \n",
              "434    Resort Hotel 0            57       2015              July              \n",
              "479    Resort Hotel 0            53       2015              July              \n",
              "481    Resort Hotel 0            64       2015              July              \n",
              "491    Resort Hotel 0            90       2015              July              \n",
              "533    Resort Hotel 0            64       2015              July              \n",
              "534    Resort Hotel 0            94       2015              July              \n",
              "537    Resort Hotel 0            57       2015              July              \n",
              "554    Resort Hotel 1            62       2015              July              \n",
              "561    Resort Hotel 0           104       2015              July              \n",
              "577    Resort Hotel 1            41       2015              July              \n",
              "597    Resort Hotel 0            39       2015              July              \n",
              "⋮      ⋮            ⋮           ⋮         ⋮                 ⋮                 \n",
              "119230 City Hotel   0           213       2017              August            \n",
              "119231 City Hotel   0           213       2017              August            \n",
              "119232 City Hotel   0           213       2017              August            \n",
              "119233 City Hotel   0           213       2017              August            \n",
              "119240 City Hotel   0           213       2017              August            \n",
              "119245 City Hotel   0            97       2017              August            \n",
              "119246 City Hotel   0           213       2017              August            \n",
              "119251 City Hotel   0           213       2017              August            \n",
              "119252 City Hotel   0           140       2017              August            \n",
              "119254 City Hotel   0           213       2017              August            \n",
              "119260 City Hotel   0           213       2017              August            \n",
              "119263 City Hotel   0           213       2017              August            \n",
              "119265 City Hotel   0           213       2017              August            \n",
              "119266 City Hotel   0           213       2017              August            \n",
              "119267 City Hotel   0           213       2017              August            \n",
              "119268 City Hotel   0           213       2017              August            \n",
              "119272 City Hotel   0           213       2017              August            \n",
              "119276 City Hotel   0           213       2017              August            \n",
              "119277 City Hotel   0           213       2017              August            \n",
              "119278 City Hotel   0           213       2017              August            \n",
              "119316 City Hotel   0           230       2017              August            \n",
              "119328 City Hotel   0           186       2017              August            \n",
              "119343 City Hotel   0            63       2017              August            \n",
              "119348 City Hotel   0            63       2017              August            \n",
              "119349 City Hotel   0            63       2017              August            \n",
              "119350 City Hotel   0           186       2017              August            \n",
              "119353 City Hotel   0            63       2017              August            \n",
              "119354 City Hotel   0            63       2017              August            \n",
              "119355 City Hotel   0            63       2017              August            \n",
              "119374 City Hotel   0           175       2017              August            \n",
              "       arrival_date_week_number arrival_date_day_of_month\n",
              "6      27                        1                       \n",
              "23     27                        1                       \n",
              "44     27                        2                       \n",
              "139    28                        5                       \n",
              "201    28                        7                       \n",
              "220    28                        8                       \n",
              "257    28                       10                       \n",
              "262    28                       10                       \n",
              "354    29                       13                       \n",
              "373    29                       13                       \n",
              "416    29                       15                       \n",
              "417    29                       15                       \n",
              "426    29                       15                       \n",
              "427    29                       15                       \n",
              "428    29                       15                       \n",
              "430    29                       15                       \n",
              "431    29                       15                       \n",
              "432    29                       15                       \n",
              "433    29                       15                       \n",
              "434    29                       15                       \n",
              "479    29                       17                       \n",
              "481    29                       17                       \n",
              "491    29                       17                       \n",
              "533    29                       18                       \n",
              "534    29                       18                       \n",
              "537    29                       18                       \n",
              "554    30                       19                       \n",
              "561    30                       19                       \n",
              "577    30                       20                       \n",
              "597    30                       20                       \n",
              "⋮      ⋮                        ⋮                        \n",
              "119230 35                       28                       \n",
              "119231 35                       28                       \n",
              "119232 35                       28                       \n",
              "119233 35                       28                       \n",
              "119240 35                       28                       \n",
              "119245 35                       28                       \n",
              "119246 35                       28                       \n",
              "119251 35                       28                       \n",
              "119252 35                       27                       \n",
              "119254 35                       28                       \n",
              "119260 35                       28                       \n",
              "119263 35                       28                       \n",
              "119265 35                       28                       \n",
              "119266 35                       28                       \n",
              "119267 35                       28                       \n",
              "119268 35                       28                       \n",
              "119272 35                       28                       \n",
              "119276 35                       28                       \n",
              "119277 35                       28                       \n",
              "119278 35                       28                       \n",
              "119316 35                       31                       \n",
              "119328 35                       31                       \n",
              "119343 35                       31                       \n",
              "119348 35                       31                       \n",
              "119349 35                       31                       \n",
              "119350 35                       31                       \n",
              "119353 35                       31                       \n",
              "119354 35                       31                       \n",
              "119355 35                       31                       \n",
              "119374 35                       31                       \n",
              "       stays_in_weekend_nights stays_in_week_nights adults ⋯ deposit_type agent\n",
              "6      0                       2                    2      ⋯ No Deposit   240  \n",
              "23     2                       4                    2      ⋯ No Deposit   250  \n",
              "44     2                       3                    2      ⋯ No Deposit   250  \n",
              "139    1                       0                    2      ⋯ No Deposit   240  \n",
              "201    0                       1                    1      ⋯ No Deposit   240  \n",
              "220    0                       1                    2      ⋯ No Deposit   NULL \n",
              "257    0                       2                    2      ⋯ No Deposit   240  \n",
              "262    2                       2                    2      ⋯ No Deposit   NULL \n",
              "354    1                       1                    2      ⋯ No Deposit   240  \n",
              "373    1                       4                    2      ⋯ No Deposit   250  \n",
              "416    0                       2                    2      ⋯ No Deposit   305  \n",
              "417    0                       2                    2      ⋯ No Deposit   305  \n",
              "426    0                       2                    2      ⋯ No Deposit   305  \n",
              "427    0                       2                    2      ⋯ No Deposit   305  \n",
              "428    0                       2                    3      ⋯ No Deposit   305  \n",
              "430    0                       2                    2      ⋯ No Deposit   305  \n",
              "431    0                       2                    2      ⋯ No Deposit   305  \n",
              "432    0                       2                    2      ⋯ No Deposit   305  \n",
              "433    0                       2                    2      ⋯ No Deposit   305  \n",
              "434    0                       2                    2      ⋯ No Deposit   305  \n",
              "479    2                       3                    2      ⋯ No Deposit   152  \n",
              "481    2                       3                    1      ⋯ No Deposit   175  \n",
              "491    2                       5                    2      ⋯ No Deposit   240  \n",
              "533    2                       5                    2      ⋯ No Deposit   NULL \n",
              "534    2                       5                    2      ⋯ No Deposit   250  \n",
              "537    2                       6                    2      ⋯ No Deposit   196  \n",
              "554    2                       5                    2      ⋯ No Deposit   261  \n",
              "561    2                       5                    2      ⋯ No Deposit   115  \n",
              "577    1                       3                    2      ⋯ No Deposit   240  \n",
              "597    3                       7                    2      ⋯ No Deposit   142  \n",
              "⋮      ⋮                       ⋮                    ⋮      ⋱ ⋮            ⋮    \n",
              "119230 1                       3                    1      ⋯ No Deposit   19   \n",
              "119231 1                       3                    1      ⋯ No Deposit   19   \n",
              "119232 1                       3                    1      ⋯ No Deposit   19   \n",
              "119233 1                       3                    1      ⋯ No Deposit   19   \n",
              "119240 1                       3                    1      ⋯ No Deposit   19   \n",
              "119245 1                       3                    1      ⋯ No Deposit   19   \n",
              "119246 1                       3                    1      ⋯ No Deposit   19   \n",
              "119251 1                       3                    1      ⋯ No Deposit   19   \n",
              "119252 2                       3                    2      ⋯ No Deposit   9    \n",
              "119254 1                       3                    1      ⋯ No Deposit   19   \n",
              "119260 1                       3                    1      ⋯ No Deposit   19   \n",
              "119263 1                       3                    1      ⋯ No Deposit   19   \n",
              "119265 1                       3                    1      ⋯ No Deposit   19   \n",
              "119266 1                       3                    1      ⋯ No Deposit   19   \n",
              "119267 1                       3                    1      ⋯ No Deposit   19   \n",
              "119268 1                       3                    1      ⋯ No Deposit   19   \n",
              "119272 1                       3                    1      ⋯ No Deposit   19   \n",
              "119276 1                       3                    1      ⋯ No Deposit   19   \n",
              "119277 1                       3                    1      ⋯ No Deposit   19   \n",
              "119278 1                       3                    1      ⋯ No Deposit   19   \n",
              "119316 0                       3                    2      ⋯ No Deposit   28   \n",
              "119328 0                       3                    2      ⋯ No Deposit   9    \n",
              "119343 0                       3                    3      ⋯ No Deposit   9    \n",
              "119348 0                       3                    3      ⋯ No Deposit   9    \n",
              "119349 0                       3                    3      ⋯ No Deposit   9    \n",
              "119350 0                       3                    2      ⋯ No Deposit   9    \n",
              "119353 0                       3                    3      ⋯ No Deposit   9    \n",
              "119354 0                       3                    3      ⋯ No Deposit   9    \n",
              "119355 0                       3                    3      ⋯ No Deposit   9    \n",
              "119374 1                       3                    1      ⋯ No Deposit   42   \n",
              "       company days_in_waiting_list customer_type   adr   \n",
              "6      NULL    0                    Transient        98.00\n",
              "23     NULL    0                    Transient        84.67\n",
              "44     NULL    0                    Transient       137.00\n",
              "139    NULL    0                    Transient        97.00\n",
              "201    NULL    0                    Transient       109.80\n",
              "220    110     0                    Transient       104.72\n",
              "257    NULL    0                    Transient        73.80\n",
              "262    NULL    0                    Transient-Party 197.00\n",
              "354    NULL    0                    Transient-Party  82.00\n",
              "373    NULL    0                    Transient       120.00\n",
              "416    NULL    0                    Transient-Party 107.00\n",
              "417    NULL    0                    Transient-Party 107.00\n",
              "426    NULL    0                    Transient       107.00\n",
              "427    NULL    0                    Transient       107.00\n",
              "428    NULL    0                    Transient-Party 148.23\n",
              "430    NULL    0                    Transient-Party 107.00\n",
              "431    NULL    0                    Transient       107.00\n",
              "432    NULL    0                    Transient       107.00\n",
              "433    NULL    0                    Transient-Party 107.00\n",
              "434    NULL    0                    Transient-Party  98.75\n",
              "479    NULL    0                    Transient-Party 107.00\n",
              "481    NULL    0                    Transient-Party  84.80\n",
              "491    NULL    0                    Transient       132.30\n",
              "533    NULL    0                    Transient       128.25\n",
              "534    NULL    0                    Transient       115.00\n",
              "537    NULL    0                    Transient       135.00\n",
              "554    NULL    0                    Transient       158.50\n",
              "561    NULL    0                    Contract        123.00\n",
              "577    NULL    0                    Transient       135.00\n",
              "597    NULL    0                    Transient       141.60\n",
              "⋮      ⋮       ⋮                    ⋮               ⋮     \n",
              "119230 NULL    0                    Transient-Party 104.00\n",
              "119231 NULL    0                    Transient-Party 104.00\n",
              "119232 NULL    0                    Transient-Party 104.00\n",
              "119233 NULL    0                    Transient-Party 104.00\n",
              "119240 NULL    0                    Transient-Party 104.00\n",
              "119245 NULL    0                    Transient-Party 104.00\n",
              "119246 NULL    0                    Transient-Party 104.00\n",
              "119251 NULL    0                    Transient-Party 104.00\n",
              "119252 NULL    0                    Transient       235.00\n",
              "119254 NULL    0                    Transient-Party 104.00\n",
              "119260 NULL    0                    Transient-Party 104.00\n",
              "119263 NULL    0                    Transient-Party 104.00\n",
              "119265 NULL    0                    Transient-Party 104.00\n",
              "119266 NULL    0                    Transient-Party 104.00\n",
              "119267 NULL    0                    Transient-Party 104.00\n",
              "119268 NULL    0                    Transient-Party 104.00\n",
              "119272 NULL    0                    Transient-Party 104.00\n",
              "119276 NULL    0                    Transient-Party 104.00\n",
              "119277 NULL    0                    Transient-Party 104.00\n",
              "119278 NULL    0                    Transient-Party 104.00\n",
              "119316 NULL    0                    Transient       109.50\n",
              "119328 NULL    0                    Transient       126.00\n",
              "119343 NULL    0                    Transient-Party 195.33\n",
              "119348 NULL    0                    Transient-Party 195.33\n",
              "119349 NULL    0                    Transient-Party 195.33\n",
              "119350 NULL    0                    Transient       126.00\n",
              "119353 NULL    0                    Transient-Party 195.33\n",
              "119354 NULL    0                    Transient-Party 195.33\n",
              "119355 NULL    0                    Transient-Party 195.33\n",
              "119374 NULL    0                    Transient        82.35\n",
              "       required_car_parking_spaces total_of_special_requests reservation_status\n",
              "6      0                           1                         Check-Out         \n",
              "23     0                           1                         Check-Out         \n",
              "44     0                           1                         Check-Out         \n",
              "139    0                           0                         Canceled          \n",
              "201    0                           3                         Check-Out         \n",
              "220    0                           1                         Canceled          \n",
              "257    0                           1                         Check-Out         \n",
              "262    0                           1                         Check-Out         \n",
              "354    0                           3                         Check-Out         \n",
              "373    0                           2                         Check-Out         \n",
              "416    0                           0                         Check-Out         \n",
              "417    0                           0                         Check-Out         \n",
              "426    0                           0                         Check-Out         \n",
              "427    0                           0                         Check-Out         \n",
              "428    0                           0                         Check-Out         \n",
              "430    0                           0                         Check-Out         \n",
              "431    0                           0                         Check-Out         \n",
              "432    0                           0                         Check-Out         \n",
              "433    0                           0                         Check-Out         \n",
              "434    0                           0                         Check-Out         \n",
              "479    0                           0                         Check-Out         \n",
              "481    0                           1                         Check-Out         \n",
              "491    0                           3                         Check-Out         \n",
              "533    0                           1                         Check-Out         \n",
              "534    0                           1                         Check-Out         \n",
              "537    0                           1                         Check-Out         \n",
              "554    0                           1                         Canceled          \n",
              "561    0                           1                         Check-Out         \n",
              "577    0                           1                         Canceled          \n",
              "597    0                           1                         Check-Out         \n",
              "⋮      ⋮                           ⋮                         ⋮                 \n",
              "119230 0                           0                         Check-Out         \n",
              "119231 0                           0                         Check-Out         \n",
              "119232 0                           0                         Check-Out         \n",
              "119233 0                           0                         Check-Out         \n",
              "119240 0                           0                         Check-Out         \n",
              "119245 0                           0                         Check-Out         \n",
              "119246 0                           0                         Check-Out         \n",
              "119251 0                           0                         Check-Out         \n",
              "119252 0                           0                         Check-Out         \n",
              "119254 0                           0                         Check-Out         \n",
              "119260 0                           0                         Check-Out         \n",
              "119263 0                           0                         Check-Out         \n",
              "119265 0                           0                         Check-Out         \n",
              "119266 0                           0                         Check-Out         \n",
              "119267 0                           0                         Check-Out         \n",
              "119268 0                           0                         Check-Out         \n",
              "119272 0                           0                         Check-Out         \n",
              "119276 0                           0                         Check-Out         \n",
              "119277 0                           0                         Check-Out         \n",
              "119278 0                           0                         Check-Out         \n",
              "119316 0                           0                         Check-Out         \n",
              "119328 0                           2                         Check-Out         \n",
              "119343 0                           2                         Check-Out         \n",
              "119348 0                           2                         Check-Out         \n",
              "119349 0                           2                         Check-Out         \n",
              "119350 0                           2                         Check-Out         \n",
              "119353 0                           2                         Check-Out         \n",
              "119354 0                           2                         Check-Out         \n",
              "119355 0                           2                         Check-Out         \n",
              "119374 0                           1                         Check-Out         \n",
              "       reservation_status_date\n",
              "6      2015-07-03             \n",
              "23     2015-07-07             \n",
              "44     2015-07-07             \n",
              "139    2015-07-01             \n",
              "201    2015-07-08             \n",
              "220    2015-07-08             \n",
              "257    2015-07-12             \n",
              "262    2015-07-14             \n",
              "354    2015-07-15             \n",
              "373    2015-07-18             \n",
              "416    2015-07-17             \n",
              "417    2015-07-17             \n",
              "426    2015-07-17             \n",
              "427    2015-07-17             \n",
              "428    2015-07-17             \n",
              "430    2015-07-17             \n",
              "431    2015-07-17             \n",
              "432    2015-07-17             \n",
              "433    2015-07-17             \n",
              "434    2015-07-17             \n",
              "479    2015-07-22             \n",
              "481    2015-07-22             \n",
              "491    2015-07-24             \n",
              "533    2015-07-25             \n",
              "534    2015-07-25             \n",
              "537    2015-07-26             \n",
              "554    2015-06-17             \n",
              "561    2015-07-26             \n",
              "577    2015-06-15             \n",
              "597    2015-07-30             \n",
              "⋮      ⋮                      \n",
              "119230 2017-09-01             \n",
              "119231 2017-09-01             \n",
              "119232 2017-09-01             \n",
              "119233 2017-09-01             \n",
              "119240 2017-09-01             \n",
              "119245 2017-09-01             \n",
              "119246 2017-09-01             \n",
              "119251 2017-09-01             \n",
              "119252 2017-09-01             \n",
              "119254 2017-09-01             \n",
              "119260 2017-09-01             \n",
              "119263 2017-09-01             \n",
              "119265 2017-09-01             \n",
              "119266 2017-09-01             \n",
              "119267 2017-09-01             \n",
              "119268 2017-09-01             \n",
              "119272 2017-09-01             \n",
              "119276 2017-09-01             \n",
              "119277 2017-09-01             \n",
              "119278 2017-09-01             \n",
              "119316 2017-09-03             \n",
              "119328 2017-09-03             \n",
              "119343 2017-09-03             \n",
              "119348 2017-09-03             \n",
              "119349 2017-09-03             \n",
              "119350 2017-09-03             \n",
              "119353 2017-09-03             \n",
              "119354 2017-09-03             \n",
              "119355 2017-09-03             \n",
              "119374 2017-09-04             "
            ]
          },
          "metadata": {}
        }
      ]
    },
    {
      "cell_type": "code",
      "source": [
        "# Checking if any of the columns are all null\n",
        "# ---\n",
        "# YOUR CODE GOES BELOW\n",
        "# \n",
        "\n",
        "colSums(is.na(hotel_booking_df))"
      ],
      "metadata": {
        "colab": {
          "base_uri": "https://localhost:8080/",
          "height": 104
        },
        "id": "pE9enE0v_1Wv",
        "outputId": "54886099-c8e8-49b2-b1b2-0de07cfb5844"
      },
      "execution_count": 20,
      "outputs": [
        {
          "output_type": "display_data",
          "data": {
            "text/html": [
              "<style>\n",
              ".dl-inline {width: auto; margin:0; padding: 0}\n",
              ".dl-inline>dt, .dl-inline>dd {float: none; width: auto; display: inline-block}\n",
              ".dl-inline>dt::after {content: \":\\0020\"; padding-right: .5ex}\n",
              ".dl-inline>dt:not(:first-of-type) {padding-left: .5ex}\n",
              "</style><dl class=dl-inline><dt>hotel</dt><dd>0</dd><dt>is_canceled</dt><dd>0</dd><dt>lead_time</dt><dd>0</dd><dt>arrival_date_year</dt><dd>0</dd><dt>arrival_date_month</dt><dd>0</dd><dt>arrival_date_week_number</dt><dd>0</dd><dt>arrival_date_day_of_month</dt><dd>0</dd><dt>stays_in_weekend_nights</dt><dd>0</dd><dt>stays_in_week_nights</dt><dd>0</dd><dt>adults</dt><dd>0</dd><dt>children</dt><dd>4</dd><dt>babies</dt><dd>0</dd><dt>meal</dt><dd>0</dd><dt>country</dt><dd>0</dd><dt>market_segment</dt><dd>0</dd><dt>distribution_channel</dt><dd>0</dd><dt>is_repeated_guest</dt><dd>0</dd><dt>previous_cancellations</dt><dd>0</dd><dt>previous_bookings_not_canceled</dt><dd>0</dd><dt>reserved_room_type</dt><dd>0</dd><dt>assigned_room_type</dt><dd>0</dd><dt>booking_changes</dt><dd>0</dd><dt>deposit_type</dt><dd>0</dd><dt>agent</dt><dd>0</dd><dt>company</dt><dd>0</dd><dt>days_in_waiting_list</dt><dd>0</dd><dt>customer_type</dt><dd>0</dd><dt>adr</dt><dd>0</dd><dt>required_car_parking_spaces</dt><dd>0</dd><dt>total_of_special_requests</dt><dd>0</dd><dt>reservation_status</dt><dd>0</dd><dt>reservation_status_date</dt><dd>0</dd></dl>\n"
            ],
            "text/markdown": "hotel\n:   0is_canceled\n:   0lead_time\n:   0arrival_date_year\n:   0arrival_date_month\n:   0arrival_date_week_number\n:   0arrival_date_day_of_month\n:   0stays_in_weekend_nights\n:   0stays_in_week_nights\n:   0adults\n:   0children\n:   4babies\n:   0meal\n:   0country\n:   0market_segment\n:   0distribution_channel\n:   0is_repeated_guest\n:   0previous_cancellations\n:   0previous_bookings_not_canceled\n:   0reserved_room_type\n:   0assigned_room_type\n:   0booking_changes\n:   0deposit_type\n:   0agent\n:   0company\n:   0days_in_waiting_list\n:   0customer_type\n:   0adr\n:   0required_car_parking_spaces\n:   0total_of_special_requests\n:   0reservation_status\n:   0reservation_status_date\n:   0\n\n",
            "text/latex": "\\begin{description*}\n\\item[hotel] 0\n\\item[is\\textbackslash{}\\_canceled] 0\n\\item[lead\\textbackslash{}\\_time] 0\n\\item[arrival\\textbackslash{}\\_date\\textbackslash{}\\_year] 0\n\\item[arrival\\textbackslash{}\\_date\\textbackslash{}\\_month] 0\n\\item[arrival\\textbackslash{}\\_date\\textbackslash{}\\_week\\textbackslash{}\\_number] 0\n\\item[arrival\\textbackslash{}\\_date\\textbackslash{}\\_day\\textbackslash{}\\_of\\textbackslash{}\\_month] 0\n\\item[stays\\textbackslash{}\\_in\\textbackslash{}\\_weekend\\textbackslash{}\\_nights] 0\n\\item[stays\\textbackslash{}\\_in\\textbackslash{}\\_week\\textbackslash{}\\_nights] 0\n\\item[adults] 0\n\\item[children] 4\n\\item[babies] 0\n\\item[meal] 0\n\\item[country] 0\n\\item[market\\textbackslash{}\\_segment] 0\n\\item[distribution\\textbackslash{}\\_channel] 0\n\\item[is\\textbackslash{}\\_repeated\\textbackslash{}\\_guest] 0\n\\item[previous\\textbackslash{}\\_cancellations] 0\n\\item[previous\\textbackslash{}\\_bookings\\textbackslash{}\\_not\\textbackslash{}\\_canceled] 0\n\\item[reserved\\textbackslash{}\\_room\\textbackslash{}\\_type] 0\n\\item[assigned\\textbackslash{}\\_room\\textbackslash{}\\_type] 0\n\\item[booking\\textbackslash{}\\_changes] 0\n\\item[deposit\\textbackslash{}\\_type] 0\n\\item[agent] 0\n\\item[company] 0\n\\item[days\\textbackslash{}\\_in\\textbackslash{}\\_waiting\\textbackslash{}\\_list] 0\n\\item[customer\\textbackslash{}\\_type] 0\n\\item[adr] 0\n\\item[required\\textbackslash{}\\_car\\textbackslash{}\\_parking\\textbackslash{}\\_spaces] 0\n\\item[total\\textbackslash{}\\_of\\textbackslash{}\\_special\\textbackslash{}\\_requests] 0\n\\item[reservation\\textbackslash{}\\_status] 0\n\\item[reservation\\textbackslash{}\\_status\\textbackslash{}\\_date] 0\n\\end{description*}\n",
            "text/plain": [
              "                         hotel                    is_canceled \n",
              "                             0                              0 \n",
              "                     lead_time              arrival_date_year \n",
              "                             0                              0 \n",
              "            arrival_date_month       arrival_date_week_number \n",
              "                             0                              0 \n",
              "     arrival_date_day_of_month        stays_in_weekend_nights \n",
              "                             0                              0 \n",
              "          stays_in_week_nights                         adults \n",
              "                             0                              0 \n",
              "                      children                         babies \n",
              "                             4                              0 \n",
              "                          meal                        country \n",
              "                             0                              0 \n",
              "                market_segment           distribution_channel \n",
              "                             0                              0 \n",
              "             is_repeated_guest         previous_cancellations \n",
              "                             0                              0 \n",
              "previous_bookings_not_canceled             reserved_room_type \n",
              "                             0                              0 \n",
              "            assigned_room_type                booking_changes \n",
              "                             0                              0 \n",
              "                  deposit_type                          agent \n",
              "                             0                              0 \n",
              "                       company           days_in_waiting_list \n",
              "                             0                              0 \n",
              "                 customer_type                            adr \n",
              "                             0                              0 \n",
              "   required_car_parking_spaces      total_of_special_requests \n",
              "                             0                              0 \n",
              "            reservation_status        reservation_status_date \n",
              "                             0                              0 "
            ]
          },
          "metadata": {}
        }
      ]
    },
    {
      "cell_type": "markdown",
      "source": [
        "* The column children has missing values, 4 of them"
      ],
      "metadata": {
        "id": "Jy_8ziOiAFY9"
      }
    },
    {
      "cell_type": "code",
      "source": [
        "# Checking if any of the rows are all null\n",
        "# ---\n",
        "# YOUR CODE GOES BELOW\n",
        "# \n",
        "\n",
        "hotel_booking_df[!complete.cases(hotel_booking_df),]"
      ],
      "metadata": {
        "colab": {
          "base_uri": "https://localhost:8080/",
          "height": 313
        },
        "id": "6EMsg1nFAFBW",
        "outputId": "b298f9b4-68b2-4e9d-d340-820df7fedb3a"
      },
      "execution_count": 21,
      "outputs": [
        {
          "output_type": "display_data",
          "data": {
            "text/html": [
              "<table class=\"dataframe\">\n",
              "<caption>A data.frame: 4 × 32</caption>\n",
              "<thead>\n",
              "\t<tr><th></th><th scope=col>hotel</th><th scope=col>is_canceled</th><th scope=col>lead_time</th><th scope=col>arrival_date_year</th><th scope=col>arrival_date_month</th><th scope=col>arrival_date_week_number</th><th scope=col>arrival_date_day_of_month</th><th scope=col>stays_in_weekend_nights</th><th scope=col>stays_in_week_nights</th><th scope=col>adults</th><th scope=col>⋯</th><th scope=col>deposit_type</th><th scope=col>agent</th><th scope=col>company</th><th scope=col>days_in_waiting_list</th><th scope=col>customer_type</th><th scope=col>adr</th><th scope=col>required_car_parking_spaces</th><th scope=col>total_of_special_requests</th><th scope=col>reservation_status</th><th scope=col>reservation_status_date</th></tr>\n",
              "\t<tr><th></th><th scope=col>&lt;chr&gt;</th><th scope=col>&lt;int&gt;</th><th scope=col>&lt;int&gt;</th><th scope=col>&lt;int&gt;</th><th scope=col>&lt;chr&gt;</th><th scope=col>&lt;int&gt;</th><th scope=col>&lt;int&gt;</th><th scope=col>&lt;int&gt;</th><th scope=col>&lt;int&gt;</th><th scope=col>&lt;int&gt;</th><th scope=col>⋯</th><th scope=col>&lt;chr&gt;</th><th scope=col>&lt;chr&gt;</th><th scope=col>&lt;chr&gt;</th><th scope=col>&lt;int&gt;</th><th scope=col>&lt;chr&gt;</th><th scope=col>&lt;dbl&gt;</th><th scope=col>&lt;int&gt;</th><th scope=col>&lt;int&gt;</th><th scope=col>&lt;chr&gt;</th><th scope=col>&lt;chr&gt;</th></tr>\n",
              "</thead>\n",
              "<tbody>\n",
              "\t<tr><th scope=row>40601</th><td>City Hotel</td><td>1</td><td>2</td><td>2015</td><td>August</td><td>32</td><td> 3</td><td>1</td><td>0</td><td>2</td><td>⋯</td><td>No Deposit</td><td>NULL</td><td>NULL</td><td>0</td><td>Transient-Party</td><td>12.0</td><td>0</td><td>1</td><td>Canceled</td><td>2015-08-01</td></tr>\n",
              "\t<tr><th scope=row>40668</th><td>City Hotel</td><td>1</td><td>1</td><td>2015</td><td>August</td><td>32</td><td> 5</td><td>0</td><td>2</td><td>2</td><td>⋯</td><td>No Deposit</td><td>14  </td><td>NULL</td><td>0</td><td>Transient-Party</td><td>12.0</td><td>0</td><td>1</td><td>Canceled</td><td>2015-08-04</td></tr>\n",
              "\t<tr><th scope=row>40680</th><td>City Hotel</td><td>1</td><td>1</td><td>2015</td><td>August</td><td>32</td><td> 5</td><td>0</td><td>2</td><td>3</td><td>⋯</td><td>No Deposit</td><td>NULL</td><td>NULL</td><td>0</td><td>Transient-Party</td><td>18.0</td><td>0</td><td>2</td><td>Canceled</td><td>2015-08-04</td></tr>\n",
              "\t<tr><th scope=row>41161</th><td>City Hotel</td><td>1</td><td>8</td><td>2015</td><td>August</td><td>33</td><td>13</td><td>2</td><td>5</td><td>2</td><td>⋯</td><td>No Deposit</td><td>9   </td><td>NULL</td><td>0</td><td>Transient-Party</td><td>76.5</td><td>0</td><td>1</td><td>Canceled</td><td>2015-08-09</td></tr>\n",
              "</tbody>\n",
              "</table>\n"
            ],
            "text/markdown": "\nA data.frame: 4 × 32\n\n| <!--/--> | hotel &lt;chr&gt; | is_canceled &lt;int&gt; | lead_time &lt;int&gt; | arrival_date_year &lt;int&gt; | arrival_date_month &lt;chr&gt; | arrival_date_week_number &lt;int&gt; | arrival_date_day_of_month &lt;int&gt; | stays_in_weekend_nights &lt;int&gt; | stays_in_week_nights &lt;int&gt; | adults &lt;int&gt; | ⋯ ⋯ | deposit_type &lt;chr&gt; | agent &lt;chr&gt; | company &lt;chr&gt; | days_in_waiting_list &lt;int&gt; | customer_type &lt;chr&gt; | adr &lt;dbl&gt; | required_car_parking_spaces &lt;int&gt; | total_of_special_requests &lt;int&gt; | reservation_status &lt;chr&gt; | reservation_status_date &lt;chr&gt; |\n|---|---|---|---|---|---|---|---|---|---|---|---|---|---|---|---|---|---|---|---|---|---|\n| 40601 | City Hotel | 1 | 2 | 2015 | August | 32 |  3 | 1 | 0 | 2 | ⋯ | No Deposit | NULL | NULL | 0 | Transient-Party | 12.0 | 0 | 1 | Canceled | 2015-08-01 |\n| 40668 | City Hotel | 1 | 1 | 2015 | August | 32 |  5 | 0 | 2 | 2 | ⋯ | No Deposit | 14   | NULL | 0 | Transient-Party | 12.0 | 0 | 1 | Canceled | 2015-08-04 |\n| 40680 | City Hotel | 1 | 1 | 2015 | August | 32 |  5 | 0 | 2 | 3 | ⋯ | No Deposit | NULL | NULL | 0 | Transient-Party | 18.0 | 0 | 2 | Canceled | 2015-08-04 |\n| 41161 | City Hotel | 1 | 8 | 2015 | August | 33 | 13 | 2 | 5 | 2 | ⋯ | No Deposit | 9    | NULL | 0 | Transient-Party | 76.5 | 0 | 1 | Canceled | 2015-08-09 |\n\n",
            "text/latex": "A data.frame: 4 × 32\n\\begin{tabular}{r|lllllllllllllllllllll}\n  & hotel & is\\_canceled & lead\\_time & arrival\\_date\\_year & arrival\\_date\\_month & arrival\\_date\\_week\\_number & arrival\\_date\\_day\\_of\\_month & stays\\_in\\_weekend\\_nights & stays\\_in\\_week\\_nights & adults & ⋯ & deposit\\_type & agent & company & days\\_in\\_waiting\\_list & customer\\_type & adr & required\\_car\\_parking\\_spaces & total\\_of\\_special\\_requests & reservation\\_status & reservation\\_status\\_date\\\\\n  & <chr> & <int> & <int> & <int> & <chr> & <int> & <int> & <int> & <int> & <int> & ⋯ & <chr> & <chr> & <chr> & <int> & <chr> & <dbl> & <int> & <int> & <chr> & <chr>\\\\\n\\hline\n\t40601 & City Hotel & 1 & 2 & 2015 & August & 32 &  3 & 1 & 0 & 2 & ⋯ & No Deposit & NULL & NULL & 0 & Transient-Party & 12.0 & 0 & 1 & Canceled & 2015-08-01\\\\\n\t40668 & City Hotel & 1 & 1 & 2015 & August & 32 &  5 & 0 & 2 & 2 & ⋯ & No Deposit & 14   & NULL & 0 & Transient-Party & 12.0 & 0 & 1 & Canceled & 2015-08-04\\\\\n\t40680 & City Hotel & 1 & 1 & 2015 & August & 32 &  5 & 0 & 2 & 3 & ⋯ & No Deposit & NULL & NULL & 0 & Transient-Party & 18.0 & 0 & 2 & Canceled & 2015-08-04\\\\\n\t41161 & City Hotel & 1 & 8 & 2015 & August & 33 & 13 & 2 & 5 & 2 & ⋯ & No Deposit & 9    & NULL & 0 & Transient-Party & 76.5 & 0 & 1 & Canceled & 2015-08-09\\\\\n\\end{tabular}\n",
            "text/plain": [
              "      hotel      is_canceled lead_time arrival_date_year arrival_date_month\n",
              "40601 City Hotel 1           2         2015              August            \n",
              "40668 City Hotel 1           1         2015              August            \n",
              "40680 City Hotel 1           1         2015              August            \n",
              "41161 City Hotel 1           8         2015              August            \n",
              "      arrival_date_week_number arrival_date_day_of_month\n",
              "40601 32                        3                       \n",
              "40668 32                        5                       \n",
              "40680 32                        5                       \n",
              "41161 33                       13                       \n",
              "      stays_in_weekend_nights stays_in_week_nights adults ⋯ deposit_type agent\n",
              "40601 1                       0                    2      ⋯ No Deposit   NULL \n",
              "40668 0                       2                    2      ⋯ No Deposit   14   \n",
              "40680 0                       2                    3      ⋯ No Deposit   NULL \n",
              "41161 2                       5                    2      ⋯ No Deposit   9    \n",
              "      company days_in_waiting_list customer_type   adr \n",
              "40601 NULL    0                    Transient-Party 12.0\n",
              "40668 NULL    0                    Transient-Party 12.0\n",
              "40680 NULL    0                    Transient-Party 18.0\n",
              "41161 NULL    0                    Transient-Party 76.5\n",
              "      required_car_parking_spaces total_of_special_requests reservation_status\n",
              "40601 0                           1                         Canceled          \n",
              "40668 0                           1                         Canceled          \n",
              "40680 0                           2                         Canceled          \n",
              "41161 0                           1                         Canceled          \n",
              "      reservation_status_date\n",
              "40601 2015-08-01             \n",
              "40668 2015-08-04             \n",
              "40680 2015-08-04             \n",
              "41161 2015-08-09             "
            ]
          },
          "metadata": {}
        }
      ]
    },
    {
      "cell_type": "markdown",
      "source": [
        "* we have 4 rows with null information under children"
      ],
      "metadata": {
        "id": "hv2DvaPlATju"
      }
    },
    {
      "cell_type": "code",
      "source": [
        "# Checking the correlation of the features through the use of \n",
        "# visualizations the correlation using heatmap\n",
        "\n",
        "# Let's first install and import the reshape2 package that will provide \n",
        "# the melt() function for creating a correlation matrix. \n",
        "# After running the following line, once prompted in the console,\n",
        "# type `Yes` to install it.\n",
        "install.packages(\"reshape2\")"
      ],
      "metadata": {
        "colab": {
          "base_uri": "https://localhost:8080/"
        },
        "id": "gybwHXM8AcTg",
        "outputId": "695f858b-0cba-4f51-c65a-3abde0c5809b"
      },
      "execution_count": 22,
      "outputs": [
        {
          "output_type": "stream",
          "name": "stderr",
          "text": [
            "Installing package into ‘/usr/local/lib/R/site-library’\n",
            "(as ‘lib’ is unspecified)\n",
            "\n",
            "also installing the dependencies ‘plyr’, ‘Rcpp’\n",
            "\n",
            "\n"
          ]
        }
      ]
    },
    {
      "cell_type": "code",
      "source": [
        "# loading the package\n",
        "library(reshape2)"
      ],
      "metadata": {
        "colab": {
          "base_uri": "https://localhost:8080/"
        },
        "id": "FOdCUEegAe_9",
        "outputId": "13cdd3a2-b521-40c3-dceb-047522576221"
      },
      "execution_count": 23,
      "outputs": [
        {
          "output_type": "stream",
          "name": "stderr",
          "text": [
            "\n",
            "Attaching package: ‘reshape2’\n",
            "\n",
            "\n",
            "The following object is masked from ‘package:tidyr’:\n",
            "\n",
            "    smiths\n",
            "\n",
            "\n"
          ]
        }
      ]
    },
    {
      "cell_type": "code",
      "source": [
        "head(hotel_booking_df)"
      ],
      "metadata": {
        "colab": {
          "base_uri": "https://localhost:8080/",
          "height": 410
        },
        "id": "nB7XqBgKAhls",
        "outputId": "f5469273-a44f-424e-e533-31fc95d72ad2"
      },
      "execution_count": 24,
      "outputs": [
        {
          "output_type": "display_data",
          "data": {
            "text/html": [
              "<table class=\"dataframe\">\n",
              "<caption>A data.frame: 6 × 32</caption>\n",
              "<thead>\n",
              "\t<tr><th></th><th scope=col>hotel</th><th scope=col>is_canceled</th><th scope=col>lead_time</th><th scope=col>arrival_date_year</th><th scope=col>arrival_date_month</th><th scope=col>arrival_date_week_number</th><th scope=col>arrival_date_day_of_month</th><th scope=col>stays_in_weekend_nights</th><th scope=col>stays_in_week_nights</th><th scope=col>adults</th><th scope=col>⋯</th><th scope=col>deposit_type</th><th scope=col>agent</th><th scope=col>company</th><th scope=col>days_in_waiting_list</th><th scope=col>customer_type</th><th scope=col>adr</th><th scope=col>required_car_parking_spaces</th><th scope=col>total_of_special_requests</th><th scope=col>reservation_status</th><th scope=col>reservation_status_date</th></tr>\n",
              "\t<tr><th></th><th scope=col>&lt;chr&gt;</th><th scope=col>&lt;int&gt;</th><th scope=col>&lt;int&gt;</th><th scope=col>&lt;int&gt;</th><th scope=col>&lt;chr&gt;</th><th scope=col>&lt;int&gt;</th><th scope=col>&lt;int&gt;</th><th scope=col>&lt;int&gt;</th><th scope=col>&lt;int&gt;</th><th scope=col>&lt;int&gt;</th><th scope=col>⋯</th><th scope=col>&lt;chr&gt;</th><th scope=col>&lt;chr&gt;</th><th scope=col>&lt;chr&gt;</th><th scope=col>&lt;int&gt;</th><th scope=col>&lt;chr&gt;</th><th scope=col>&lt;dbl&gt;</th><th scope=col>&lt;int&gt;</th><th scope=col>&lt;int&gt;</th><th scope=col>&lt;chr&gt;</th><th scope=col>&lt;chr&gt;</th></tr>\n",
              "</thead>\n",
              "<tbody>\n",
              "\t<tr><th scope=row>1</th><td>Resort Hotel</td><td>0</td><td>342</td><td>2015</td><td>July</td><td>27</td><td>1</td><td>0</td><td>0</td><td>2</td><td>⋯</td><td>No Deposit</td><td>NULL</td><td>NULL</td><td>0</td><td>Transient</td><td> 0</td><td>0</td><td>0</td><td>Check-Out</td><td>2015-07-01</td></tr>\n",
              "\t<tr><th scope=row>2</th><td>Resort Hotel</td><td>0</td><td>737</td><td>2015</td><td>July</td><td>27</td><td>1</td><td>0</td><td>0</td><td>2</td><td>⋯</td><td>No Deposit</td><td>NULL</td><td>NULL</td><td>0</td><td>Transient</td><td> 0</td><td>0</td><td>0</td><td>Check-Out</td><td>2015-07-01</td></tr>\n",
              "\t<tr><th scope=row>3</th><td>Resort Hotel</td><td>0</td><td>  7</td><td>2015</td><td>July</td><td>27</td><td>1</td><td>0</td><td>1</td><td>1</td><td>⋯</td><td>No Deposit</td><td>NULL</td><td>NULL</td><td>0</td><td>Transient</td><td>75</td><td>0</td><td>0</td><td>Check-Out</td><td>2015-07-02</td></tr>\n",
              "\t<tr><th scope=row>4</th><td>Resort Hotel</td><td>0</td><td> 13</td><td>2015</td><td>July</td><td>27</td><td>1</td><td>0</td><td>1</td><td>1</td><td>⋯</td><td>No Deposit</td><td>304 </td><td>NULL</td><td>0</td><td>Transient</td><td>75</td><td>0</td><td>0</td><td>Check-Out</td><td>2015-07-02</td></tr>\n",
              "\t<tr><th scope=row>5</th><td>Resort Hotel</td><td>0</td><td> 14</td><td>2015</td><td>July</td><td>27</td><td>1</td><td>0</td><td>2</td><td>2</td><td>⋯</td><td>No Deposit</td><td>240 </td><td>NULL</td><td>0</td><td>Transient</td><td>98</td><td>0</td><td>1</td><td>Check-Out</td><td>2015-07-03</td></tr>\n",
              "\t<tr><th scope=row>6</th><td>Resort Hotel</td><td>0</td><td> 14</td><td>2015</td><td>July</td><td>27</td><td>1</td><td>0</td><td>2</td><td>2</td><td>⋯</td><td>No Deposit</td><td>240 </td><td>NULL</td><td>0</td><td>Transient</td><td>98</td><td>0</td><td>1</td><td>Check-Out</td><td>2015-07-03</td></tr>\n",
              "</tbody>\n",
              "</table>\n"
            ],
            "text/markdown": "\nA data.frame: 6 × 32\n\n| <!--/--> | hotel &lt;chr&gt; | is_canceled &lt;int&gt; | lead_time &lt;int&gt; | arrival_date_year &lt;int&gt; | arrival_date_month &lt;chr&gt; | arrival_date_week_number &lt;int&gt; | arrival_date_day_of_month &lt;int&gt; | stays_in_weekend_nights &lt;int&gt; | stays_in_week_nights &lt;int&gt; | adults &lt;int&gt; | ⋯ ⋯ | deposit_type &lt;chr&gt; | agent &lt;chr&gt; | company &lt;chr&gt; | days_in_waiting_list &lt;int&gt; | customer_type &lt;chr&gt; | adr &lt;dbl&gt; | required_car_parking_spaces &lt;int&gt; | total_of_special_requests &lt;int&gt; | reservation_status &lt;chr&gt; | reservation_status_date &lt;chr&gt; |\n|---|---|---|---|---|---|---|---|---|---|---|---|---|---|---|---|---|---|---|---|---|---|\n| 1 | Resort Hotel | 0 | 342 | 2015 | July | 27 | 1 | 0 | 0 | 2 | ⋯ | No Deposit | NULL | NULL | 0 | Transient |  0 | 0 | 0 | Check-Out | 2015-07-01 |\n| 2 | Resort Hotel | 0 | 737 | 2015 | July | 27 | 1 | 0 | 0 | 2 | ⋯ | No Deposit | NULL | NULL | 0 | Transient |  0 | 0 | 0 | Check-Out | 2015-07-01 |\n| 3 | Resort Hotel | 0 |   7 | 2015 | July | 27 | 1 | 0 | 1 | 1 | ⋯ | No Deposit | NULL | NULL | 0 | Transient | 75 | 0 | 0 | Check-Out | 2015-07-02 |\n| 4 | Resort Hotel | 0 |  13 | 2015 | July | 27 | 1 | 0 | 1 | 1 | ⋯ | No Deposit | 304  | NULL | 0 | Transient | 75 | 0 | 0 | Check-Out | 2015-07-02 |\n| 5 | Resort Hotel | 0 |  14 | 2015 | July | 27 | 1 | 0 | 2 | 2 | ⋯ | No Deposit | 240  | NULL | 0 | Transient | 98 | 0 | 1 | Check-Out | 2015-07-03 |\n| 6 | Resort Hotel | 0 |  14 | 2015 | July | 27 | 1 | 0 | 2 | 2 | ⋯ | No Deposit | 240  | NULL | 0 | Transient | 98 | 0 | 1 | Check-Out | 2015-07-03 |\n\n",
            "text/latex": "A data.frame: 6 × 32\n\\begin{tabular}{r|lllllllllllllllllllll}\n  & hotel & is\\_canceled & lead\\_time & arrival\\_date\\_year & arrival\\_date\\_month & arrival\\_date\\_week\\_number & arrival\\_date\\_day\\_of\\_month & stays\\_in\\_weekend\\_nights & stays\\_in\\_week\\_nights & adults & ⋯ & deposit\\_type & agent & company & days\\_in\\_waiting\\_list & customer\\_type & adr & required\\_car\\_parking\\_spaces & total\\_of\\_special\\_requests & reservation\\_status & reservation\\_status\\_date\\\\\n  & <chr> & <int> & <int> & <int> & <chr> & <int> & <int> & <int> & <int> & <int> & ⋯ & <chr> & <chr> & <chr> & <int> & <chr> & <dbl> & <int> & <int> & <chr> & <chr>\\\\\n\\hline\n\t1 & Resort Hotel & 0 & 342 & 2015 & July & 27 & 1 & 0 & 0 & 2 & ⋯ & No Deposit & NULL & NULL & 0 & Transient &  0 & 0 & 0 & Check-Out & 2015-07-01\\\\\n\t2 & Resort Hotel & 0 & 737 & 2015 & July & 27 & 1 & 0 & 0 & 2 & ⋯ & No Deposit & NULL & NULL & 0 & Transient &  0 & 0 & 0 & Check-Out & 2015-07-01\\\\\n\t3 & Resort Hotel & 0 &   7 & 2015 & July & 27 & 1 & 0 & 1 & 1 & ⋯ & No Deposit & NULL & NULL & 0 & Transient & 75 & 0 & 0 & Check-Out & 2015-07-02\\\\\n\t4 & Resort Hotel & 0 &  13 & 2015 & July & 27 & 1 & 0 & 1 & 1 & ⋯ & No Deposit & 304  & NULL & 0 & Transient & 75 & 0 & 0 & Check-Out & 2015-07-02\\\\\n\t5 & Resort Hotel & 0 &  14 & 2015 & July & 27 & 1 & 0 & 2 & 2 & ⋯ & No Deposit & 240  & NULL & 0 & Transient & 98 & 0 & 1 & Check-Out & 2015-07-03\\\\\n\t6 & Resort Hotel & 0 &  14 & 2015 & July & 27 & 1 & 0 & 2 & 2 & ⋯ & No Deposit & 240  & NULL & 0 & Transient & 98 & 0 & 1 & Check-Out & 2015-07-03\\\\\n\\end{tabular}\n",
            "text/plain": [
              "  hotel        is_canceled lead_time arrival_date_year arrival_date_month\n",
              "1 Resort Hotel 0           342       2015              July              \n",
              "2 Resort Hotel 0           737       2015              July              \n",
              "3 Resort Hotel 0             7       2015              July              \n",
              "4 Resort Hotel 0            13       2015              July              \n",
              "5 Resort Hotel 0            14       2015              July              \n",
              "6 Resort Hotel 0            14       2015              July              \n",
              "  arrival_date_week_number arrival_date_day_of_month stays_in_weekend_nights\n",
              "1 27                       1                         0                      \n",
              "2 27                       1                         0                      \n",
              "3 27                       1                         0                      \n",
              "4 27                       1                         0                      \n",
              "5 27                       1                         0                      \n",
              "6 27                       1                         0                      \n",
              "  stays_in_week_nights adults ⋯ deposit_type agent company days_in_waiting_list\n",
              "1 0                    2      ⋯ No Deposit   NULL  NULL    0                   \n",
              "2 0                    2      ⋯ No Deposit   NULL  NULL    0                   \n",
              "3 1                    1      ⋯ No Deposit   NULL  NULL    0                   \n",
              "4 1                    1      ⋯ No Deposit   304   NULL    0                   \n",
              "5 2                    2      ⋯ No Deposit   240   NULL    0                   \n",
              "6 2                    2      ⋯ No Deposit   240   NULL    0                   \n",
              "  customer_type adr required_car_parking_spaces total_of_special_requests\n",
              "1 Transient      0  0                           0                        \n",
              "2 Transient      0  0                           0                        \n",
              "3 Transient     75  0                           0                        \n",
              "4 Transient     75  0                           0                        \n",
              "5 Transient     98  0                           1                        \n",
              "6 Transient     98  0                           1                        \n",
              "  reservation_status reservation_status_date\n",
              "1 Check-Out          2015-07-01             \n",
              "2 Check-Out          2015-07-01             \n",
              "3 Check-Out          2015-07-02             \n",
              "4 Check-Out          2015-07-02             \n",
              "5 Check-Out          2015-07-03             \n",
              "6 Check-Out          2015-07-03             "
            ]
          },
          "metadata": {}
        }
      ]
    },
    {
      "cell_type": "markdown",
      "source": [
        "## Question: Create a heatmap to determine which variables are highly correlated.\n"
      ],
      "metadata": {
        "id": "P_UtCSaLAY8P"
      }
    },
    {
      "cell_type": "code",
      "source": [
        "# Select the desired columns\n",
        "hote_booking_df2 <- hotel_booking_df %>%\n",
        "  na.omit() %>%\n",
        "  select(adults, children, babies, required_car_parking_spaces)\n",
        "hote_booking_df2"
      ],
      "metadata": {
        "colab": {
          "base_uri": "https://localhost:8080/",
          "height": 1000
        },
        "id": "aFHyErhPAnO3",
        "outputId": "f6746d88-0bb6-4c33-9acd-389f91c98078"
      },
      "execution_count": 25,
      "outputs": [
        {
          "output_type": "display_data",
          "data": {
            "text/html": [
              "<table class=\"dataframe\">\n",
              "<caption>A data.frame: 119386 × 4</caption>\n",
              "<thead>\n",
              "\t<tr><th></th><th scope=col>adults</th><th scope=col>children</th><th scope=col>babies</th><th scope=col>required_car_parking_spaces</th></tr>\n",
              "\t<tr><th></th><th scope=col>&lt;int&gt;</th><th scope=col>&lt;int&gt;</th><th scope=col>&lt;int&gt;</th><th scope=col>&lt;int&gt;</th></tr>\n",
              "</thead>\n",
              "<tbody>\n",
              "\t<tr><th scope=row>1</th><td>2</td><td>0</td><td>0</td><td>0</td></tr>\n",
              "\t<tr><th scope=row>2</th><td>2</td><td>0</td><td>0</td><td>0</td></tr>\n",
              "\t<tr><th scope=row>3</th><td>1</td><td>0</td><td>0</td><td>0</td></tr>\n",
              "\t<tr><th scope=row>4</th><td>1</td><td>0</td><td>0</td><td>0</td></tr>\n",
              "\t<tr><th scope=row>5</th><td>2</td><td>0</td><td>0</td><td>0</td></tr>\n",
              "\t<tr><th scope=row>6</th><td>2</td><td>0</td><td>0</td><td>0</td></tr>\n",
              "\t<tr><th scope=row>7</th><td>2</td><td>0</td><td>0</td><td>0</td></tr>\n",
              "\t<tr><th scope=row>8</th><td>2</td><td>0</td><td>0</td><td>0</td></tr>\n",
              "\t<tr><th scope=row>9</th><td>2</td><td>0</td><td>0</td><td>0</td></tr>\n",
              "\t<tr><th scope=row>10</th><td>2</td><td>0</td><td>0</td><td>0</td></tr>\n",
              "\t<tr><th scope=row>11</th><td>2</td><td>0</td><td>0</td><td>0</td></tr>\n",
              "\t<tr><th scope=row>12</th><td>2</td><td>0</td><td>0</td><td>0</td></tr>\n",
              "\t<tr><th scope=row>13</th><td>2</td><td>0</td><td>0</td><td>0</td></tr>\n",
              "\t<tr><th scope=row>14</th><td>2</td><td>1</td><td>0</td><td>0</td></tr>\n",
              "\t<tr><th scope=row>15</th><td>2</td><td>0</td><td>0</td><td>0</td></tr>\n",
              "\t<tr><th scope=row>16</th><td>2</td><td>0</td><td>0</td><td>0</td></tr>\n",
              "\t<tr><th scope=row>17</th><td>2</td><td>0</td><td>0</td><td>0</td></tr>\n",
              "\t<tr><th scope=row>18</th><td>2</td><td>0</td><td>0</td><td>0</td></tr>\n",
              "\t<tr><th scope=row>19</th><td>2</td><td>0</td><td>0</td><td>0</td></tr>\n",
              "\t<tr><th scope=row>20</th><td>2</td><td>0</td><td>0</td><td>0</td></tr>\n",
              "\t<tr><th scope=row>21</th><td>1</td><td>0</td><td>0</td><td>0</td></tr>\n",
              "\t<tr><th scope=row>22</th><td>2</td><td>0</td><td>0</td><td>0</td></tr>\n",
              "\t<tr><th scope=row>23</th><td>2</td><td>0</td><td>0</td><td>0</td></tr>\n",
              "\t<tr><th scope=row>24</th><td>2</td><td>0</td><td>0</td><td>0</td></tr>\n",
              "\t<tr><th scope=row>25</th><td>2</td><td>0</td><td>0</td><td>0</td></tr>\n",
              "\t<tr><th scope=row>26</th><td>2</td><td>0</td><td>0</td><td>1</td></tr>\n",
              "\t<tr><th scope=row>27</th><td>2</td><td>0</td><td>0</td><td>0</td></tr>\n",
              "\t<tr><th scope=row>28</th><td>2</td><td>0</td><td>0</td><td>0</td></tr>\n",
              "\t<tr><th scope=row>29</th><td>2</td><td>0</td><td>0</td><td>0</td></tr>\n",
              "\t<tr><th scope=row>30</th><td>2</td><td>0</td><td>0</td><td>1</td></tr>\n",
              "\t<tr><th scope=row>⋮</th><td>⋮</td><td>⋮</td><td>⋮</td><td>⋮</td></tr>\n",
              "\t<tr><th scope=row>119361</th><td>2</td><td>0</td><td>0</td><td>0</td></tr>\n",
              "\t<tr><th scope=row>119362</th><td>2</td><td>0</td><td>0</td><td>0</td></tr>\n",
              "\t<tr><th scope=row>119363</th><td>2</td><td>0</td><td>0</td><td>0</td></tr>\n",
              "\t<tr><th scope=row>119364</th><td>2</td><td>0</td><td>0</td><td>0</td></tr>\n",
              "\t<tr><th scope=row>119365</th><td>2</td><td>0</td><td>0</td><td>0</td></tr>\n",
              "\t<tr><th scope=row>119366</th><td>1</td><td>0</td><td>0</td><td>0</td></tr>\n",
              "\t<tr><th scope=row>119367</th><td>2</td><td>0</td><td>0</td><td>0</td></tr>\n",
              "\t<tr><th scope=row>119368</th><td>2</td><td>0</td><td>0</td><td>0</td></tr>\n",
              "\t<tr><th scope=row>119369</th><td>2</td><td>0</td><td>0</td><td>0</td></tr>\n",
              "\t<tr><th scope=row>119370</th><td>2</td><td>0</td><td>0</td><td>0</td></tr>\n",
              "\t<tr><th scope=row>119371</th><td>1</td><td>0</td><td>0</td><td>0</td></tr>\n",
              "\t<tr><th scope=row>119372</th><td>2</td><td>0</td><td>0</td><td>0</td></tr>\n",
              "\t<tr><th scope=row>119373</th><td>1</td><td>0</td><td>0</td><td>0</td></tr>\n",
              "\t<tr><th scope=row>119374</th><td>1</td><td>0</td><td>0</td><td>0</td></tr>\n",
              "\t<tr><th scope=row>119375</th><td>2</td><td>0</td><td>0</td><td>0</td></tr>\n",
              "\t<tr><th scope=row>119376</th><td>2</td><td>0</td><td>0</td><td>0</td></tr>\n",
              "\t<tr><th scope=row>119377</th><td>3</td><td>0</td><td>0</td><td>0</td></tr>\n",
              "\t<tr><th scope=row>119378</th><td>2</td><td>0</td><td>0</td><td>0</td></tr>\n",
              "\t<tr><th scope=row>119379</th><td>2</td><td>0</td><td>0</td><td>0</td></tr>\n",
              "\t<tr><th scope=row>119380</th><td>2</td><td>0</td><td>0</td><td>0</td></tr>\n",
              "\t<tr><th scope=row>119381</th><td>2</td><td>0</td><td>0</td><td>0</td></tr>\n",
              "\t<tr><th scope=row>119382</th><td>2</td><td>0</td><td>0</td><td>0</td></tr>\n",
              "\t<tr><th scope=row>119383</th><td>3</td><td>0</td><td>0</td><td>0</td></tr>\n",
              "\t<tr><th scope=row>119384</th><td>2</td><td>0</td><td>0</td><td>0</td></tr>\n",
              "\t<tr><th scope=row>119385</th><td>2</td><td>0</td><td>0</td><td>0</td></tr>\n",
              "\t<tr><th scope=row>119386</th><td>2</td><td>0</td><td>0</td><td>0</td></tr>\n",
              "\t<tr><th scope=row>119387</th><td>3</td><td>0</td><td>0</td><td>0</td></tr>\n",
              "\t<tr><th scope=row>119388</th><td>2</td><td>0</td><td>0</td><td>0</td></tr>\n",
              "\t<tr><th scope=row>119389</th><td>2</td><td>0</td><td>0</td><td>0</td></tr>\n",
              "\t<tr><th scope=row>119390</th><td>2</td><td>0</td><td>0</td><td>0</td></tr>\n",
              "</tbody>\n",
              "</table>\n"
            ],
            "text/markdown": "\nA data.frame: 119386 × 4\n\n| <!--/--> | adults &lt;int&gt; | children &lt;int&gt; | babies &lt;int&gt; | required_car_parking_spaces &lt;int&gt; |\n|---|---|---|---|---|\n| 1 | 2 | 0 | 0 | 0 |\n| 2 | 2 | 0 | 0 | 0 |\n| 3 | 1 | 0 | 0 | 0 |\n| 4 | 1 | 0 | 0 | 0 |\n| 5 | 2 | 0 | 0 | 0 |\n| 6 | 2 | 0 | 0 | 0 |\n| 7 | 2 | 0 | 0 | 0 |\n| 8 | 2 | 0 | 0 | 0 |\n| 9 | 2 | 0 | 0 | 0 |\n| 10 | 2 | 0 | 0 | 0 |\n| 11 | 2 | 0 | 0 | 0 |\n| 12 | 2 | 0 | 0 | 0 |\n| 13 | 2 | 0 | 0 | 0 |\n| 14 | 2 | 1 | 0 | 0 |\n| 15 | 2 | 0 | 0 | 0 |\n| 16 | 2 | 0 | 0 | 0 |\n| 17 | 2 | 0 | 0 | 0 |\n| 18 | 2 | 0 | 0 | 0 |\n| 19 | 2 | 0 | 0 | 0 |\n| 20 | 2 | 0 | 0 | 0 |\n| 21 | 1 | 0 | 0 | 0 |\n| 22 | 2 | 0 | 0 | 0 |\n| 23 | 2 | 0 | 0 | 0 |\n| 24 | 2 | 0 | 0 | 0 |\n| 25 | 2 | 0 | 0 | 0 |\n| 26 | 2 | 0 | 0 | 1 |\n| 27 | 2 | 0 | 0 | 0 |\n| 28 | 2 | 0 | 0 | 0 |\n| 29 | 2 | 0 | 0 | 0 |\n| 30 | 2 | 0 | 0 | 1 |\n| ⋮ | ⋮ | ⋮ | ⋮ | ⋮ |\n| 119361 | 2 | 0 | 0 | 0 |\n| 119362 | 2 | 0 | 0 | 0 |\n| 119363 | 2 | 0 | 0 | 0 |\n| 119364 | 2 | 0 | 0 | 0 |\n| 119365 | 2 | 0 | 0 | 0 |\n| 119366 | 1 | 0 | 0 | 0 |\n| 119367 | 2 | 0 | 0 | 0 |\n| 119368 | 2 | 0 | 0 | 0 |\n| 119369 | 2 | 0 | 0 | 0 |\n| 119370 | 2 | 0 | 0 | 0 |\n| 119371 | 1 | 0 | 0 | 0 |\n| 119372 | 2 | 0 | 0 | 0 |\n| 119373 | 1 | 0 | 0 | 0 |\n| 119374 | 1 | 0 | 0 | 0 |\n| 119375 | 2 | 0 | 0 | 0 |\n| 119376 | 2 | 0 | 0 | 0 |\n| 119377 | 3 | 0 | 0 | 0 |\n| 119378 | 2 | 0 | 0 | 0 |\n| 119379 | 2 | 0 | 0 | 0 |\n| 119380 | 2 | 0 | 0 | 0 |\n| 119381 | 2 | 0 | 0 | 0 |\n| 119382 | 2 | 0 | 0 | 0 |\n| 119383 | 3 | 0 | 0 | 0 |\n| 119384 | 2 | 0 | 0 | 0 |\n| 119385 | 2 | 0 | 0 | 0 |\n| 119386 | 2 | 0 | 0 | 0 |\n| 119387 | 3 | 0 | 0 | 0 |\n| 119388 | 2 | 0 | 0 | 0 |\n| 119389 | 2 | 0 | 0 | 0 |\n| 119390 | 2 | 0 | 0 | 0 |\n\n",
            "text/latex": "A data.frame: 119386 × 4\n\\begin{tabular}{r|llll}\n  & adults & children & babies & required\\_car\\_parking\\_spaces\\\\\n  & <int> & <int> & <int> & <int>\\\\\n\\hline\n\t1 & 2 & 0 & 0 & 0\\\\\n\t2 & 2 & 0 & 0 & 0\\\\\n\t3 & 1 & 0 & 0 & 0\\\\\n\t4 & 1 & 0 & 0 & 0\\\\\n\t5 & 2 & 0 & 0 & 0\\\\\n\t6 & 2 & 0 & 0 & 0\\\\\n\t7 & 2 & 0 & 0 & 0\\\\\n\t8 & 2 & 0 & 0 & 0\\\\\n\t9 & 2 & 0 & 0 & 0\\\\\n\t10 & 2 & 0 & 0 & 0\\\\\n\t11 & 2 & 0 & 0 & 0\\\\\n\t12 & 2 & 0 & 0 & 0\\\\\n\t13 & 2 & 0 & 0 & 0\\\\\n\t14 & 2 & 1 & 0 & 0\\\\\n\t15 & 2 & 0 & 0 & 0\\\\\n\t16 & 2 & 0 & 0 & 0\\\\\n\t17 & 2 & 0 & 0 & 0\\\\\n\t18 & 2 & 0 & 0 & 0\\\\\n\t19 & 2 & 0 & 0 & 0\\\\\n\t20 & 2 & 0 & 0 & 0\\\\\n\t21 & 1 & 0 & 0 & 0\\\\\n\t22 & 2 & 0 & 0 & 0\\\\\n\t23 & 2 & 0 & 0 & 0\\\\\n\t24 & 2 & 0 & 0 & 0\\\\\n\t25 & 2 & 0 & 0 & 0\\\\\n\t26 & 2 & 0 & 0 & 1\\\\\n\t27 & 2 & 0 & 0 & 0\\\\\n\t28 & 2 & 0 & 0 & 0\\\\\n\t29 & 2 & 0 & 0 & 0\\\\\n\t30 & 2 & 0 & 0 & 1\\\\\n\t⋮ & ⋮ & ⋮ & ⋮ & ⋮\\\\\n\t119361 & 2 & 0 & 0 & 0\\\\\n\t119362 & 2 & 0 & 0 & 0\\\\\n\t119363 & 2 & 0 & 0 & 0\\\\\n\t119364 & 2 & 0 & 0 & 0\\\\\n\t119365 & 2 & 0 & 0 & 0\\\\\n\t119366 & 1 & 0 & 0 & 0\\\\\n\t119367 & 2 & 0 & 0 & 0\\\\\n\t119368 & 2 & 0 & 0 & 0\\\\\n\t119369 & 2 & 0 & 0 & 0\\\\\n\t119370 & 2 & 0 & 0 & 0\\\\\n\t119371 & 1 & 0 & 0 & 0\\\\\n\t119372 & 2 & 0 & 0 & 0\\\\\n\t119373 & 1 & 0 & 0 & 0\\\\\n\t119374 & 1 & 0 & 0 & 0\\\\\n\t119375 & 2 & 0 & 0 & 0\\\\\n\t119376 & 2 & 0 & 0 & 0\\\\\n\t119377 & 3 & 0 & 0 & 0\\\\\n\t119378 & 2 & 0 & 0 & 0\\\\\n\t119379 & 2 & 0 & 0 & 0\\\\\n\t119380 & 2 & 0 & 0 & 0\\\\\n\t119381 & 2 & 0 & 0 & 0\\\\\n\t119382 & 2 & 0 & 0 & 0\\\\\n\t119383 & 3 & 0 & 0 & 0\\\\\n\t119384 & 2 & 0 & 0 & 0\\\\\n\t119385 & 2 & 0 & 0 & 0\\\\\n\t119386 & 2 & 0 & 0 & 0\\\\\n\t119387 & 3 & 0 & 0 & 0\\\\\n\t119388 & 2 & 0 & 0 & 0\\\\\n\t119389 & 2 & 0 & 0 & 0\\\\\n\t119390 & 2 & 0 & 0 & 0\\\\\n\\end{tabular}\n",
            "text/plain": [
              "       adults children babies required_car_parking_spaces\n",
              "1      2      0        0      0                          \n",
              "2      2      0        0      0                          \n",
              "3      1      0        0      0                          \n",
              "4      1      0        0      0                          \n",
              "5      2      0        0      0                          \n",
              "6      2      0        0      0                          \n",
              "7      2      0        0      0                          \n",
              "8      2      0        0      0                          \n",
              "9      2      0        0      0                          \n",
              "10     2      0        0      0                          \n",
              "11     2      0        0      0                          \n",
              "12     2      0        0      0                          \n",
              "13     2      0        0      0                          \n",
              "14     2      1        0      0                          \n",
              "15     2      0        0      0                          \n",
              "16     2      0        0      0                          \n",
              "17     2      0        0      0                          \n",
              "18     2      0        0      0                          \n",
              "19     2      0        0      0                          \n",
              "20     2      0        0      0                          \n",
              "21     1      0        0      0                          \n",
              "22     2      0        0      0                          \n",
              "23     2      0        0      0                          \n",
              "24     2      0        0      0                          \n",
              "25     2      0        0      0                          \n",
              "26     2      0        0      1                          \n",
              "27     2      0        0      0                          \n",
              "28     2      0        0      0                          \n",
              "29     2      0        0      0                          \n",
              "30     2      0        0      1                          \n",
              "⋮      ⋮      ⋮        ⋮      ⋮                          \n",
              "119361 2      0        0      0                          \n",
              "119362 2      0        0      0                          \n",
              "119363 2      0        0      0                          \n",
              "119364 2      0        0      0                          \n",
              "119365 2      0        0      0                          \n",
              "119366 1      0        0      0                          \n",
              "119367 2      0        0      0                          \n",
              "119368 2      0        0      0                          \n",
              "119369 2      0        0      0                          \n",
              "119370 2      0        0      0                          \n",
              "119371 1      0        0      0                          \n",
              "119372 2      0        0      0                          \n",
              "119373 1      0        0      0                          \n",
              "119374 1      0        0      0                          \n",
              "119375 2      0        0      0                          \n",
              "119376 2      0        0      0                          \n",
              "119377 3      0        0      0                          \n",
              "119378 2      0        0      0                          \n",
              "119379 2      0        0      0                          \n",
              "119380 2      0        0      0                          \n",
              "119381 2      0        0      0                          \n",
              "119382 2      0        0      0                          \n",
              "119383 3      0        0      0                          \n",
              "119384 2      0        0      0                          \n",
              "119385 2      0        0      0                          \n",
              "119386 2      0        0      0                          \n",
              "119387 3      0        0      0                          \n",
              "119388 2      0        0      0                          \n",
              "119389 2      0        0      0                          \n",
              "119390 2      0        0      0                          "
            ]
          },
          "metadata": {}
        }
      ]
    },
    {
      "cell_type": "code",
      "source": [
        "# Create a correlation matrix\n",
        "corr_matrix <- cor(hote_booking_df2, method=\"s\")\n",
        "head(corr_matrix)"
      ],
      "metadata": {
        "colab": {
          "base_uri": "https://localhost:8080/",
          "height": 192
        },
        "id": "CyxRbILsApWR",
        "outputId": "9b32e74c-0e6a-467c-b576-281fc33675d1"
      },
      "execution_count": 26,
      "outputs": [
        {
          "output_type": "display_data",
          "data": {
            "text/html": [
              "<table class=\"dataframe\">\n",
              "<caption>A matrix: 4 × 4 of type dbl</caption>\n",
              "<thead>\n",
              "\t<tr><th></th><th scope=col>adults</th><th scope=col>children</th><th scope=col>babies</th><th scope=col>required_car_parking_spaces</th></tr>\n",
              "</thead>\n",
              "<tbody>\n",
              "\t<tr><th scope=row>adults</th><td>1.00000000</td><td>0.07210130</td><td>0.02766992</td><td>0.01791815</td></tr>\n",
              "\t<tr><th scope=row>children</th><td>0.07210130</td><td>1.00000000</td><td>0.03926751</td><td>0.06097735</td></tr>\n",
              "\t<tr><th scope=row>babies</th><td>0.02766992</td><td>0.03926751</td><td>1.00000000</td><td>0.04057557</td></tr>\n",
              "\t<tr><th scope=row>required_car_parking_spaces</th><td>0.01791815</td><td>0.06097735</td><td>0.04057557</td><td>1.00000000</td></tr>\n",
              "</tbody>\n",
              "</table>\n"
            ],
            "text/markdown": "\nA matrix: 4 × 4 of type dbl\n\n| <!--/--> | adults | children | babies | required_car_parking_spaces |\n|---|---|---|---|---|\n| adults | 1.00000000 | 0.07210130 | 0.02766992 | 0.01791815 |\n| children | 0.07210130 | 1.00000000 | 0.03926751 | 0.06097735 |\n| babies | 0.02766992 | 0.03926751 | 1.00000000 | 0.04057557 |\n| required_car_parking_spaces | 0.01791815 | 0.06097735 | 0.04057557 | 1.00000000 |\n\n",
            "text/latex": "A matrix: 4 × 4 of type dbl\n\\begin{tabular}{r|llll}\n  & adults & children & babies & required\\_car\\_parking\\_spaces\\\\\n\\hline\n\tadults & 1.00000000 & 0.07210130 & 0.02766992 & 0.01791815\\\\\n\tchildren & 0.07210130 & 1.00000000 & 0.03926751 & 0.06097735\\\\\n\tbabies & 0.02766992 & 0.03926751 & 1.00000000 & 0.04057557\\\\\n\trequired\\_car\\_parking\\_spaces & 0.01791815 & 0.06097735 & 0.04057557 & 1.00000000\\\\\n\\end{tabular}\n",
            "text/plain": [
              "                            adults     children   babies    \n",
              "adults                      1.00000000 0.07210130 0.02766992\n",
              "children                    0.07210130 1.00000000 0.03926751\n",
              "babies                      0.02766992 0.03926751 1.00000000\n",
              "required_car_parking_spaces 0.01791815 0.06097735 0.04057557\n",
              "                            required_car_parking_spaces\n",
              "adults                      0.01791815                 \n",
              "children                    0.06097735                 \n",
              "babies                      0.04057557                 \n",
              "required_car_parking_spaces 1.00000000                 "
            ]
          },
          "metadata": {}
        }
      ]
    },
    {
      "cell_type": "code",
      "source": [
        "# Create a table with long form\n",
        "corr_df <- melt(corr_matrix)\n",
        "head(corr_df)"
      ],
      "metadata": {
        "colab": {
          "base_uri": "https://localhost:8080/",
          "height": 286
        },
        "id": "ijwFYBMYAqsP",
        "outputId": "7a2566db-c0b6-4bc6-d07c-bf5d16c46bea"
      },
      "execution_count": 27,
      "outputs": [
        {
          "output_type": "display_data",
          "data": {
            "text/html": [
              "<table class=\"dataframe\">\n",
              "<caption>A data.frame: 6 × 3</caption>\n",
              "<thead>\n",
              "\t<tr><th></th><th scope=col>Var1</th><th scope=col>Var2</th><th scope=col>value</th></tr>\n",
              "\t<tr><th></th><th scope=col>&lt;fct&gt;</th><th scope=col>&lt;fct&gt;</th><th scope=col>&lt;dbl&gt;</th></tr>\n",
              "</thead>\n",
              "<tbody>\n",
              "\t<tr><th scope=row>1</th><td>adults                     </td><td>adults  </td><td>1.00000000</td></tr>\n",
              "\t<tr><th scope=row>2</th><td>children                   </td><td>adults  </td><td>0.07210130</td></tr>\n",
              "\t<tr><th scope=row>3</th><td>babies                     </td><td>adults  </td><td>0.02766992</td></tr>\n",
              "\t<tr><th scope=row>4</th><td>required_car_parking_spaces</td><td>adults  </td><td>0.01791815</td></tr>\n",
              "\t<tr><th scope=row>5</th><td>adults                     </td><td>children</td><td>0.07210130</td></tr>\n",
              "\t<tr><th scope=row>6</th><td>children                   </td><td>children</td><td>1.00000000</td></tr>\n",
              "</tbody>\n",
              "</table>\n"
            ],
            "text/markdown": "\nA data.frame: 6 × 3\n\n| <!--/--> | Var1 &lt;fct&gt; | Var2 &lt;fct&gt; | value &lt;dbl&gt; |\n|---|---|---|---|\n| 1 | adults                      | adults   | 1.00000000 |\n| 2 | children                    | adults   | 0.07210130 |\n| 3 | babies                      | adults   | 0.02766992 |\n| 4 | required_car_parking_spaces | adults   | 0.01791815 |\n| 5 | adults                      | children | 0.07210130 |\n| 6 | children                    | children | 1.00000000 |\n\n",
            "text/latex": "A data.frame: 6 × 3\n\\begin{tabular}{r|lll}\n  & Var1 & Var2 & value\\\\\n  & <fct> & <fct> & <dbl>\\\\\n\\hline\n\t1 & adults                      & adults   & 1.00000000\\\\\n\t2 & children                    & adults   & 0.07210130\\\\\n\t3 & babies                      & adults   & 0.02766992\\\\\n\t4 & required\\_car\\_parking\\_spaces & adults   & 0.01791815\\\\\n\t5 & adults                      & children & 0.07210130\\\\\n\t6 & children                    & children & 1.00000000\\\\\n\\end{tabular}\n",
            "text/plain": [
              "  Var1                        Var2     value     \n",
              "1 adults                      adults   1.00000000\n",
              "2 children                    adults   0.07210130\n",
              "3 babies                      adults   0.02766992\n",
              "4 required_car_parking_spaces adults   0.01791815\n",
              "5 adults                      children 0.07210130\n",
              "6 children                    children 1.00000000"
            ]
          },
          "metadata": {}
        }
      ]
    },
    {
      "cell_type": "code",
      "source": [
        "# Plot the heatmap\n",
        "ggplot(corr_df, aes(Var1, Var2, fill = value)) + \n",
        "  geom_tile(color = \"black\") + \n",
        "  geom_text(\n",
        "    aes(label = round(value, 2)), \n",
        "    color = \"white\"\n",
        "  ) +\n",
        "  coord_fixed() + \n",
        "  labs(\n",
        "    fill=\"booking Correlation\"\n",
        "  ) +\n",
        "  scale_fill_gradient2(\n",
        "    low = \"blue\", \n",
        "    high = \"red\",\n",
        "    mid = \"white\", \n",
        "    limit = c(-1,1)\n",
        "  ) + \n",
        "  theme(\n",
        "    axis.title.x = element_blank(),\n",
        "    axis.title.y = element_blank()\n",
        "  )"
      ],
      "metadata": {
        "colab": {
          "base_uri": "https://localhost:8080/",
          "height": 437
        },
        "id": "ewUWqqc9As3k",
        "outputId": "3239fcc0-3f28-4ce3-eda7-ae77915bf38e"
      },
      "execution_count": 28,
      "outputs": [
        {
          "output_type": "display_data",
          "data": {
            "text/plain": [
              "plot without title"
            ],
            "image/png": "[encoded data removed]"
          },
          "metadata": {
            "image/png": {
              "width": 420,
              "height": 420
            }
          }
        }
      ]
    },
    {
      "cell_type": "markdown",
      "source": [
        "* Children were related to adults most while parking were least related"
      ],
      "metadata": {
        "id": "aU5NlldIAvPl"
      }
    },
    {
      "cell_type": "code",
      "source": [
        "# Dropping company column because it has alot of missing values \n",
        "# and we won't need to answer any of our questions\n",
        "# ---\n",
        "# YOUR CODE GOES BELOW\n",
        "#\n",
        "\n",
        "hotel_booking_df = select(hotel_booking_df, -c(\"company\"))\n",
        "head(hotel_booking_df)\n"
      ],
      "metadata": {
        "colab": {
          "base_uri": "https://localhost:8080/",
          "height": 410
        },
        "id": "XvaP9n2kA0Bj",
        "outputId": "b64ec3b8-43c0-4514-ad87-f359c8e297b3"
      },
      "execution_count": 29,
      "outputs": [
        {
          "output_type": "display_data",
          "data": {
            "text/html": [
              "<table class=\"dataframe\">\n",
              "<caption>A data.frame: 6 × 31</caption>\n",
              "<thead>\n",
              "\t<tr><th></th><th scope=col>hotel</th><th scope=col>is_canceled</th><th scope=col>lead_time</th><th scope=col>arrival_date_year</th><th scope=col>arrival_date_month</th><th scope=col>arrival_date_week_number</th><th scope=col>arrival_date_day_of_month</th><th scope=col>stays_in_weekend_nights</th><th scope=col>stays_in_week_nights</th><th scope=col>adults</th><th scope=col>⋯</th><th scope=col>booking_changes</th><th scope=col>deposit_type</th><th scope=col>agent</th><th scope=col>days_in_waiting_list</th><th scope=col>customer_type</th><th scope=col>adr</th><th scope=col>required_car_parking_spaces</th><th scope=col>total_of_special_requests</th><th scope=col>reservation_status</th><th scope=col>reservation_status_date</th></tr>\n",
              "\t<tr><th></th><th scope=col>&lt;chr&gt;</th><th scope=col>&lt;int&gt;</th><th scope=col>&lt;int&gt;</th><th scope=col>&lt;int&gt;</th><th scope=col>&lt;chr&gt;</th><th scope=col>&lt;int&gt;</th><th scope=col>&lt;int&gt;</th><th scope=col>&lt;int&gt;</th><th scope=col>&lt;int&gt;</th><th scope=col>&lt;int&gt;</th><th scope=col>⋯</th><th scope=col>&lt;int&gt;</th><th scope=col>&lt;chr&gt;</th><th scope=col>&lt;chr&gt;</th><th scope=col>&lt;int&gt;</th><th scope=col>&lt;chr&gt;</th><th scope=col>&lt;dbl&gt;</th><th scope=col>&lt;int&gt;</th><th scope=col>&lt;int&gt;</th><th scope=col>&lt;chr&gt;</th><th scope=col>&lt;chr&gt;</th></tr>\n",
              "</thead>\n",
              "<tbody>\n",
              "\t<tr><th scope=row>1</th><td>Resort Hotel</td><td>0</td><td>342</td><td>2015</td><td>July</td><td>27</td><td>1</td><td>0</td><td>0</td><td>2</td><td>⋯</td><td>3</td><td>No Deposit</td><td>NULL</td><td>0</td><td>Transient</td><td> 0</td><td>0</td><td>0</td><td>Check-Out</td><td>2015-07-01</td></tr>\n",
              "\t<tr><th scope=row>2</th><td>Resort Hotel</td><td>0</td><td>737</td><td>2015</td><td>July</td><td>27</td><td>1</td><td>0</td><td>0</td><td>2</td><td>⋯</td><td>4</td><td>No Deposit</td><td>NULL</td><td>0</td><td>Transient</td><td> 0</td><td>0</td><td>0</td><td>Check-Out</td><td>2015-07-01</td></tr>\n",
              "\t<tr><th scope=row>3</th><td>Resort Hotel</td><td>0</td><td>  7</td><td>2015</td><td>July</td><td>27</td><td>1</td><td>0</td><td>1</td><td>1</td><td>⋯</td><td>0</td><td>No Deposit</td><td>NULL</td><td>0</td><td>Transient</td><td>75</td><td>0</td><td>0</td><td>Check-Out</td><td>2015-07-02</td></tr>\n",
              "\t<tr><th scope=row>4</th><td>Resort Hotel</td><td>0</td><td> 13</td><td>2015</td><td>July</td><td>27</td><td>1</td><td>0</td><td>1</td><td>1</td><td>⋯</td><td>0</td><td>No Deposit</td><td>304 </td><td>0</td><td>Transient</td><td>75</td><td>0</td><td>0</td><td>Check-Out</td><td>2015-07-02</td></tr>\n",
              "\t<tr><th scope=row>5</th><td>Resort Hotel</td><td>0</td><td> 14</td><td>2015</td><td>July</td><td>27</td><td>1</td><td>0</td><td>2</td><td>2</td><td>⋯</td><td>0</td><td>No Deposit</td><td>240 </td><td>0</td><td>Transient</td><td>98</td><td>0</td><td>1</td><td>Check-Out</td><td>2015-07-03</td></tr>\n",
              "\t<tr><th scope=row>6</th><td>Resort Hotel</td><td>0</td><td> 14</td><td>2015</td><td>July</td><td>27</td><td>1</td><td>0</td><td>2</td><td>2</td><td>⋯</td><td>0</td><td>No Deposit</td><td>240 </td><td>0</td><td>Transient</td><td>98</td><td>0</td><td>1</td><td>Check-Out</td><td>2015-07-03</td></tr>\n",
              "</tbody>\n",
              "</table>\n"
            ],
            "text/markdown": "\nA data.frame: 6 × 31\n\n| <!--/--> | hotel &lt;chr&gt; | is_canceled &lt;int&gt; | lead_time &lt;int&gt; | arrival_date_year &lt;int&gt; | arrival_date_month &lt;chr&gt; | arrival_date_week_number &lt;int&gt; | arrival_date_day_of_month &lt;int&gt; | stays_in_weekend_nights &lt;int&gt; | stays_in_week_nights &lt;int&gt; | adults &lt;int&gt; | ⋯ ⋯ | booking_changes &lt;int&gt; | deposit_type &lt;chr&gt; | agent &lt;chr&gt; | days_in_waiting_list &lt;int&gt; | customer_type &lt;chr&gt; | adr &lt;dbl&gt; | required_car_parking_spaces &lt;int&gt; | total_of_special_requests &lt;int&gt; | reservation_status &lt;chr&gt; | reservation_status_date &lt;chr&gt; |\n|---|---|---|---|---|---|---|---|---|---|---|---|---|---|---|---|---|---|---|---|---|---|\n| 1 | Resort Hotel | 0 | 342 | 2015 | July | 27 | 1 | 0 | 0 | 2 | ⋯ | 3 | No Deposit | NULL | 0 | Transient |  0 | 0 | 0 | Check-Out | 2015-07-01 |\n| 2 | Resort Hotel | 0 | 737 | 2015 | July | 27 | 1 | 0 | 0 | 2 | ⋯ | 4 | No Deposit | NULL | 0 | Transient |  0 | 0 | 0 | Check-Out | 2015-07-01 |\n| 3 | Resort Hotel | 0 |   7 | 2015 | July | 27 | 1 | 0 | 1 | 1 | ⋯ | 0 | No Deposit | NULL | 0 | Transient | 75 | 0 | 0 | Check-Out | 2015-07-02 |\n| 4 | Resort Hotel | 0 |  13 | 2015 | July | 27 | 1 | 0 | 1 | 1 | ⋯ | 0 | No Deposit | 304  | 0 | Transient | 75 | 0 | 0 | Check-Out | 2015-07-02 |\n| 5 | Resort Hotel | 0 |  14 | 2015 | July | 27 | 1 | 0 | 2 | 2 | ⋯ | 0 | No Deposit | 240  | 0 | Transient | 98 | 0 | 1 | Check-Out | 2015-07-03 |\n| 6 | Resort Hotel | 0 |  14 | 2015 | July | 27 | 1 | 0 | 2 | 2 | ⋯ | 0 | No Deposit | 240  | 0 | Transient | 98 | 0 | 1 | Check-Out | 2015-07-03 |\n\n",
            "text/latex": "A data.frame: 6 × 31\n\\begin{tabular}{r|lllllllllllllllllllll}\n  & hotel & is\\_canceled & lead\\_time & arrival\\_date\\_year & arrival\\_date\\_month & arrival\\_date\\_week\\_number & arrival\\_date\\_day\\_of\\_month & stays\\_in\\_weekend\\_nights & stays\\_in\\_week\\_nights & adults & ⋯ & booking\\_changes & deposit\\_type & agent & days\\_in\\_waiting\\_list & customer\\_type & adr & required\\_car\\_parking\\_spaces & total\\_of\\_special\\_requests & reservation\\_status & reservation\\_status\\_date\\\\\n  & <chr> & <int> & <int> & <int> & <chr> & <int> & <int> & <int> & <int> & <int> & ⋯ & <int> & <chr> & <chr> & <int> & <chr> & <dbl> & <int> & <int> & <chr> & <chr>\\\\\n\\hline\n\t1 & Resort Hotel & 0 & 342 & 2015 & July & 27 & 1 & 0 & 0 & 2 & ⋯ & 3 & No Deposit & NULL & 0 & Transient &  0 & 0 & 0 & Check-Out & 2015-07-01\\\\\n\t2 & Resort Hotel & 0 & 737 & 2015 & July & 27 & 1 & 0 & 0 & 2 & ⋯ & 4 & No Deposit & NULL & 0 & Transient &  0 & 0 & 0 & Check-Out & 2015-07-01\\\\\n\t3 & Resort Hotel & 0 &   7 & 2015 & July & 27 & 1 & 0 & 1 & 1 & ⋯ & 0 & No Deposit & NULL & 0 & Transient & 75 & 0 & 0 & Check-Out & 2015-07-02\\\\\n\t4 & Resort Hotel & 0 &  13 & 2015 & July & 27 & 1 & 0 & 1 & 1 & ⋯ & 0 & No Deposit & 304  & 0 & Transient & 75 & 0 & 0 & Check-Out & 2015-07-02\\\\\n\t5 & Resort Hotel & 0 &  14 & 2015 & July & 27 & 1 & 0 & 2 & 2 & ⋯ & 0 & No Deposit & 240  & 0 & Transient & 98 & 0 & 1 & Check-Out & 2015-07-03\\\\\n\t6 & Resort Hotel & 0 &  14 & 2015 & July & 27 & 1 & 0 & 2 & 2 & ⋯ & 0 & No Deposit & 240  & 0 & Transient & 98 & 0 & 1 & Check-Out & 2015-07-03\\\\\n\\end{tabular}\n",
            "text/plain": [
              "  hotel        is_canceled lead_time arrival_date_year arrival_date_month\n",
              "1 Resort Hotel 0           342       2015              July              \n",
              "2 Resort Hotel 0           737       2015              July              \n",
              "3 Resort Hotel 0             7       2015              July              \n",
              "4 Resort Hotel 0            13       2015              July              \n",
              "5 Resort Hotel 0            14       2015              July              \n",
              "6 Resort Hotel 0            14       2015              July              \n",
              "  arrival_date_week_number arrival_date_day_of_month stays_in_weekend_nights\n",
              "1 27                       1                         0                      \n",
              "2 27                       1                         0                      \n",
              "3 27                       1                         0                      \n",
              "4 27                       1                         0                      \n",
              "5 27                       1                         0                      \n",
              "6 27                       1                         0                      \n",
              "  stays_in_week_nights adults ⋯ booking_changes deposit_type agent\n",
              "1 0                    2      ⋯ 3               No Deposit   NULL \n",
              "2 0                    2      ⋯ 4               No Deposit   NULL \n",
              "3 1                    1      ⋯ 0               No Deposit   NULL \n",
              "4 1                    1      ⋯ 0               No Deposit   304  \n",
              "5 2                    2      ⋯ 0               No Deposit   240  \n",
              "6 2                    2      ⋯ 0               No Deposit   240  \n",
              "  days_in_waiting_list customer_type adr required_car_parking_spaces\n",
              "1 0                    Transient      0  0                          \n",
              "2 0                    Transient      0  0                          \n",
              "3 0                    Transient     75  0                          \n",
              "4 0                    Transient     75  0                          \n",
              "5 0                    Transient     98  0                          \n",
              "6 0                    Transient     98  0                          \n",
              "  total_of_special_requests reservation_status reservation_status_date\n",
              "1 0                         Check-Out          2015-07-01             \n",
              "2 0                         Check-Out          2015-07-01             \n",
              "3 0                         Check-Out          2015-07-02             \n",
              "4 0                         Check-Out          2015-07-02             \n",
              "5 1                         Check-Out          2015-07-03             \n",
              "6 1                         Check-Out          2015-07-03             "
            ]
          },
          "metadata": {}
        }
      ]
    },
    {
      "cell_type": "markdown",
      "source": [
        "From the data variable description we see that the Distribution Channel category that tells us about Booking distribution.\n",
        "\n",
        "* The term “TA” means “Travel Agents”\n",
        "* The term “TO” means “Tour Operators”\n",
        "* This allows us to fill the missing values in the agents column with TO"
      ],
      "metadata": {
        "id": "zWSGQBOSBBKE"
      }
    },
    {
      "cell_type": "code",
      "source": [
        "# We drop rows where there is no adult, baby and child as \n",
        "# these records won't help us.\n",
        "# ---\n",
        "# YOUR GOES BELOW\n",
        "# get a new data set comprising of sum of adult, baby and child\n",
        "\n",
        "total <- c( hotel_booking_df$adults + hotel_booking_df$children+hotel_booking_df$babies)\n",
        "\n",
        "# filter out the records where there we no adults, baby or child\n",
        "\n",
        "hotel_booking_clean_df<-subset(hotel_booking_df, total!= 0)\n",
        "dim(hotel_booking_clean_df)\n",
        "dim(hotel_booking_df)"
      ],
      "metadata": {
        "colab": {
          "base_uri": "https://localhost:8080/",
          "height": 52
        },
        "id": "8nOx4MNQBKx1",
        "outputId": "43a7fa28-aaba-4328-c0e2-8caddc0ed386"
      },
      "execution_count": 31,
      "outputs": [
        {
          "output_type": "display_data",
          "data": {
            "text/html": [
              "<style>\n",
              ".list-inline {list-style: none; margin:0; padding: 0}\n",
              ".list-inline>li {display: inline-block}\n",
              ".list-inline>li:not(:last-child)::after {content: \"\\00b7\"; padding: 0 .5ex}\n",
              "</style>\n",
              "<ol class=list-inline><li>119206</li><li>31</li></ol>\n"
            ],
            "text/markdown": "1. 119206\n2. 31\n\n\n",
            "text/latex": "\\begin{enumerate*}\n\\item 119206\n\\item 31\n\\end{enumerate*}\n",
            "text/plain": [
              "[1] 119206     31"
            ]
          },
          "metadata": {}
        },
        {
          "output_type": "display_data",
          "data": {
            "text/html": [
              "<style>\n",
              ".list-inline {list-style: none; margin:0; padding: 0}\n",
              ".list-inline>li {display: inline-block}\n",
              ".list-inline>li:not(:last-child)::after {content: \"\\00b7\"; padding: 0 .5ex}\n",
              "</style>\n",
              "<ol class=list-inline><li>119390</li><li>31</li></ol>\n"
            ],
            "text/markdown": "1. 119390\n2. 31\n\n\n",
            "text/latex": "\\begin{enumerate*}\n\\item 119390\n\\item 31\n\\end{enumerate*}\n",
            "text/plain": [
              "[1] 119390     31"
            ]
          },
          "metadata": {}
        }
      ]
    },
    {
      "cell_type": "code",
      "source": [
        "# We replace missing children values with rounded mean value\n",
        "# ---\n",
        "# Hint i.e. use round()\n",
        "# ---\n",
        "# YOUR GOES BELOW\n",
        "#\n",
        "\n",
        "\n",
        "\n",
        "hotel_booking_clean_df$children[is.na(hotel_booking_clean_df$children)] <- mean(hotel_booking_clean_df$children, na.rm = TRUE)\n"
      ],
      "metadata": {
        "id": "MPgPhLYDBRF3"
      },
      "execution_count": 32,
      "outputs": []
    },
    {
      "cell_type": "code",
      "source": [
        "# Checking for missing values in the dataframe\n",
        "# ---\n",
        "# YOUR GOES BELOW\n",
        "#\n",
        "colSums(is.na(hotel_booking_clean_df))"
      ],
      "metadata": {
        "colab": {
          "base_uri": "https://localhost:8080/",
          "height": 104
        },
        "id": "-0KEgNLNBU5f",
        "outputId": "6adb4f65-f113-4b42-9689-3e939d5ff11e"
      },
      "execution_count": 33,
      "outputs": [
        {
          "output_type": "display_data",
          "data": {
            "text/html": [
              "<style>\n",
              ".dl-inline {width: auto; margin:0; padding: 0}\n",
              ".dl-inline>dt, .dl-inline>dd {float: none; width: auto; display: inline-block}\n",
              ".dl-inline>dt::after {content: \":\\0020\"; padding-right: .5ex}\n",
              ".dl-inline>dt:not(:first-of-type) {padding-left: .5ex}\n",
              "</style><dl class=dl-inline><dt>hotel</dt><dd>0</dd><dt>is_canceled</dt><dd>0</dd><dt>lead_time</dt><dd>0</dd><dt>arrival_date_year</dt><dd>0</dd><dt>arrival_date_month</dt><dd>0</dd><dt>arrival_date_week_number</dt><dd>0</dd><dt>arrival_date_day_of_month</dt><dd>0</dd><dt>stays_in_weekend_nights</dt><dd>0</dd><dt>stays_in_week_nights</dt><dd>0</dd><dt>adults</dt><dd>0</dd><dt>children</dt><dd>0</dd><dt>babies</dt><dd>0</dd><dt>meal</dt><dd>0</dd><dt>country</dt><dd>0</dd><dt>market_segment</dt><dd>0</dd><dt>distribution_channel</dt><dd>0</dd><dt>is_repeated_guest</dt><dd>0</dd><dt>previous_cancellations</dt><dd>0</dd><dt>previous_bookings_not_canceled</dt><dd>0</dd><dt>reserved_room_type</dt><dd>0</dd><dt>assigned_room_type</dt><dd>0</dd><dt>booking_changes</dt><dd>0</dd><dt>deposit_type</dt><dd>0</dd><dt>agent</dt><dd>0</dd><dt>days_in_waiting_list</dt><dd>0</dd><dt>customer_type</dt><dd>0</dd><dt>adr</dt><dd>0</dd><dt>required_car_parking_spaces</dt><dd>0</dd><dt>total_of_special_requests</dt><dd>0</dd><dt>reservation_status</dt><dd>0</dd><dt>reservation_status_date</dt><dd>0</dd></dl>\n"
            ],
            "text/markdown": "hotel\n:   0is_canceled\n:   0lead_time\n:   0arrival_date_year\n:   0arrival_date_month\n:   0arrival_date_week_number\n:   0arrival_date_day_of_month\n:   0stays_in_weekend_nights\n:   0stays_in_week_nights\n:   0adults\n:   0children\n:   0babies\n:   0meal\n:   0country\n:   0market_segment\n:   0distribution_channel\n:   0is_repeated_guest\n:   0previous_cancellations\n:   0previous_bookings_not_canceled\n:   0reserved_room_type\n:   0assigned_room_type\n:   0booking_changes\n:   0deposit_type\n:   0agent\n:   0days_in_waiting_list\n:   0customer_type\n:   0adr\n:   0required_car_parking_spaces\n:   0total_of_special_requests\n:   0reservation_status\n:   0reservation_status_date\n:   0\n\n",
            "text/latex": "\\begin{description*}\n\\item[hotel] 0\n\\item[is\\textbackslash{}\\_canceled] 0\n\\item[lead\\textbackslash{}\\_time] 0\n\\item[arrival\\textbackslash{}\\_date\\textbackslash{}\\_year] 0\n\\item[arrival\\textbackslash{}\\_date\\textbackslash{}\\_month] 0\n\\item[arrival\\textbackslash{}\\_date\\textbackslash{}\\_week\\textbackslash{}\\_number] 0\n\\item[arrival\\textbackslash{}\\_date\\textbackslash{}\\_day\\textbackslash{}\\_of\\textbackslash{}\\_month] 0\n\\item[stays\\textbackslash{}\\_in\\textbackslash{}\\_weekend\\textbackslash{}\\_nights] 0\n\\item[stays\\textbackslash{}\\_in\\textbackslash{}\\_week\\textbackslash{}\\_nights] 0\n\\item[adults] 0\n\\item[children] 0\n\\item[babies] 0\n\\item[meal] 0\n\\item[country] 0\n\\item[market\\textbackslash{}\\_segment] 0\n\\item[distribution\\textbackslash{}\\_channel] 0\n\\item[is\\textbackslash{}\\_repeated\\textbackslash{}\\_guest] 0\n\\item[previous\\textbackslash{}\\_cancellations] 0\n\\item[previous\\textbackslash{}\\_bookings\\textbackslash{}\\_not\\textbackslash{}\\_canceled] 0\n\\item[reserved\\textbackslash{}\\_room\\textbackslash{}\\_type] 0\n\\item[assigned\\textbackslash{}\\_room\\textbackslash{}\\_type] 0\n\\item[booking\\textbackslash{}\\_changes] 0\n\\item[deposit\\textbackslash{}\\_type] 0\n\\item[agent] 0\n\\item[days\\textbackslash{}\\_in\\textbackslash{}\\_waiting\\textbackslash{}\\_list] 0\n\\item[customer\\textbackslash{}\\_type] 0\n\\item[adr] 0\n\\item[required\\textbackslash{}\\_car\\textbackslash{}\\_parking\\textbackslash{}\\_spaces] 0\n\\item[total\\textbackslash{}\\_of\\textbackslash{}\\_special\\textbackslash{}\\_requests] 0\n\\item[reservation\\textbackslash{}\\_status] 0\n\\item[reservation\\textbackslash{}\\_status\\textbackslash{}\\_date] 0\n\\end{description*}\n",
            "text/plain": [
              "                         hotel                    is_canceled \n",
              "                             0                              0 \n",
              "                     lead_time              arrival_date_year \n",
              "                             0                              0 \n",
              "            arrival_date_month       arrival_date_week_number \n",
              "                             0                              0 \n",
              "     arrival_date_day_of_month        stays_in_weekend_nights \n",
              "                             0                              0 \n",
              "          stays_in_week_nights                         adults \n",
              "                             0                              0 \n",
              "                      children                         babies \n",
              "                             0                              0 \n",
              "                          meal                        country \n",
              "                             0                              0 \n",
              "                market_segment           distribution_channel \n",
              "                             0                              0 \n",
              "             is_repeated_guest         previous_cancellations \n",
              "                             0                              0 \n",
              "previous_bookings_not_canceled             reserved_room_type \n",
              "                             0                              0 \n",
              "            assigned_room_type                booking_changes \n",
              "                             0                              0 \n",
              "                  deposit_type                          agent \n",
              "                             0                              0 \n",
              "          days_in_waiting_list                  customer_type \n",
              "                             0                              0 \n",
              "                           adr    required_car_parking_spaces \n",
              "                             0                              0 \n",
              "     total_of_special_requests             reservation_status \n",
              "                             0                              0 \n",
              "       reservation_status_date \n",
              "                             0 "
            ]
          },
          "metadata": {}
        }
      ]
    },
    {
      "cell_type": "code",
      "source": [
        "# Converting the datatypes of the following columns from float to integer\n",
        "# i.e. children, company, agent\n",
        "# ---\n",
        "# YOUR GOES BELOW\n",
        "#\n",
        "hotel_booking_clean_df$children <- as.integer(hotel_booking_clean_df$children)\n",
        "hotel_booking_clean_df$agent <- as.integer(hotel_booking_clean_df$agent)\n",
        "\n",
        "\n",
        "glimpse( hotel_booking_clean_df)"
      ],
      "metadata": {
        "colab": {
          "base_uri": "https://localhost:8080/"
        },
        "id": "uZ2xY50bBXXK",
        "outputId": "416eb717-a1ce-4b90-9133-f3430a1a5ad0"
      },
      "execution_count": 34,
      "outputs": [
        {
          "output_type": "stream",
          "name": "stderr",
          "text": [
            "Warning message in eval(expr, envir, enclos):\n",
            "“NAs introduced by coercion”\n"
          ]
        },
        {
          "output_type": "stream",
          "name": "stdout",
          "text": [
            "Rows: 119,206\n",
            "Columns: 31\n",
            "$ hotel                          \u001b[3m\u001b[90m<chr>\u001b[39m\u001b[23m \"Resort Hotel\", \"Resort Hotel\", \"Resort…\n",
            "$ is_canceled                    \u001b[3m\u001b[90m<int>\u001b[39m\u001b[23m 0, 0, 0, 0, 0, 0, 0, 0, 1, 1, 1, 0, 0, …\n",
            "$ lead_time                      \u001b[3m\u001b[90m<int>\u001b[39m\u001b[23m 342, 737, 7, 13, 14, 14, 0, 9, 85, 75, …\n",
            "$ arrival_date_year              \u001b[3m\u001b[90m<int>\u001b[39m\u001b[23m 2015, 2015, 2015, 2015, 2015, 2015, 201…\n",
            "$ arrival_date_month             \u001b[3m\u001b[90m<chr>\u001b[39m\u001b[23m \"July\", \"July\", \"July\", \"July\", \"July\",…\n",
            "$ arrival_date_week_number       \u001b[3m\u001b[90m<int>\u001b[39m\u001b[23m 27, 27, 27, 27, 27, 27, 27, 27, 27, 27,…\n",
            "$ arrival_date_day_of_month      \u001b[3m\u001b[90m<int>\u001b[39m\u001b[23m 1, 1, 1, 1, 1, 1, 1, 1, 1, 1, 1, 1, 1, …\n",
            "$ stays_in_weekend_nights        \u001b[3m\u001b[90m<int>\u001b[39m\u001b[23m 0, 0, 0, 0, 0, 0, 0, 0, 0, 0, 0, 0, 0, …\n",
            "$ stays_in_week_nights           \u001b[3m\u001b[90m<int>\u001b[39m\u001b[23m 0, 0, 1, 1, 2, 2, 2, 2, 3, 3, 4, 4, 4, …\n",
            "$ adults                         \u001b[3m\u001b[90m<int>\u001b[39m\u001b[23m 2, 2, 1, 1, 2, 2, 2, 2, 2, 2, 2, 2, 2, …\n",
            "$ children                       \u001b[3m\u001b[90m<int>\u001b[39m\u001b[23m 0, 0, 0, 0, 0, 0, 0, 0, 0, 0, 0, 0, 0, …\n",
            "$ babies                         \u001b[3m\u001b[90m<int>\u001b[39m\u001b[23m 0, 0, 0, 0, 0, 0, 0, 0, 0, 0, 0, 0, 0, …\n",
            "$ meal                           \u001b[3m\u001b[90m<chr>\u001b[39m\u001b[23m \"BB\", \"BB\", \"BB\", \"BB\", \"BB\", \"BB\", \"BB…\n",
            "$ country                        \u001b[3m\u001b[90m<chr>\u001b[39m\u001b[23m \"PRT\", \"PRT\", \"GBR\", \"GBR\", \"GBR\", \"GBR…\n",
            "$ market_segment                 \u001b[3m\u001b[90m<chr>\u001b[39m\u001b[23m \"Direct\", \"Direct\", \"Direct\", \"Corporat…\n",
            "$ distribution_channel           \u001b[3m\u001b[90m<chr>\u001b[39m\u001b[23m \"Direct\", \"Direct\", \"Direct\", \"Corporat…\n",
            "$ is_repeated_guest              \u001b[3m\u001b[90m<int>\u001b[39m\u001b[23m 0, 0, 0, 0, 0, 0, 0, 0, 0, 0, 0, 0, 0, …\n",
            "$ previous_cancellations         \u001b[3m\u001b[90m<int>\u001b[39m\u001b[23m 0, 0, 0, 0, 0, 0, 0, 0, 0, 0, 0, 0, 0, …\n",
            "$ previous_bookings_not_canceled \u001b[3m\u001b[90m<int>\u001b[39m\u001b[23m 0, 0, 0, 0, 0, 0, 0, 0, 0, 0, 0, 0, 0, …\n",
            "$ reserved_room_type             \u001b[3m\u001b[90m<chr>\u001b[39m\u001b[23m \"C\", \"C\", \"A\", \"A\", \"A\", \"A\", \"C\", \"C\",…\n",
            "$ assigned_room_type             \u001b[3m\u001b[90m<chr>\u001b[39m\u001b[23m \"C\", \"C\", \"C\", \"A\", \"A\", \"A\", \"C\", \"C\",…\n",
            "$ booking_changes                \u001b[3m\u001b[90m<int>\u001b[39m\u001b[23m 3, 4, 0, 0, 0, 0, 0, 0, 0, 0, 0, 0, 0, …\n",
            "$ deposit_type                   \u001b[3m\u001b[90m<chr>\u001b[39m\u001b[23m \"No Deposit\", \"No Deposit\", \"No Deposit…\n",
            "$ agent                          \u001b[3m\u001b[90m<int>\u001b[39m\u001b[23m NA, NA, NA, 304, 240, 240, NA, 303, 240…\n",
            "$ days_in_waiting_list           \u001b[3m\u001b[90m<int>\u001b[39m\u001b[23m 0, 0, 0, 0, 0, 0, 0, 0, 0, 0, 0, 0, 0, …\n",
            "$ customer_type                  \u001b[3m\u001b[90m<chr>\u001b[39m\u001b[23m \"Transient\", \"Transient\", \"Transient\", …\n",
            "$ adr                            \u001b[3m\u001b[90m<dbl>\u001b[39m\u001b[23m 0.00, 0.00, 75.00, 75.00, 98.00, 98.00,…\n",
            "$ required_car_parking_spaces    \u001b[3m\u001b[90m<int>\u001b[39m\u001b[23m 0, 0, 0, 0, 0, 0, 0, 0, 0, 0, 0, 0, 0, …\n",
            "$ total_of_special_requests      \u001b[3m\u001b[90m<int>\u001b[39m\u001b[23m 0, 0, 0, 0, 1, 1, 0, 1, 1, 0, 0, 0, 3, …\n",
            "$ reservation_status             \u001b[3m\u001b[90m<chr>\u001b[39m\u001b[23m \"Check-Out\", \"Check-Out\", \"Check-Out\", …\n",
            "$ reservation_status_date        \u001b[3m\u001b[90m<chr>\u001b[39m\u001b[23m \"2015-07-01\", \"2015-07-01\", \"2015-07-02…\n"
          ]
        }
      ]
    },
    {
      "cell_type": "markdown",
      "source": [],
      "metadata": {
        "id": "pVjuFzeEBgz1"
      }
    },
    {
      "cell_type": "markdown",
      "source": [
        "## 5. Solution Implementation\n"
      ],
      "metadata": {
        "id": "m657y4nNBa9P"
      }
    },
    {
      "cell_type": "markdown",
      "source": [
        "### 5.a) Questions"
      ],
      "metadata": {
        "id": "xlYSjI0GBfbP"
      }
    },
    {
      "cell_type": "code",
      "source": [
        "# 1. How many bookings were cancelled?\n",
        "# ---\n",
        "# Visualisation: Barplot\n",
        "\n",
        "\n",
        "#hotel_booking_clean_df %>% \n",
        " # group_by(hotel) %>%\n",
        "  #summarize(canceled_booking = sum(is_canceled))\n",
        "cancelation_ratio_df <- hotel_booking_clean_df %>% \n",
        "   group_by(hotel) %>%\n",
        "  summarise(n = n()) %>%\n",
        "  mutate(is_canceled = (n/sum(n))*100)\n",
        "\n",
        "cancelation_ratio_df"
      ],
      "metadata": {
        "colab": {
          "base_uri": "https://localhost:8080/",
          "height": 161
        },
        "id": "OM9-earLBnD9",
        "outputId": "aa6df8ec-e7f4-4ca8-c268-612ae5471e25"
      },
      "execution_count": 35,
      "outputs": [
        {
          "output_type": "display_data",
          "data": {
            "text/html": [
              "<table class=\"dataframe\">\n",
              "<caption>A tibble: 2 × 3</caption>\n",
              "<thead>\n",
              "\t<tr><th scope=col>hotel</th><th scope=col>n</th><th scope=col>is_canceled</th></tr>\n",
              "\t<tr><th scope=col>&lt;chr&gt;</th><th scope=col>&lt;int&gt;</th><th scope=col>&lt;dbl&gt;</th></tr>\n",
              "</thead>\n",
              "<tbody>\n",
              "\t<tr><td>City Hotel  </td><td>79159</td><td>66.40521</td></tr>\n",
              "\t<tr><td>Resort Hotel</td><td>40047</td><td>33.59479</td></tr>\n",
              "</tbody>\n",
              "</table>\n"
            ],
            "text/markdown": "\nA tibble: 2 × 3\n\n| hotel &lt;chr&gt; | n &lt;int&gt; | is_canceled &lt;dbl&gt; |\n|---|---|---|\n| City Hotel   | 79159 | 66.40521 |\n| Resort Hotel | 40047 | 33.59479 |\n\n",
            "text/latex": "A tibble: 2 × 3\n\\begin{tabular}{lll}\n hotel & n & is\\_canceled\\\\\n <chr> & <int> & <dbl>\\\\\n\\hline\n\t City Hotel   & 79159 & 66.40521\\\\\n\t Resort Hotel & 40047 & 33.59479\\\\\n\\end{tabular}\n",
            "text/plain": [
              "  hotel        n     is_canceled\n",
              "1 City Hotel   79159 66.40521   \n",
              "2 Resort Hotel 40047 33.59479   "
            ]
          },
          "metadata": {}
        }
      ]
    },
    {
      "cell_type": "code",
      "source": [
        "# Plotting the chart\n",
        "ggplot(cancelation_ratio_df, aes(x = hotel, y = is_canceled)) +\n",
        "  geom_col(\n",
        "    stat=\"identity\", width=0.5, fill = \"#0099f9\"\n",
        "  ) +\n",
        "  labs(\n",
        "    title = \"The Ratio of cancelation per hotel\", \n",
        "    x = \"hotel\", \n",
        "    y = \"cancelation_ratio\"\n",
        "  ) +\n",
        "  theme(\n",
        "    plot.title = element_text(hjust = 0.5, size=16, family=\"Times New Roman\"), \n",
        "    axis.text.x = element_text(angle = 45, hjust = 1)\n",
        "  )"
      ],
      "metadata": {
        "colab": {
          "base_uri": "https://localhost:8080/",
          "height": 472
        },
        "id": "PUH-JQzVBpu5",
        "outputId": "bfbe7060-1220-4151-9e88-eedcb762ee91"
      },
      "execution_count": 36,
      "outputs": [
        {
          "output_type": "stream",
          "name": "stderr",
          "text": [
            "Warning message in geom_col(stat = \"identity\", width = 0.5, fill = \"#0099f9\"):\n",
            "“\u001b[1m\u001b[22mIgnoring unknown parameters: `stat`”\n"
          ]
        },
        {
          "output_type": "display_data",
          "data": {
            "text/plain": [
              "plot without title"
            ],
            "image/png": "[encoded data removed]"
          },
          "metadata": {
            "image/png": {
              "width": 420,
              "height": 420
            }
          }
        }
      ]
    },
    {
      "cell_type": "code",
      "source": [
        "# 2. What was the booking ratio between resort hotel and city hotel?\n",
        "# ---\n",
        "# Barplot of booking ratio between resort hotel and city hotel\n",
        "\n",
        "booking_ratio_df <- hotel_booking_clean_df %>% \n",
        "   group_by(hotel) %>%\n",
        "  summarise(n = n()) %>%\n",
        "  mutate(booking_ratio = n/sum(n))\n",
        "\n",
        "dim(booking_ratio_df)\n",
        " "
      ],
      "metadata": {
        "colab": {
          "base_uri": "https://localhost:8080/",
          "height": 34
        },
        "id": "tWyASjG2BtCF",
        "outputId": "169d59e0-6df4-4219-dc05-6a4389005dcb"
      },
      "execution_count": 39,
      "outputs": [
        {
          "output_type": "display_data",
          "data": {
            "text/html": [
              "<style>\n",
              ".list-inline {list-style: none; margin:0; padding: 0}\n",
              ".list-inline>li {display: inline-block}\n",
              ".list-inline>li:not(:last-child)::after {content: \"\\00b7\"; padding: 0 .5ex}\n",
              "</style>\n",
              "<ol class=list-inline><li>2</li><li>3</li></ol>\n"
            ],
            "text/markdown": "1. 2\n2. 3\n\n\n",
            "text/latex": "\\begin{enumerate*}\n\\item 2\n\\item 3\n\\end{enumerate*}\n",
            "text/plain": [
              "[1] 2 3"
            ]
          },
          "metadata": {}
        }
      ]
    },
    {
      "cell_type": "code",
      "source": [
        "# Plotting the chart\n",
        "ggplot(booking_ratio_df, aes(x = hotel, y = booking_ratio)) +\n",
        "  geom_col(\n",
        "    stat=\"identity\", width=0.5, fill = \"#0099f9\"\n",
        "  ) +\n",
        "  labs(\n",
        "    title = \"Booking Ratio resort hotel vs city hotel\", \n",
        "    x = \"hotel\", \n",
        "    y = \"booking_ratio\"\n",
        "  ) +\n",
        "  theme(\n",
        "    plot.title = element_text(hjust = 0.5, size=16, family=\"Times New Roman\"), \n",
        "    axis.text.x = element_text(angle = 45, hjust = 1)\n",
        "  )"
      ],
      "metadata": {
        "colab": {
          "base_uri": "https://localhost:8080/",
          "height": 472
        },
        "id": "E_mu6U3SBxAw",
        "outputId": "6adb75c6-644c-4964-c283-4c9e1cea5895"
      },
      "execution_count": 40,
      "outputs": [
        {
          "output_type": "stream",
          "name": "stderr",
          "text": [
            "Warning message in geom_col(stat = \"identity\", width = 0.5, fill = \"#0099f9\"):\n",
            "“\u001b[1m\u001b[22mIgnoring unknown parameters: `stat`”\n"
          ]
        },
        {
          "output_type": "display_data",
          "data": {
            "text/plain": [
              "plot without title"
            ],
            "image/png": "[encoded data removed]"
          },
          "metadata": {
            "image/png": {
              "width": 420,
              "height": 420
            }
          }
        }
      ]
    },
    {
      "cell_type": "code",
      "source": [
        "# 3. What was the percentage of booking for each year?\n",
        "# ---\n",
        "\n",
        "yearly_booking_df <- hotel_booking_clean_df %>% \n",
        "   group_by(arrival_date_year) %>%\n",
        "  summarise(n = n()) %>%\n",
        "  mutate(percent_yearly_booking = (n/sum(n))*100)\n",
        "\n",
        "yearly_booking_df\n",
        "\n",
        "yearly_booking_df$arrival_date_year <- as.character(yearly_booking_df$arrival_date_year)\n",
        "\n",
        "yearly_booking_df"
      ],
      "metadata": {
        "colab": {
          "base_uri": "https://localhost:8080/",
          "height": 367
        },
        "id": "LOLmnMs_Bzxn",
        "outputId": "2a9b1ab5-452d-4853-aa24-0230a915121f"
      },
      "execution_count": 41,
      "outputs": [
        {
          "output_type": "display_data",
          "data": {
            "text/html": [
              "<table class=\"dataframe\">\n",
              "<caption>A tibble: 3 × 3</caption>\n",
              "<thead>\n",
              "\t<tr><th scope=col>arrival_date_year</th><th scope=col>n</th><th scope=col>percent_yearly_booking</th></tr>\n",
              "\t<tr><th scope=col>&lt;int&gt;</th><th scope=col>&lt;int&gt;</th><th scope=col>&lt;dbl&gt;</th></tr>\n",
              "</thead>\n",
              "<tbody>\n",
              "\t<tr><td>2015</td><td>21963</td><td>18.42441</td></tr>\n",
              "\t<tr><td>2016</td><td>56623</td><td>47.50013</td></tr>\n",
              "\t<tr><td>2017</td><td>40620</td><td>34.07547</td></tr>\n",
              "</tbody>\n",
              "</table>\n"
            ],
            "text/markdown": "\nA tibble: 3 × 3\n\n| arrival_date_year &lt;int&gt; | n &lt;int&gt; | percent_yearly_booking &lt;dbl&gt; |\n|---|---|---|\n| 2015 | 21963 | 18.42441 |\n| 2016 | 56623 | 47.50013 |\n| 2017 | 40620 | 34.07547 |\n\n",
            "text/latex": "A tibble: 3 × 3\n\\begin{tabular}{lll}\n arrival\\_date\\_year & n & percent\\_yearly\\_booking\\\\\n <int> & <int> & <dbl>\\\\\n\\hline\n\t 2015 & 21963 & 18.42441\\\\\n\t 2016 & 56623 & 47.50013\\\\\n\t 2017 & 40620 & 34.07547\\\\\n\\end{tabular}\n",
            "text/plain": [
              "  arrival_date_year n     percent_yearly_booking\n",
              "1 2015              21963 18.42441              \n",
              "2 2016              56623 47.50013              \n",
              "3 2017              40620 34.07547              "
            ]
          },
          "metadata": {}
        },
        {
          "output_type": "display_data",
          "data": {
            "text/html": [
              "<table class=\"dataframe\">\n",
              "<caption>A tibble: 3 × 3</caption>\n",
              "<thead>\n",
              "\t<tr><th scope=col>arrival_date_year</th><th scope=col>n</th><th scope=col>percent_yearly_booking</th></tr>\n",
              "\t<tr><th scope=col>&lt;chr&gt;</th><th scope=col>&lt;int&gt;</th><th scope=col>&lt;dbl&gt;</th></tr>\n",
              "</thead>\n",
              "<tbody>\n",
              "\t<tr><td>2015</td><td>21963</td><td>18.42441</td></tr>\n",
              "\t<tr><td>2016</td><td>56623</td><td>47.50013</td></tr>\n",
              "\t<tr><td>2017</td><td>40620</td><td>34.07547</td></tr>\n",
              "</tbody>\n",
              "</table>\n"
            ],
            "text/markdown": "\nA tibble: 3 × 3\n\n| arrival_date_year &lt;chr&gt; | n &lt;int&gt; | percent_yearly_booking &lt;dbl&gt; |\n|---|---|---|\n| 2015 | 21963 | 18.42441 |\n| 2016 | 56623 | 47.50013 |\n| 2017 | 40620 | 34.07547 |\n\n",
            "text/latex": "A tibble: 3 × 3\n\\begin{tabular}{lll}\n arrival\\_date\\_year & n & percent\\_yearly\\_booking\\\\\n <chr> & <int> & <dbl>\\\\\n\\hline\n\t 2015 & 21963 & 18.42441\\\\\n\t 2016 & 56623 & 47.50013\\\\\n\t 2017 & 40620 & 34.07547\\\\\n\\end{tabular}\n",
            "text/plain": [
              "  arrival_date_year n     percent_yearly_booking\n",
              "1 2015              21963 18.42441              \n",
              "2 2016              56623 47.50013              \n",
              "3 2017              40620 34.07547              "
            ]
          },
          "metadata": {}
        }
      ]
    },
    {
      "cell_type": "code",
      "source": [
        "# represent the data on a pie chart\n",
        "ggplot(data=yearly_booking_df, aes(x=\"\", y=percent_yearly_booking, fill=arrival_date_year)) +\n",
        "  geom_bar(\n",
        "    stat=\"identity\", width=0.5, color = \"white\"\n",
        "  ) +\n",
        "  coord_polar(\"y\") + \n",
        "  geom_text(\n",
        "    aes(label = paste0(percent_yearly_booking)), position = position_stack(vjust = 0.5)\n",
        "  ) +\n",
        "  scale_fill_brewer(palette=\"Set1\") +   \n",
        "  labs(\n",
        "    fill = \"year\", \n",
        "    title = \"ratio\"\n",
        "  ) +\n",
        "  theme_void()"
      ],
      "metadata": {
        "colab": {
          "base_uri": "https://localhost:8080/",
          "height": 437
        },
        "id": "v5jKsKqRB-uo",
        "outputId": "a150f29a-f2e5-4e49-d8fa-f86a1e717b99"
      },
      "execution_count": 42,
      "outputs": [
        {
          "output_type": "display_data",
          "data": {
            "text/plain": [
              "plot without title"
            ],
            "image/png": "[encoded data removed]"
          },
          "metadata": {
            "image/png": {
              "width": 420,
              "height": 420
            }
          }
        }
      ]
    },
    {
      "cell_type": "code",
      "source": [
        "# 4. Which were the most busiest months for hotels?\n",
        "# ---\n",
        "# \n",
        "\n",
        "monthly_df <- hotel_booking_clean_df %>% \n",
        "   group_by(arrival_date_month) %>%\n",
        "  summarise(n = n()) %>%\n",
        "  mutate(booking_ratio = n/sum(n)*100)\n",
        "\n",
        "monthly_sort_df<-monthly_df[order(-monthly_df$booking_ratio),]\n",
        "\n",
        "monthly_sort_df"
      ],
      "metadata": {
        "colab": {
          "base_uri": "https://localhost:8080/",
          "height": 474
        },
        "id": "0XVpEW1SCCoo",
        "outputId": "a317af0e-dc31-4319-f3e4-75e89e02f55b"
      },
      "execution_count": 43,
      "outputs": [
        {
          "output_type": "display_data",
          "data": {
            "text/html": [
              "<table class=\"dataframe\">\n",
              "<caption>A tibble: 12 × 3</caption>\n",
              "<thead>\n",
              "\t<tr><th scope=col>arrival_date_month</th><th scope=col>n</th><th scope=col>booking_ratio</th></tr>\n",
              "\t<tr><th scope=col>&lt;chr&gt;</th><th scope=col>&lt;int&gt;</th><th scope=col>&lt;dbl&gt;</th></tr>\n",
              "</thead>\n",
              "<tbody>\n",
              "\t<tr><td>August   </td><td>13857</td><td>11.624415</td></tr>\n",
              "\t<tr><td>July     </td><td>12644</td><td>10.606849</td></tr>\n",
              "\t<tr><td>May      </td><td>11780</td><td> 9.882053</td></tr>\n",
              "\t<tr><td>October  </td><td>11147</td><td> 9.351039</td></tr>\n",
              "\t<tr><td>April    </td><td>11078</td><td> 9.293156</td></tr>\n",
              "\t<tr><td>June     </td><td>10929</td><td> 9.168163</td></tr>\n",
              "\t<tr><td>September</td><td>10500</td><td> 8.808281</td></tr>\n",
              "\t<tr><td>March    </td><td> 9768</td><td> 8.194218</td></tr>\n",
              "\t<tr><td>February </td><td> 8052</td><td> 6.754694</td></tr>\n",
              "\t<tr><td>November </td><td> 6771</td><td> 5.680083</td></tr>\n",
              "\t<tr><td>December </td><td> 6759</td><td> 5.670017</td></tr>\n",
              "\t<tr><td>January  </td><td> 5921</td><td> 4.967032</td></tr>\n",
              "</tbody>\n",
              "</table>\n"
            ],
            "text/markdown": "\nA tibble: 12 × 3\n\n| arrival_date_month &lt;chr&gt; | n &lt;int&gt; | booking_ratio &lt;dbl&gt; |\n|---|---|---|\n| August    | 13857 | 11.624415 |\n| July      | 12644 | 10.606849 |\n| May       | 11780 |  9.882053 |\n| October   | 11147 |  9.351039 |\n| April     | 11078 |  9.293156 |\n| June      | 10929 |  9.168163 |\n| September | 10500 |  8.808281 |\n| March     |  9768 |  8.194218 |\n| February  |  8052 |  6.754694 |\n| November  |  6771 |  5.680083 |\n| December  |  6759 |  5.670017 |\n| January   |  5921 |  4.967032 |\n\n",
            "text/latex": "A tibble: 12 × 3\n\\begin{tabular}{lll}\n arrival\\_date\\_month & n & booking\\_ratio\\\\\n <chr> & <int> & <dbl>\\\\\n\\hline\n\t August    & 13857 & 11.624415\\\\\n\t July      & 12644 & 10.606849\\\\\n\t May       & 11780 &  9.882053\\\\\n\t October   & 11147 &  9.351039\\\\\n\t April     & 11078 &  9.293156\\\\\n\t June      & 10929 &  9.168163\\\\\n\t September & 10500 &  8.808281\\\\\n\t March     &  9768 &  8.194218\\\\\n\t February  &  8052 &  6.754694\\\\\n\t November  &  6771 &  5.680083\\\\\n\t December  &  6759 &  5.670017\\\\\n\t January   &  5921 &  4.967032\\\\\n\\end{tabular}\n",
            "text/plain": [
              "   arrival_date_month n     booking_ratio\n",
              "1  August             13857 11.624415    \n",
              "2  July               12644 10.606849    \n",
              "3  May                11780  9.882053    \n",
              "4  October            11147  9.351039    \n",
              "5  April              11078  9.293156    \n",
              "6  June               10929  9.168163    \n",
              "7  September          10500  8.808281    \n",
              "8  March               9768  8.194218    \n",
              "9  February            8052  6.754694    \n",
              "10 November            6771  5.680083    \n",
              "11 December            6759  5.670017    \n",
              "12 January             5921  4.967032    "
            ]
          },
          "metadata": {}
        }
      ]
    },
    {
      "cell_type": "code",
      "source": [
        "# 5. From which top 3 countries did most guests come from?\n",
        "# --- \n",
        "# YOUR GOES BELOW\n",
        "#\n",
        "#summarize number of guests per country\n",
        "countries_df <- hotel_booking_clean_df %>%\n",
        "  group_by(country) %>%\n",
        "  summarize(guests = sum(adults, children, babies))\n",
        "#sort the countries guests in desceding order \n",
        "most_guests_per_country <- countries_df[order(-countries_df$guests),]"
      ],
      "metadata": {
        "id": "ECzJcT9oCEk-"
      },
      "execution_count": 44,
      "outputs": []
    },
    {
      "cell_type": "code",
      "source": [
        "#select the 3 countries with the highest number of guests\n",
        "\n",
        "head(most_guests_per_country, 3)"
      ],
      "metadata": {
        "colab": {
          "base_uri": "https://localhost:8080/",
          "height": 192
        },
        "id": "KhiOSljTCL1g",
        "outputId": "43c01418-c3f2-4a85-c3fb-812eef105994"
      },
      "execution_count": 45,
      "outputs": [
        {
          "output_type": "display_data",
          "data": {
            "text/html": [
              "<table class=\"dataframe\">\n",
              "<caption>A tibble: 3 × 2</caption>\n",
              "<thead>\n",
              "\t<tr><th scope=col>country</th><th scope=col>guests</th></tr>\n",
              "\t<tr><th scope=col>&lt;chr&gt;</th><th scope=col>&lt;int&gt;</th></tr>\n",
              "</thead>\n",
              "<tbody>\n",
              "\t<tr><td>PRT</td><td>90027</td></tr>\n",
              "\t<tr><td>GBR</td><td>24568</td></tr>\n",
              "\t<tr><td>FRA</td><td>21579</td></tr>\n",
              "</tbody>\n",
              "</table>\n"
            ],
            "text/markdown": "\nA tibble: 3 × 2\n\n| country &lt;chr&gt; | guests &lt;int&gt; |\n|---|---|\n| PRT | 90027 |\n| GBR | 24568 |\n| FRA | 21579 |\n\n",
            "text/latex": "A tibble: 3 × 2\n\\begin{tabular}{ll}\n country & guests\\\\\n <chr> & <int>\\\\\n\\hline\n\t PRT & 90027\\\\\n\t GBR & 24568\\\\\n\t FRA & 21579\\\\\n\\end{tabular}\n",
            "text/plain": [
              "  country guests\n",
              "1 PRT     90027 \n",
              "2 GBR     24568 \n",
              "3 FRA     21579 "
            ]
          },
          "metadata": {}
        }
      ]
    },
    {
      "cell_type": "code",
      "source": [
        "# 6.a) How long do most people stay in hotels?\n",
        "#   b) By city and resort? Separate the data by hotel\n",
        "\n",
        "weekend_df <- hotel_booking_clean_df %>%\n",
        "  group_by(hotel) %>%\n",
        "  summarize(avg_guest_weekend = mean(stays_in_weekend_nights))\n",
        "     #                  \n",
        "week_df <- hotel_booking_clean_df %>%\n",
        "  group_by(hotel) %>%\n",
        "  summarize(avy_guest_week = mean(stays_in_week_nights))\n",
        "duration_df <- merge(week_df,weekend_df,by=\"hotel\")\n",
        "duration_df"
      ],
      "metadata": {
        "colab": {
          "base_uri": "https://localhost:8080/",
          "height": 161
        },
        "id": "whbR3J3hCReu",
        "outputId": "b5fed56b-c5e9-4acb-aade-924675930eb6"
      },
      "execution_count": 46,
      "outputs": [
        {
          "output_type": "display_data",
          "data": {
            "text/html": [
              "<table class=\"dataframe\">\n",
              "<caption>A data.frame: 2 × 3</caption>\n",
              "<thead>\n",
              "\t<tr><th scope=col>hotel</th><th scope=col>avy_guest_week</th><th scope=col>avg_guest_weekend</th></tr>\n",
              "\t<tr><th scope=col>&lt;chr&gt;</th><th scope=col>&lt;dbl&gt;</th><th scope=col>&lt;dbl&gt;</th></tr>\n",
              "</thead>\n",
              "<tbody>\n",
              "\t<tr><td>City Hotel  </td><td>2.180813</td><td>0.7941232</td></tr>\n",
              "\t<tr><td>Resort Hotel</td><td>3.128549</td><td>1.1898270</td></tr>\n",
              "</tbody>\n",
              "</table>\n"
            ],
            "text/markdown": "\nA data.frame: 2 × 3\n\n| hotel &lt;chr&gt; | avy_guest_week &lt;dbl&gt; | avg_guest_weekend &lt;dbl&gt; |\n|---|---|---|\n| City Hotel   | 2.180813 | 0.7941232 |\n| Resort Hotel | 3.128549 | 1.1898270 |\n\n",
            "text/latex": "A data.frame: 2 × 3\n\\begin{tabular}{lll}\n hotel & avy\\_guest\\_week & avg\\_guest\\_weekend\\\\\n <chr> & <dbl> & <dbl>\\\\\n\\hline\n\t City Hotel   & 2.180813 & 0.7941232\\\\\n\t Resort Hotel & 3.128549 & 1.1898270\\\\\n\\end{tabular}\n",
            "text/plain": [
              "  hotel        avy_guest_week avg_guest_weekend\n",
              "1 City Hotel   2.180813       0.7941232        \n",
              "2 Resort Hotel 3.128549       1.1898270        "
            ]
          },
          "metadata": {}
        }
      ]
    },
    {
      "cell_type": "markdown",
      "source": [
        "### 5.b) Recommendations\n",
        "From the above analysis, below are our recommendations:\n",
        "1. on the month of July and August , the number of visitor is optimal and thus the hotel need to use this time to maximase profif.\n",
        "2. on months like December when we expect visitor to hike, due to amny holidays, the data shows that the occupancy is usually very low, this is an area where the hotel need to capitalize by offering affordable offers.\n",
        "3. city hotels have a higher booking compared to resort hotel. However, the average duration of stay is higher is resort than city hotel, in this, the hotel management need to make city hotels expensive than resort hotels since thay are for short term.\n"
      ],
      "metadata": {
        "id": "g9o4VL6TCcXA"
      }
    },
    {
      "cell_type": "markdown",
      "source": [
        "## 6. Challenging your Solution\n",
        "In this step, we review our solution and implement approaches that could potentially provide a better outcome. In our case, we could propose the following question that wasn't answered in our solution because it couldn't have greatly contributed to our recommendation.\n"
      ],
      "metadata": {
        "id": "8QIGp90eChIe"
      }
    },
    {
      "cell_type": "code",
      "source": [
        "# When should hotels provide special offers?\n",
        "# offers should be when booking is at its lowest:-\n",
        "monthly_df <- hotel_booking_clean_df %>% \n",
        "   group_by(arrival_date_month) %>%\n",
        "  summarise(n = n()) %>%\n",
        "  mutate(booking_ratio = n/sum(n)*100)\n",
        "\n",
        "monthly_sort_df<-monthly_df[order(monthly_df$booking_ratio),]\n",
        "\n",
        "monthly_sort_df"
      ],
      "metadata": {
        "colab": {
          "base_uri": "https://localhost:8080/",
          "height": 474
        },
        "id": "4Qzaq5lJCZri",
        "outputId": "c2f8df5b-ac89-44c1-ddfc-b11683eeb308"
      },
      "execution_count": 47,
      "outputs": [
        {
          "output_type": "display_data",
          "data": {
            "text/html": [
              "<table class=\"dataframe\">\n",
              "<caption>A tibble: 12 × 3</caption>\n",
              "<thead>\n",
              "\t<tr><th scope=col>arrival_date_month</th><th scope=col>n</th><th scope=col>booking_ratio</th></tr>\n",
              "\t<tr><th scope=col>&lt;chr&gt;</th><th scope=col>&lt;int&gt;</th><th scope=col>&lt;dbl&gt;</th></tr>\n",
              "</thead>\n",
              "<tbody>\n",
              "\t<tr><td>January  </td><td> 5921</td><td> 4.967032</td></tr>\n",
              "\t<tr><td>December </td><td> 6759</td><td> 5.670017</td></tr>\n",
              "\t<tr><td>November </td><td> 6771</td><td> 5.680083</td></tr>\n",
              "\t<tr><td>February </td><td> 8052</td><td> 6.754694</td></tr>\n",
              "\t<tr><td>March    </td><td> 9768</td><td> 8.194218</td></tr>\n",
              "\t<tr><td>September</td><td>10500</td><td> 8.808281</td></tr>\n",
              "\t<tr><td>June     </td><td>10929</td><td> 9.168163</td></tr>\n",
              "\t<tr><td>April    </td><td>11078</td><td> 9.293156</td></tr>\n",
              "\t<tr><td>October  </td><td>11147</td><td> 9.351039</td></tr>\n",
              "\t<tr><td>May      </td><td>11780</td><td> 9.882053</td></tr>\n",
              "\t<tr><td>July     </td><td>12644</td><td>10.606849</td></tr>\n",
              "\t<tr><td>August   </td><td>13857</td><td>11.624415</td></tr>\n",
              "</tbody>\n",
              "</table>\n"
            ],
            "text/markdown": "\nA tibble: 12 × 3\n\n| arrival_date_month &lt;chr&gt; | n &lt;int&gt; | booking_ratio &lt;dbl&gt; |\n|---|---|---|\n| January   |  5921 |  4.967032 |\n| December  |  6759 |  5.670017 |\n| November  |  6771 |  5.680083 |\n| February  |  8052 |  6.754694 |\n| March     |  9768 |  8.194218 |\n| September | 10500 |  8.808281 |\n| June      | 10929 |  9.168163 |\n| April     | 11078 |  9.293156 |\n| October   | 11147 |  9.351039 |\n| May       | 11780 |  9.882053 |\n| July      | 12644 | 10.606849 |\n| August    | 13857 | 11.624415 |\n\n",
            "text/latex": "A tibble: 12 × 3\n\\begin{tabular}{lll}\n arrival\\_date\\_month & n & booking\\_ratio\\\\\n <chr> & <int> & <dbl>\\\\\n\\hline\n\t January   &  5921 &  4.967032\\\\\n\t December  &  6759 &  5.670017\\\\\n\t November  &  6771 &  5.680083\\\\\n\t February  &  8052 &  6.754694\\\\\n\t March     &  9768 &  8.194218\\\\\n\t September & 10500 &  8.808281\\\\\n\t June      & 10929 &  9.168163\\\\\n\t April     & 11078 &  9.293156\\\\\n\t October   & 11147 &  9.351039\\\\\n\t May       & 11780 &  9.882053\\\\\n\t July      & 12644 & 10.606849\\\\\n\t August    & 13857 & 11.624415\\\\\n\\end{tabular}\n",
            "text/plain": [
              "   arrival_date_month n     booking_ratio\n",
              "1  January             5921  4.967032    \n",
              "2  December            6759  5.670017    \n",
              "3  November            6771  5.680083    \n",
              "4  February            8052  6.754694    \n",
              "5  March               9768  8.194218    \n",
              "6  September          10500  8.808281    \n",
              "7  June               10929  9.168163    \n",
              "8  April              11078  9.293156    \n",
              "9  October            11147  9.351039    \n",
              "10 May                11780  9.882053    \n",
              "11 July               12644 10.606849    \n",
              "12 August             13857 11.624415    "
            ]
          },
          "metadata": {}
        }
      ]
    },
    {
      "cell_type": "markdown",
      "source": [
        "**Our observations:**\n",
        "* Bookings are lowest in November, December, January and February\n",
        "\n",
        "* The higher the bookings, the more the profit, so, by encouranging more bookings, the hotel will gain higher profit"
      ],
      "metadata": {
        "id": "BSxlI19PCnkp"
      }
    },
    {
      "cell_type": "markdown",
      "source": [
        "##7. Follow up questions\n",
        "During this step, you rethink and propose other ways that you can improve your solution.\n",
        "\n",
        "a. Did we have the right data? yes\n",
        "\n",
        "b. Do we need other data to answer our question? yes, the room type was not clear.\n",
        "\n",
        "c. Did we have the right question? yes"
      ],
      "metadata": {
        "id": "4sDPNzKPCw3I"
      }
    }
  ]
}